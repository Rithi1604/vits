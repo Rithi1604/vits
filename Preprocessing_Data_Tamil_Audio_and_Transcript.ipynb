{
  "nbformat": 4,
  "nbformat_minor": 0,
  "metadata": {
    "colab": {
      "provenance": []
    },
    "kernelspec": {
      "name": "python3",
      "display_name": "Python 3"
    },
    "language_info": {
      "name": "python"
    }
  },
  "cells": [
    {
      "cell_type": "code",
      "execution_count": null,
      "metadata": {
        "colab": {
          "base_uri": "https://localhost:8080/"
        },
        "id": "s7wdk8-mB2ho",
        "outputId": "f722e93a-e222-4ab1-dc92-5bdcaa043b62"
      },
      "outputs": [
        {
          "output_type": "stream",
          "name": "stdout",
          "text": [
            "Mounted at /content/drive\n"
          ]
        }
      ],
      "source": [
        "from google.colab import drive\n",
        "drive.mount('/content/drive')"
      ]
    },
    {
      "cell_type": "code",
      "source": [
        "!pip install pydub"
      ],
      "metadata": {
        "colab": {
          "base_uri": "https://localhost:8080/"
        },
        "id": "aB8S9E2cDCuB",
        "outputId": "8e48ce68-b8a0-4fe9-d298-298012a9350a"
      },
      "execution_count": null,
      "outputs": [
        {
          "output_type": "stream",
          "name": "stdout",
          "text": [
            "Collecting pydub\n",
            "  Downloading pydub-0.25.1-py2.py3-none-any.whl.metadata (1.4 kB)\n",
            "Downloading pydub-0.25.1-py2.py3-none-any.whl (32 kB)\n",
            "Installing collected packages: pydub\n",
            "Successfully installed pydub-0.25.1\n"
          ]
        }
      ]
    },
    {
      "cell_type": "code",
      "source": [
        "from pydub import AudioSegment\n",
        "import os\n",
        "\n",
        "\n",
        "target_sample_rate = 16000\n",
        "audio_dir = \"/content/drive/My Drive/Tamil_Audio\"\n",
        "processed_audio_dir = \"/content/drive/My Drive/Tamil_Audio_Processed\"\n",
        "os.makedirs(processed_audio_dir, exist_ok=True)\n",
        "\n",
        "# Normalize and convert each audio file\n",
        "for filename in os.listdir(audio_dir):\n",
        "    if filename.endswith(\".wav\"):\n",
        "        audio_path = os.path.join(audio_dir, filename)\n",
        "        audio = AudioSegment.from_wav(audio_path)\n",
        "\n",
        "        # Normalize the audio\n",
        "        audio = audio.set_frame_rate(target_sample_rate).normalize()\n",
        "\n",
        "        # Export to processed folder\n",
        "        audio.export(os.path.join(processed_audio_dir, filename), format=\"wav\")\n",
        "\n",
        "print(\"Audio files have been normalized and saved to:\", processed_audio_dir)\n"
      ],
      "metadata": {
        "colab": {
          "base_uri": "https://localhost:8080/"
        },
        "id": "RpBhPGHUC0Zx",
        "outputId": "9e229a57-1f08-4d3b-bda3-f191fde510a8"
      },
      "execution_count": null,
      "outputs": [
        {
          "output_type": "stream",
          "name": "stdout",
          "text": [
            "Audio files have been normalized and saved to: /content/drive/My Drive/Tamil_Audio_Processed\n"
          ]
        }
      ]
    },
    {
      "cell_type": "code",
      "source": [
        "import os\n",
        "import shutil\n",
        "\n",
        "# Directories\n",
        "audio_dir = \"/content/drive/My Drive/Tamil_Audio\"  # Original directory with .wav and .txt files\n",
        "processed_audio_dir = \"/content/drive/My Drive/Tamil_Audio_Processed\"  # Directory with processed audio files\n",
        "\n",
        "# Copy corresponding .txt files to processed directory\n",
        "for filename in os.listdir(processed_audio_dir):\n",
        "    if filename.endswith(\".wav\"):\n",
        "        file_base = filename[:-4]  # Remove .wav extension\n",
        "        transcript_filename = f\"{file_base}.txt\"\n",
        "        transcript_path = os.path.join(audio_dir, transcript_filename)\n",
        "\n",
        "        # Check if the transcript exists in the original directory\n",
        "        if os.path.exists(transcript_path):\n",
        "            shutil.copy(transcript_path, processed_audio_dir)\n",
        "            print(f\"Copied {transcript_filename} to {processed_audio_dir}\")\n",
        "        else:\n",
        "            print(f\"Transcript {transcript_filename} not found in {audio_dir}\")\n",
        "\n",
        "print(\"All corresponding .txt files have been added to Tamil_Audio_Processed.\")\n"
      ],
      "metadata": {
        "id": "YS7CoYw4DEJn",
        "colab": {
          "base_uri": "https://localhost:8080/"
        },
        "outputId": "709aa92a-1d92-400b-d4f2-3666ad584808"
      },
      "execution_count": null,
      "outputs": [
        {
          "output_type": "stream",
          "name": "stdout",
          "text": [
            "Copied 281474976896579_f1493_chunk_0.txt to /content/drive/My Drive/Tamil_Audio_Processed\n",
            "Copied 281474976896574_f1497_chunk_0.txt to /content/drive/My Drive/Tamil_Audio_Processed\n",
            "Copied 281474976903205_f1348_chunk_0.txt to /content/drive/My Drive/Tamil_Audio_Processed\n",
            "Copied 281474976903218_f1184_chunk_0.txt to /content/drive/My Drive/Tamil_Audio_Processed\n",
            "Copied 281474976884346_f8_chunk_0.txt to /content/drive/My Drive/Tamil_Audio_Processed\n",
            "Copied 281474976897640_f118_chunk_0.txt to /content/drive/My Drive/Tamil_Audio_Processed\n",
            "Copied 281474976897635_f3014_chunk_0.txt to /content/drive/My Drive/Tamil_Audio_Processed\n",
            "Copied 281474976897639_f2713_chunk_0.txt to /content/drive/My Drive/Tamil_Audio_Processed\n",
            "Copied 281474976899497_f2611_chunk_0.txt to /content/drive/My Drive/Tamil_Audio_Processed\n",
            "Copied 281474976903199_f1343_chunk_0.txt to /content/drive/My Drive/Tamil_Audio_Processed\n",
            "Copied 281474976896211_f667_chunk_0.txt to /content/drive/My Drive/Tamil_Audio_Processed\n",
            "Copied 281474976897627_f2417_chunk_0.txt to /content/drive/My Drive/Tamil_Audio_Processed\n",
            "Copied 281474976897634_f275_chunk_0.txt to /content/drive/My Drive/Tamil_Audio_Processed\n",
            "Copied 281474976896574_f2337_chunk_0.txt to /content/drive/My Drive/Tamil_Audio_Processed\n",
            "Copied 281474976886810_f1861_chunk_4.txt to /content/drive/My Drive/Tamil_Audio_Processed\n",
            "Copied 281474976903210_f1346_chunk_0.txt to /content/drive/My Drive/Tamil_Audio_Processed\n",
            "Copied 281474976903200_f1345_chunk_0.txt to /content/drive/My Drive/Tamil_Audio_Processed\n",
            "Copied 281474976897631_f2916_chunk_0.txt to /content/drive/My Drive/Tamil_Audio_Processed\n",
            "Copied 281474976897633_f276_chunk_0.txt to /content/drive/My Drive/Tamil_Audio_Processed\n",
            "Copied 281474976896207_f137_chunk_0.txt to /content/drive/My Drive/Tamil_Audio_Processed\n",
            "Copied 281474976897631_f970_chunk_0.txt to /content/drive/My Drive/Tamil_Audio_Processed\n",
            "Copied 281474976897639_f1023_chunk_0.txt to /content/drive/My Drive/Tamil_Audio_Processed\n",
            "Copied 281474976897628_f945_chunk_0.txt to /content/drive/My Drive/Tamil_Audio_Processed\n",
            "Copied 281474976897629_f971_chunk_0.txt to /content/drive/My Drive/Tamil_Audio_Processed\n",
            "Copied 281474976897632_f307_chunk_0.txt to /content/drive/My Drive/Tamil_Audio_Processed\n",
            "Copied 281474976899483_f1093_chunk_0.txt to /content/drive/My Drive/Tamil_Audio_Processed\n",
            "Copied 281474976896215_f2515_chunk_0.txt to /content/drive/My Drive/Tamil_Audio_Processed\n",
            "Copied 281474976896219_f244_chunk_0.txt to /content/drive/My Drive/Tamil_Audio_Processed\n",
            "Copied 281474976903206_f1342_chunk_0.txt to /content/drive/My Drive/Tamil_Audio_Processed\n",
            "Copied 281474976896576_f1494_chunk_0.txt to /content/drive/My Drive/Tamil_Audio_Processed\n",
            "Copied 281474976897627_f942_chunk_0.txt to /content/drive/My Drive/Tamil_Audio_Processed\n",
            "Copied 281474976896581_f1492_chunk_0.txt to /content/drive/My Drive/Tamil_Audio_Processed\n",
            "Copied 281474976899488_f2695_chunk_0.txt to /content/drive/My Drive/Tamil_Audio_Processed\n",
            "Copied 281474976903204_f1344_chunk_0.txt to /content/drive/My Drive/Tamil_Audio_Processed\n",
            "Copied 281474976903218_f2347_chunk_0.txt to /content/drive/My Drive/Tamil_Audio_Processed\n",
            "Copied 281474976903215_f2346_chunk_0.txt to /content/drive/My Drive/Tamil_Audio_Processed\n",
            "Copied 281474976896583_f1501_chunk_0.txt to /content/drive/My Drive/Tamil_Audio_Processed\n",
            "Copied 281474976903215_f1347_chunk_0.txt to /content/drive/My Drive/Tamil_Audio_Processed\n",
            "Copied 281474976897635_f969_chunk_0.txt to /content/drive/My Drive/Tamil_Audio_Processed\n",
            "Copied 281474976896575_f1496_chunk_0.txt to /content/drive/My Drive/Tamil_Audio_Processed\n",
            "Copied 281474976896222_f3039_chunk_0.txt to /content/drive/My Drive/Tamil_Audio_Processed\n",
            "Copied 281474976896568_f1498_chunk_0.txt to /content/drive/My Drive/Tamil_Audio_Processed\n",
            "Copied 281474976884259_f1799_chunk_1.txt to /content/drive/My Drive/Tamil_Audio_Processed\n",
            "Copied 281474976898386_f2112_chunk_0.txt to /content/drive/My Drive/Tamil_Audio_Processed\n",
            "Copied 281474976896573_f1495_chunk_0.txt to /content/drive/My Drive/Tamil_Audio_Processed\n",
            "Copied 281474976903209_f2772_chunk_0.txt to /content/drive/My Drive/Tamil_Audio_Processed\n",
            "Copied 281474976884236_f1316_chunk_0.txt to /content/drive/My Drive/Tamil_Audio_Processed\n",
            "Copied 281474976897662_f1995_chunk_3.txt to /content/drive/My Drive/Tamil_Audio_Processed\n",
            "Copied 281474976898393_f1814_chunk_1.txt to /content/drive/My Drive/Tamil_Audio_Processed\n",
            "Copied 281474976886810_f1861_chunk_3.txt to /content/drive/My Drive/Tamil_Audio_Processed\n",
            "Copied 281474976897662_f1995_chunk_2.txt to /content/drive/My Drive/Tamil_Audio_Processed\n",
            "Copied 281474976896209_f2852_chunk_0.txt to /content/drive/My Drive/Tamil_Audio_Processed\n",
            "Copied 281474976899491_f1095_chunk_0.txt to /content/drive/My Drive/Tamil_Audio_Processed\n",
            "Copied 281474976903202_f1341_chunk_0.txt to /content/drive/My Drive/Tamil_Audio_Processed\n",
            "Copied 281474976896582_f1500_chunk_0.txt to /content/drive/My Drive/Tamil_Audio_Processed\n",
            "Copied 281474976896224_f672_chunk_0.txt to /content/drive/My Drive/Tamil_Audio_Processed\n",
            "Copied 281474976899502_f1094_chunk_0.txt to /content/drive/My Drive/Tamil_Audio_Processed\n",
            "Copied 281474976896568_f2336_chunk_0.txt to /content/drive/My Drive/Tamil_Audio_Processed\n",
            "Copied 281474976899485_f1096_chunk_0.txt to /content/drive/My Drive/Tamil_Audio_Processed\n",
            "Copied 281474976896216_f826_chunk_0.txt to /content/drive/My Drive/Tamil_Audio_Processed\n",
            "Copied 281474976896585_f2339_chunk_0.txt to /content/drive/My Drive/Tamil_Audio_Processed\n",
            "Copied 281474976884349_f1690_chunk_3.txt to /content/drive/My Drive/Tamil_Audio_Processed\n",
            "Copied 281474976886810_f1861_chunk_2.txt to /content/drive/My Drive/Tamil_Audio_Processed\n",
            "Copied 281474976899496_f175_chunk_0.txt to /content/drive/My Drive/Tamil_Audio_Processed\n",
            "Copied 281474976899499_f703_chunk_0.txt to /content/drive/My Drive/Tamil_Audio_Processed\n",
            "Copied 281474976899495_f2610_chunk_0.txt to /content/drive/My Drive/Tamil_Audio_Processed\n",
            "Copied 281474976886810_f1861_chunk_0.txt to /content/drive/My Drive/Tamil_Audio_Processed\n",
            "Copied 281474976886861_f1932_chunk_0.txt to /content/drive/My Drive/Tamil_Audio_Processed\n",
            "Copied 281474976896217_f642_chunk_0.txt to /content/drive/My Drive/Tamil_Audio_Processed\n",
            "Copied 281474976886861_f1932_chunk_2.txt to /content/drive/My Drive/Tamil_Audio_Processed\n",
            "Copied 281474976899489_f595_chunk_0.txt to /content/drive/My Drive/Tamil_Audio_Processed\n",
            "Copied 281474976896220_f785_chunk_0.txt to /content/drive/My Drive/Tamil_Audio_Processed\n",
            "Copied 281474976884255_f1323_chunk_0.txt to /content/drive/My Drive/Tamil_Audio_Processed\n",
            "Copied 281474976886861_f1932_chunk_4.txt to /content/drive/My Drive/Tamil_Audio_Processed\n",
            "Copied 281474976884349_f1690_chunk_1.txt to /content/drive/My Drive/Tamil_Audio_Processed\n",
            "Copied 281474976896212_f243_chunk_0.txt to /content/drive/My Drive/Tamil_Audio_Processed\n",
            "Copied 281474976903209_f1349_chunk_0.txt to /content/drive/My Drive/Tamil_Audio_Processed\n",
            "Copied 281474976886861_f1932_chunk_3.txt to /content/drive/My Drive/Tamil_Audio_Processed\n",
            "Copied 281474976896223_f2853_chunk_0.txt to /content/drive/My Drive/Tamil_Audio_Processed\n",
            "Copied 281474976884328_f54_chunk_0.txt to /content/drive/My Drive/Tamil_Audio_Processed\n",
            "Copied 281474976897629_f3015_chunk_0.txt to /content/drive/My Drive/Tamil_Audio_Processed\n",
            "Copied 281474976899500_f1097_chunk_0.txt to /content/drive/My Drive/Tamil_Audio_Processed\n",
            "Copied 281474976899484_f1092_chunk_0.txt to /content/drive/My Drive/Tamil_Audio_Processed\n",
            "Copied 281474976886815_f1980_chunk_5.txt to /content/drive/My Drive/Tamil_Audio_Processed\n",
            "Copied 281474976884573_f599_chunk_0.txt to /content/drive/My Drive/Tamil_Audio_Processed\n",
            "Copied 281474976886861_f1932_chunk_1.txt to /content/drive/My Drive/Tamil_Audio_Processed\n",
            "Copied 281474976896225_f3038_chunk_0.txt to /content/drive/My Drive/Tamil_Audio_Processed\n",
            "Copied 281474976884273_f1982_chunk_0.txt to /content/drive/My Drive/Tamil_Audio_Processed\n",
            "Copied 281474976903180_f2344_chunk_0.txt to /content/drive/My Drive/Tamil_Audio_Processed\n",
            "Copied 281474976896226_f368_chunk_0.txt to /content/drive/My Drive/Tamil_Audio_Processed\n",
            "Copied 281474976899487_f1098_chunk_0.txt to /content/drive/My Drive/Tamil_Audio_Processed\n",
            "Copied 281474976886817_f1675_chunk_1.txt to /content/drive/My Drive/Tamil_Audio_Processed\n",
            "Copied 281474976896218_f2637_chunk_0.txt to /content/drive/My Drive/Tamil_Audio_Processed\n",
            "Copied 281474976897662_f1995_chunk_1.txt to /content/drive/My Drive/Tamil_Audio_Processed\n",
            "Copied 281474976896585_f1499_chunk_0.txt to /content/drive/My Drive/Tamil_Audio_Processed\n",
            "Copied 281474976897662_f1995_chunk_0.txt to /content/drive/My Drive/Tamil_Audio_Processed\n",
            "Copied 281474976886810_f1861_chunk_1.txt to /content/drive/My Drive/Tamil_Audio_Processed\n",
            "Copied 281474976884357_f1781_chunk_2.txt to /content/drive/My Drive/Tamil_Audio_Processed\n",
            "Copied 281474976896221_f242_chunk_0.txt to /content/drive/My Drive/Tamil_Audio_Processed\n",
            "Copied 281474976896581_f2338_chunk_0.txt to /content/drive/My Drive/Tamil_Audio_Processed\n",
            "Copied 281474976884349_f1690_chunk_4.txt to /content/drive/My Drive/Tamil_Audio_Processed\n",
            "Copied 281474976884349_f1690_chunk_0.txt to /content/drive/My Drive/Tamil_Audio_Processed\n",
            "Copied 281474976884349_f1690_chunk_2.txt to /content/drive/My Drive/Tamil_Audio_Processed\n",
            "Copied 281474976903180_f802_chunk_0.txt to /content/drive/My Drive/Tamil_Audio_Processed\n",
            "Copied 281474976886788_f806_chunk_0.txt to /content/drive/My Drive/Tamil_Audio_Processed\n",
            "Copied 281474976899464_f1086_chunk_0.txt to /content/drive/My Drive/Tamil_Audio_Processed\n",
            "Copied 281474976903198_f2348_chunk_1.txt to /content/drive/My Drive/Tamil_Audio_Processed\n",
            "Copied 281474976884552_f437_chunk_0.txt to /content/drive/My Drive/Tamil_Audio_Processed\n",
            "Copied 281474976886844_f2638_chunk_0.txt to /content/drive/My Drive/Tamil_Audio_Processed\n",
            "Copied 281474976884329_f745_chunk_0.txt to /content/drive/My Drive/Tamil_Audio_Processed\n",
            "Copied 281474976886820_f2271_chunk_4.txt to /content/drive/My Drive/Tamil_Audio_Processed\n",
            "Copied 281474976888214_f2979_chunk_0.txt to /content/drive/My Drive/Tamil_Audio_Processed\n",
            "Copied 281474976897615_f2683_chunk_0.txt to /content/drive/My Drive/Tamil_Audio_Processed\n",
            "Copied 281474976884266_f1681_chunk_3.txt to /content/drive/My Drive/Tamil_Audio_Processed\n",
            "Copied 281474976884273_f1982_chunk_3.txt to /content/drive/My Drive/Tamil_Audio_Processed\n",
            "Copied 281474976898393_f1814_chunk_4.txt to /content/drive/My Drive/Tamil_Audio_Processed\n",
            "Copied 281474976884359_f2087_chunk_1.txt to /content/drive/My Drive/Tamil_Audio_Processed\n",
            "Copied 281474976903187_f2699_chunk_1.txt to /content/drive/My Drive/Tamil_Audio_Processed\n",
            "Copied 281474976886843_f200_chunk_0.txt to /content/drive/My Drive/Tamil_Audio_Processed\n",
            "Copied 281474976898387_f2202_chunk_1.txt to /content/drive/My Drive/Tamil_Audio_Processed\n",
            "Copied 281474976884366_f2021_chunk_0.txt to /content/drive/My Drive/Tamil_Audio_Processed\n",
            "Copied 281474976886870_f3336_chunk_1.txt to /content/drive/My Drive/Tamil_Audio_Processed\n",
            "Copied 281474976886817_f1675_chunk_0.txt to /content/drive/My Drive/Tamil_Audio_Processed\n",
            "Copied 281474976897611_f2416_chunk_0.txt to /content/drive/My Drive/Tamil_Audio_Processed\n",
            "Copied 281474976888231_f1490_chunk_1.txt to /content/drive/My Drive/Tamil_Audio_Processed\n",
            "Copied 281474976898387_f2202_chunk_0.txt to /content/drive/My Drive/Tamil_Audio_Processed\n",
            "Copied 281474976897611_f277_chunk_0.txt to /content/drive/My Drive/Tamil_Audio_Processed\n",
            "Copied 281474976899467_f1087_chunk_0.txt to /content/drive/My Drive/Tamil_Audio_Processed\n",
            "Copied 281474976888213_f2768_chunk_0.txt to /content/drive/My Drive/Tamil_Audio_Processed\n",
            "Copied 281474976897615_f278_chunk_0.txt to /content/drive/My Drive/Tamil_Audio_Processed\n",
            "Copied 281474976903177_f2345_chunk_0.txt to /content/drive/My Drive/Tamil_Audio_Processed\n",
            "Copied 281474976886895_f90_chunk_0.txt to /content/drive/My Drive/Tamil_Audio_Processed\n",
            "Copied 281474976903181_f913_chunk_0.txt to /content/drive/My Drive/Tamil_Audio_Processed\n",
            "Copied 281474976897653_f3127_chunk_0.txt to /content/drive/My Drive/Tamil_Audio_Processed\n",
            "Copied 281474976886820_f2271_chunk_3.txt to /content/drive/My Drive/Tamil_Audio_Processed\n",
            "Copied 281474976886872_f2204_chunk_1.txt to /content/drive/My Drive/Tamil_Audio_Processed\n",
            "Copied 281474976886877_f3160_chunk_2.txt to /content/drive/My Drive/Tamil_Audio_Processed\n",
            "Copied 281474976884357_f1781_chunk_0.txt to /content/drive/My Drive/Tamil_Audio_Processed\n",
            "Copied 281474976897653_f1813_chunk_0.txt to /content/drive/My Drive/Tamil_Audio_Processed\n",
            "Copied 281474976884356_f1978_chunk_1.txt to /content/drive/My Drive/Tamil_Audio_Processed\n",
            "Copied 281474976886841_f366_chunk_0.txt to /content/drive/My Drive/Tamil_Audio_Processed\n",
            "Copied 281474976899463_f2608_chunk_0.txt to /content/drive/My Drive/Tamil_Audio_Processed\n",
            "Copied 281474976884366_f2021_chunk_3.txt to /content/drive/My Drive/Tamil_Audio_Processed\n",
            "Copied 281474976884264_f1680_chunk_0.txt to /content/drive/My Drive/Tamil_Audio_Processed\n",
            "Copied 281474976886896_f765_chunk_0.txt to /content/drive/My Drive/Tamil_Audio_Processed\n",
            "Copied 281474976899507_f2300_chunk_0.txt to /content/drive/My Drive/Tamil_Audio_Processed\n",
            "Copied 281474976898393_f1814_chunk_2.txt to /content/drive/My Drive/Tamil_Audio_Processed\n",
            "Copied 281474976888214_f1485_chunk_0.txt to /content/drive/My Drive/Tamil_Audio_Processed\n",
            "Copied 281474976886867_f1856_chunk_0.txt to /content/drive/My Drive/Tamil_Audio_Processed\n",
            "Copied 281474976886864_f3159_chunk_0.txt to /content/drive/My Drive/Tamil_Audio_Processed\n",
            "Copied 281474976886793_f1328_chunk_1.txt to /content/drive/My Drive/Tamil_Audio_Processed\n",
            "Copied 281474976888213_f1181_chunk_0.txt to /content/drive/My Drive/Tamil_Audio_Processed\n",
            "Copied 281474976899470_f788_chunk_0.txt to /content/drive/My Drive/Tamil_Audio_Processed\n",
            "Copied 281474976884560_f20_chunk_0.txt to /content/drive/My Drive/Tamil_Audio_Processed\n",
            "Copied 281474976884366_f2021_chunk_2.txt to /content/drive/My Drive/Tamil_Audio_Processed\n",
            "Copied 281474976884267_f1694_chunk_3.txt to /content/drive/My Drive/Tamil_Audio_Processed\n",
            "Copied 281474976884366_f2021_chunk_1.txt to /content/drive/My Drive/Tamil_Audio_Processed\n",
            "Copied 281474976884267_f1694_chunk_1.txt to /content/drive/My Drive/Tamil_Audio_Processed\n",
            "Copied 281474976884364_f1979_chunk_5.txt to /content/drive/My Drive/Tamil_Audio_Processed\n",
            "Copied 281474976886877_f3160_chunk_3.txt to /content/drive/My Drive/Tamil_Audio_Processed\n",
            "Copied 281474976884357_f1781_chunk_1.txt to /content/drive/My Drive/Tamil_Audio_Processed\n",
            "Copied 281474976884555_f419_chunk_0.txt to /content/drive/My Drive/Tamil_Audio_Processed\n",
            "Copied 281474976884271_f1791_chunk_1.txt to /content/drive/My Drive/Tamil_Audio_Processed\n",
            "Copied 281474976884266_f1681_chunk_4.txt to /content/drive/My Drive/Tamil_Audio_Processed\n",
            "Copied 281474976884364_f1979_chunk_1.txt to /content/drive/My Drive/Tamil_Audio_Processed\n",
            "Copied 281474976886815_f1980_chunk_3.txt to /content/drive/My Drive/Tamil_Audio_Processed\n",
            "Copied 281474976898386_f2112_chunk_1.txt to /content/drive/My Drive/Tamil_Audio_Processed\n",
            "Copied 281474976886815_f1980_chunk_1.txt to /content/drive/My Drive/Tamil_Audio_Processed\n",
            "Copied 281474976884364_f1979_chunk_6.txt to /content/drive/My Drive/Tamil_Audio_Processed\n",
            "Copied 281474976886877_f3160_chunk_1.txt to /content/drive/My Drive/Tamil_Audio_Processed\n",
            "Copied 281474976898393_f3128_chunk_1.txt to /content/drive/My Drive/Tamil_Audio_Processed\n",
            "Copied 281474976884323_f556_chunk_0.txt to /content/drive/My Drive/Tamil_Audio_Processed\n",
            "Copied 281474976886790_f55_chunk_0.txt to /content/drive/My Drive/Tamil_Audio_Processed\n",
            "Copied 281474976884558_f21_chunk_0.txt to /content/drive/My Drive/Tamil_Audio_Processed\n",
            "Copied 281474976886864_f3159_chunk_3.txt to /content/drive/My Drive/Tamil_Audio_Processed\n",
            "Copied 281474976899473_f1089_chunk_0.txt to /content/drive/My Drive/Tamil_Audio_Processed\n",
            "Copied 281474976898387_f2202_chunk_2.txt to /content/drive/My Drive/Tamil_Audio_Processed\n",
            "Copied 281474976884356_f1978_chunk_0.txt to /content/drive/My Drive/Tamil_Audio_Processed\n",
            "Copied 281474976897665_f1718_chunk_0.txt to /content/drive/My Drive/Tamil_Audio_Processed\n",
            "Copied 281474976884359_f2087_chunk_2.txt to /content/drive/My Drive/Tamil_Audio_Processed\n",
            "Copied 281474976903190_f2983_chunk_0.txt to /content/drive/My Drive/Tamil_Audio_Processed\n",
            "Copied 281474976888224_f2770_chunk_0.txt to /content/drive/My Drive/Tamil_Audio_Processed\n",
            "Copied 281474976903191_f1338_chunk_0.txt to /content/drive/My Drive/Tamil_Audio_Processed\n",
            "Copied 281474976886874_f1933_chunk_1.txt to /content/drive/My Drive/Tamil_Audio_Processed\n",
            "Copied 281474976884273_f1982_chunk_1.txt to /content/drive/My Drive/Tamil_Audio_Processed\n",
            "Copied 281474976886782_f218_chunk_0.txt to /content/drive/My Drive/Tamil_Audio_Processed\n",
            "Copied 281474976898391_f3297_chunk_0.txt to /content/drive/My Drive/Tamil_Audio_Processed\n",
            "Copied 281474976897608_f121_chunk_0.txt to /content/drive/My Drive/Tamil_Audio_Processed\n",
            "Copied 281474976897665_f1718_chunk_1.txt to /content/drive/My Drive/Tamil_Audio_Processed\n",
            "Copied 281474976903177_f2345_chunk_2.txt to /content/drive/My Drive/Tamil_Audio_Processed\n",
            "Copied 281474976884340_f903_chunk_0.txt to /content/drive/My Drive/Tamil_Audio_Processed\n",
            "Copied 281474976886864_f3159_chunk_1.txt to /content/drive/My Drive/Tamil_Audio_Processed\n",
            "Copied 281474976886864_f3159_chunk_4.txt to /content/drive/My Drive/Tamil_Audio_Processed\n",
            "Copied 281474976903184_f1336_chunk_0.txt to /content/drive/My Drive/Tamil_Audio_Processed\n",
            "Copied 281474976884235_f1315_chunk_0.txt to /content/drive/My Drive/Tamil_Audio_Processed\n",
            "Copied 281474976886908_f846_chunk_0.txt to /content/drive/My Drive/Tamil_Audio_Processed\n",
            "Copied 281474976884267_f1694_chunk_5.txt to /content/drive/My Drive/Tamil_Audio_Processed\n",
            "Copied 281474976884241_f1317_chunk_0.txt to /content/drive/My Drive/Tamil_Audio_Processed\n",
            "Copied 281474976888228_f2980_chunk_2.txt to /content/drive/My Drive/Tamil_Audio_Processed\n",
            "Copied 281474976886851_f2850_chunk_0.txt to /content/drive/My Drive/Tamil_Audio_Processed\n",
            "Copied 281474976886864_f3159_chunk_2.txt to /content/drive/My Drive/Tamil_Audio_Processed\n",
            "Copied 281474976897621_f2915_chunk_0.txt to /content/drive/My Drive/Tamil_Audio_Processed\n",
            "Copied 281474976888228_f2980_chunk_0.txt to /content/drive/My Drive/Tamil_Audio_Processed\n",
            "Copied 281474976884267_f1694_chunk_4.txt to /content/drive/My Drive/Tamil_Audio_Processed\n",
            "Copied 281474976888224_f2770_chunk_1.txt to /content/drive/My Drive/Tamil_Audio_Processed\n",
            "Copied 281474976884357_f1781_chunk_3.txt to /content/drive/My Drive/Tamil_Audio_Processed\n",
            "Copied 281474976884266_f1681_chunk_2.txt to /content/drive/My Drive/Tamil_Audio_Processed\n",
            "Copied 281474976886817_f1675_chunk_2.txt to /content/drive/My Drive/Tamil_Audio_Processed\n",
            "Copied 281474976897621_f1022_chunk_0.txt to /content/drive/My Drive/Tamil_Audio_Processed\n",
            "Copied 281474976886904_f777_chunk_0.txt to /content/drive/My Drive/Tamil_Audio_Processed\n",
            "Copied 281474976884229_f1314_chunk_1.txt to /content/drive/My Drive/Tamil_Audio_Processed\n",
            "Copied 281474976888231_f1490_chunk_0.txt to /content/drive/My Drive/Tamil_Audio_Processed\n",
            "Copied 281474976884334_f665_chunk_0.txt to /content/drive/My Drive/Tamil_Audio_Processed\n",
            "Copied 281474976886814_f1691_chunk_3.txt to /content/drive/My Drive/Tamil_Audio_Processed\n",
            "Copied 281474976898393_f1814_chunk_0.txt to /content/drive/My Drive/Tamil_Audio_Processed\n",
            "Copied 281474976884266_f1681_chunk_1.txt to /content/drive/My Drive/Tamil_Audio_Processed\n",
            "Copied 281474976903190_f1337_chunk_0.txt to /content/drive/My Drive/Tamil_Audio_Processed\n",
            "Copied 281474976886815_f1980_chunk_2.txt to /content/drive/My Drive/Tamil_Audio_Processed\n",
            "Copied 281474976897662_f3287_chunk_0.txt to /content/drive/My Drive/Tamil_Audio_Processed\n",
            "Copied 281474976884366_f2021_chunk_4.txt to /content/drive/My Drive/Tamil_Audio_Processed\n",
            "Copied 281474976886799_f1331_chunk_0.txt to /content/drive/My Drive/Tamil_Audio_Processed\n",
            "Copied 281474976898393_f1814_chunk_3.txt to /content/drive/My Drive/Tamil_Audio_Processed\n",
            "Copied 281474976886815_f1980_chunk_0.txt to /content/drive/My Drive/Tamil_Audio_Processed\n",
            "Copied 281474976903187_f2699_chunk_0.txt to /content/drive/My Drive/Tamil_Audio_Processed\n",
            "Copied 281474976903191_f2771_chunk_0.txt to /content/drive/My Drive/Tamil_Audio_Processed\n",
            "Copied 281474976899471_f1200_chunk_0.txt to /content/drive/My Drive/Tamil_Audio_Processed\n",
            "Copied 281474976888228_f2980_chunk_1.txt to /content/drive/My Drive/Tamil_Audio_Processed\n",
            "Copied 281474976886837_f2849_chunk_0.txt to /content/drive/My Drive/Tamil_Audio_Processed\n",
            "Copied 281474976886919_f3326_chunk_0.txt to /content/drive/My Drive/Tamil_Audio_Processed\n",
            "Copied 281474976884364_f1979_chunk_0.txt to /content/drive/My Drive/Tamil_Audio_Processed\n",
            "Copied 281474976886823_f1784_chunk_1.txt to /content/drive/My Drive/Tamil_Audio_Processed\n",
            "Copied 281474976886899_f726_chunk_0.txt to /content/drive/My Drive/Tamil_Audio_Processed\n",
            "Copied 281474976884264_f1680_chunk_1.txt to /content/drive/My Drive/Tamil_Audio_Processed\n",
            "Copied 281474976888218_f1487_chunk_0.txt to /content/drive/My Drive/Tamil_Audio_Processed\n",
            "Copied 281474976884270_f2090_chunk_1.txt to /content/drive/My Drive/Tamil_Audio_Processed\n",
            "Copied 281474976886907_f2734_chunk_0.txt to /content/drive/My Drive/Tamil_Audio_Processed\n",
            "Copied 281474976884259_f1799_chunk_0.txt to /content/drive/My Drive/Tamil_Audio_Processed\n",
            "Copied 281474976897625_f3013_chunk_0.txt to /content/drive/My Drive/Tamil_Audio_Processed\n",
            "Copied 281474976884356_f1978_chunk_2.txt to /content/drive/My Drive/Tamil_Audio_Processed\n",
            "Copied 281474976884336_f431_chunk_0.txt to /content/drive/My Drive/Tamil_Audio_Processed\n",
            "Copied 281474976884243_f1318_chunk_0.txt to /content/drive/My Drive/Tamil_Audio_Processed\n",
            "Copied 281474976886792_f1329_chunk_0.txt to /content/drive/My Drive/Tamil_Audio_Processed\n",
            "Copied 281474976886837_f2849_chunk_1.txt to /content/drive/My Drive/Tamil_Audio_Processed\n",
            "Copied 281474976897602_f940_chunk_0.txt to /content/drive/My Drive/Tamil_Audio_Processed\n",
            "Copied 281474976884267_f1694_chunk_0.txt to /content/drive/My Drive/Tamil_Audio_Processed\n",
            "Copied 281474976884266_f1681_chunk_0.txt to /content/drive/My Drive/Tamil_Audio_Processed\n",
            "Copied 281474976884359_f2087_chunk_0.txt to /content/drive/My Drive/Tamil_Audio_Processed\n",
            "Copied 281474976884273_f1982_chunk_2.txt to /content/drive/My Drive/Tamil_Audio_Processed\n",
            "Copied 281474976886854_f3037_chunk_0.txt to /content/drive/My Drive/Tamil_Audio_Processed\n",
            "Copied 281474976884270_f2090_chunk_2.txt to /content/drive/My Drive/Tamil_Audio_Processed\n",
            "Copied 281474976898391_f3297_chunk_1.txt to /content/drive/My Drive/Tamil_Audio_Processed\n",
            "Copied 281474976886870_f3336_chunk_0.txt to /content/drive/My Drive/Tamil_Audio_Processed\n",
            "Copied 281474976897620_f2811_chunk_0.txt to /content/drive/My Drive/Tamil_Audio_Processed\n",
            "Copied 281474976897625_f964_chunk_0.txt to /content/drive/My Drive/Tamil_Audio_Processed\n",
            "Copied 281474976884359_f2087_chunk_6.txt to /content/drive/My Drive/Tamil_Audio_Processed\n",
            "Copied 281474976886815_f1980_chunk_6.txt to /content/drive/My Drive/Tamil_Audio_Processed\n",
            "Copied 281474976884359_f2087_chunk_5.txt to /content/drive/My Drive/Tamil_Audio_Processed\n",
            "Copied 281474976884267_f1694_chunk_2.txt to /content/drive/My Drive/Tamil_Audio_Processed\n",
            "Copied 281474976884333_f746_chunk_0.txt to /content/drive/My Drive/Tamil_Audio_Processed\n",
            "Copied 281474976884549_f265_chunk_0.txt to /content/drive/My Drive/Tamil_Audio_Processed\n",
            "Copied 281474976884364_f1979_chunk_2.txt to /content/drive/My Drive/Tamil_Audio_Processed\n",
            "Copied 281474976886878_f2113_chunk_1.txt to /content/drive/My Drive/Tamil_Audio_Processed\n",
            "Copied 281474976886918_f1857_chunk_0.txt to /content/drive/My Drive/Tamil_Audio_Processed\n",
            "Copied 281474976897614_f122_chunk_0.txt to /content/drive/My Drive/Tamil_Audio_Processed\n",
            "Copied 281474976888212_f2335_chunk_0.txt to /content/drive/My Drive/Tamil_Audio_Processed\n",
            "Copied 281474976886815_f1980_chunk_4.txt to /content/drive/My Drive/Tamil_Audio_Processed\n",
            "Copied 281474976884579_f1998_chunk_0.txt to /content/drive/My Drive/Tamil_Audio_Processed\n",
            "Copied 281474976886900_f2733_chunk_0.txt to /content/drive/My Drive/Tamil_Audio_Processed\n",
            "Copied 281474976897624_f123_chunk_0.txt to /content/drive/My Drive/Tamil_Audio_Processed\n",
            "Copied 281474976903177_f2345_chunk_1.txt to /content/drive/My Drive/Tamil_Audio_Processed\n",
            "Copied 281474976886839_f364_chunk_0.txt to /content/drive/My Drive/Tamil_Audio_Processed\n",
            "Copied 281474976886820_f2271_chunk_0.txt to /content/drive/My Drive/Tamil_Audio_Processed\n",
            "Copied 281474976884245_f1319_chunk_0.txt to /content/drive/My Drive/Tamil_Audio_Processed\n",
            "Copied 281474976903187_f2699_chunk_2.txt to /content/drive/My Drive/Tamil_Audio_Processed\n",
            "Copied 281474976884229_f1314_chunk_0.txt to /content/drive/My Drive/Tamil_Audio_Processed\n",
            "Copied 281474976886848_f367_chunk_0.txt to /content/drive/My Drive/Tamil_Audio_Processed\n",
            "Copied 281474976884270_f2090_chunk_0.txt to /content/drive/My Drive/Tamil_Audio_Processed\n",
            "Copied 281474976884564_f190_chunk_0.txt to /content/drive/My Drive/Tamil_Audio_Processed\n",
            "Copied 281474976886814_f1691_chunk_0.txt to /content/drive/My Drive/Tamil_Audio_Processed\n",
            "Copied 281474976897620_f139_chunk_0.txt to /content/drive/My Drive/Tamil_Audio_Processed\n",
            "Copied 281474976884345_f432_chunk_0.txt to /content/drive/My Drive/Tamil_Audio_Processed\n",
            "Copied 281474976886869_f2034_chunk_0.txt to /content/drive/My Drive/Tamil_Audio_Processed\n",
            "Copied 281474976888212_f1180_chunk_0.txt to /content/drive/My Drive/Tamil_Audio_Processed\n",
            "Copied 281474976886877_f3160_chunk_0.txt to /content/drive/My Drive/Tamil_Audio_Processed\n",
            "Copied 281474976884325_f338_chunk_1.txt to /content/drive/My Drive/Tamil_Audio_Processed\n",
            "Copied 281474976886872_f2204_chunk_3.txt to /content/drive/My Drive/Tamil_Audio_Processed\n",
            "Copied 281474976886878_f2113_chunk_0.txt to /content/drive/My Drive/Tamil_Audio_Processed\n",
            "Copied 281474976888222_f1486_chunk_0.txt to /content/drive/My Drive/Tamil_Audio_Processed\n",
            "Copied 281474976903198_f1340_chunk_0.txt to /content/drive/My Drive/Tamil_Audio_Processed\n",
            "Copied 281474976888224_f1488_chunk_0.txt to /content/drive/My Drive/Tamil_Audio_Processed\n",
            "Copied 281474976888218_f2769_chunk_0.txt to /content/drive/My Drive/Tamil_Audio_Processed\n",
            "Copied 281474976884570_f598_chunk_0.txt to /content/drive/My Drive/Tamil_Audio_Processed\n",
            "Copied 281474976884361_f1797_chunk_2.txt to /content/drive/My Drive/Tamil_Audio_Processed\n",
            "Copied 281474976886876_f2174_chunk_2.txt to /content/drive/My Drive/Tamil_Audio_Processed\n",
            "Copied 281474976898391_f1994_chunk_1.txt to /content/drive/My Drive/Tamil_Audio_Processed\n",
            "Copied 281474976886801_f1297_chunk_0.txt to /content/drive/My Drive/Tamil_Audio_Processed\n",
            "Copied 281474976903178_f622_chunk_0.txt to /content/drive/My Drive/Tamil_Audio_Processed\n",
            "Copied 281474976886876_f2174_chunk_1.txt to /content/drive/My Drive/Tamil_Audio_Processed\n",
            "Copied 281474976886857_f237_chunk_0.txt to /content/drive/My Drive/Tamil_Audio_Processed\n",
            "Copied 281474976886852_f238_chunk_0.txt to /content/drive/My Drive/Tamil_Audio_Processed\n",
            "Copied 281474976884232_f1313_chunk_0.txt to /content/drive/My Drive/Tamil_Audio_Processed\n",
            "Copied 281474976884247_f1320_chunk_0.txt to /content/drive/My Drive/Tamil_Audio_Processed\n",
            "Copied 281474976903196_f1339_chunk_0.txt to /content/drive/My Drive/Tamil_Audio_Processed\n",
            "Copied 281474976886878_f2113_chunk_2.txt to /content/drive/My Drive/Tamil_Audio_Processed\n",
            "Copied 281474976886892_f300_chunk_0.txt to /content/drive/My Drive/Tamil_Audio_Processed\n",
            "Copied 281474976903198_f2348_chunk_0.txt to /content/drive/My Drive/Tamil_Audio_Processed\n",
            "Copied 281474976886793_f1328_chunk_0.txt to /content/drive/My Drive/Tamil_Audio_Processed\n",
            "Copied 281474976897604_f120_chunk_0.txt to /content/drive/My Drive/Tamil_Audio_Processed\n",
            "Copied 281474976886878_f2113_chunk_3.txt to /content/drive/My Drive/Tamil_Audio_Processed\n",
            "Copied 281474976884359_f2087_chunk_3.txt to /content/drive/My Drive/Tamil_Audio_Processed\n",
            "Copied 281474976886823_f1784_chunk_4.txt to /content/drive/My Drive/Tamil_Audio_Processed\n",
            "Copied 281474976884271_f1791_chunk_0.txt to /content/drive/My Drive/Tamil_Audio_Processed\n",
            "Copied 281474976886814_f1691_chunk_1.txt to /content/drive/My Drive/Tamil_Audio_Processed\n",
            "Copied 281474976886822_f2088_chunk_0.txt to /content/drive/My Drive/Tamil_Audio_Processed\n",
            "Copied 281474976886876_f2174_chunk_4.txt to /content/drive/My Drive/Tamil_Audio_Processed\n",
            "Copied 281474976884550_f597_chunk_0.txt to /content/drive/My Drive/Tamil_Audio_Processed\n",
            "Copied 281474976884271_f1791_chunk_2.txt to /content/drive/My Drive/Tamil_Audio_Processed\n",
            "Copied 281474976898391_f1994_chunk_0.txt to /content/drive/My Drive/Tamil_Audio_Processed\n",
            "Copied 281474976886876_f2174_chunk_0.txt to /content/drive/My Drive/Tamil_Audio_Processed\n",
            "Copied 281474976899460_f2609_chunk_0.txt to /content/drive/My Drive/Tamil_Audio_Processed\n",
            "Copied 281474976886836_f365_chunk_0.txt to /content/drive/My Drive/Tamil_Audio_Processed\n",
            "Copied 281474976899477_f3092_chunk_0.txt to /content/drive/My Drive/Tamil_Audio_Processed\n",
            "Copied 281474976884361_f1797_chunk_1.txt to /content/drive/My Drive/Tamil_Audio_Processed\n",
            "Copied 281474976884565_f191_chunk_0.txt to /content/drive/My Drive/Tamil_Audio_Processed\n",
            "Copied 281474976888226_f1489_chunk_0.txt to /content/drive/My Drive/Tamil_Audio_Processed\n",
            "Copied 281474976884343_f666_chunk_0.txt to /content/drive/My Drive/Tamil_Audio_Processed\n",
            "Copied 281474976899474_f1088_chunk_0.txt to /content/drive/My Drive/Tamil_Audio_Processed\n",
            "Copied 281474976886889_f844_chunk_0.txt to /content/drive/My Drive/Tamil_Audio_Processed\n",
            "Copied 281474976886890_f2732_chunk_0.txt to /content/drive/My Drive/Tamil_Audio_Processed\n",
            "Copied 281474976886820_f2271_chunk_2.txt to /content/drive/My Drive/Tamil_Audio_Processed\n",
            "Copied 281474976898391_f3297_chunk_2.txt to /content/drive/My Drive/Tamil_Audio_Processed\n",
            "Copied 281474976886823_f1784_chunk_5.txt to /content/drive/My Drive/Tamil_Audio_Processed\n",
            "Copied 281474976886859_f825_chunk_0.txt to /content/drive/My Drive/Tamil_Audio_Processed\n",
            "Copied 281474976884361_f1797_chunk_0.txt to /content/drive/My Drive/Tamil_Audio_Processed\n",
            "Copied 281474976898393_f3128_chunk_0.txt to /content/drive/My Drive/Tamil_Audio_Processed\n",
            "Copied 281474976886874_f1933_chunk_2.txt to /content/drive/My Drive/Tamil_Audio_Processed\n",
            "Copied 281474976884251_f1321_chunk_0.txt to /content/drive/My Drive/Tamil_Audio_Processed\n",
            "Copied 281474976884271_f1791_chunk_3.txt to /content/drive/My Drive/Tamil_Audio_Processed\n",
            "Copied 281474976886796_f1330_chunk_0.txt to /content/drive/My Drive/Tamil_Audio_Processed\n",
            "Copied 281474976884364_f1979_chunk_4.txt to /content/drive/My Drive/Tamil_Audio_Processed\n",
            "Copied 281474976886876_f2174_chunk_3.txt to /content/drive/My Drive/Tamil_Audio_Processed\n",
            "Copied 281474976884229_f2757_chunk_0.txt to /content/drive/My Drive/Tamil_Audio_Processed\n",
            "Copied 281474976898387_f3126_chunk_0.txt to /content/drive/My Drive/Tamil_Audio_Processed\n",
            "Copied 281474976886877_f3160_chunk_4.txt to /content/drive/My Drive/Tamil_Audio_Processed\n",
            "Copied 281474976886856_f2851_chunk_0.txt to /content/drive/My Drive/Tamil_Audio_Processed\n",
            "Copied 281474976884592_f1786_chunk_0.txt to /content/drive/My Drive/Tamil_Audio_Processed\n",
            "Copied 281474976886802_f1296_chunk_0.txt to /content/drive/My Drive/Tamil_Audio_Processed\n",
            "Copied 281474976886822_f2088_chunk_1.txt to /content/drive/My Drive/Tamil_Audio_Processed\n",
            "Copied 281474976884581_f1728_chunk_0.txt to /content/drive/My Drive/Tamil_Audio_Processed\n",
            "Copied 281474976886911_f847_chunk_0.txt to /content/drive/My Drive/Tamil_Audio_Processed\n",
            "Copied 281474976886823_f1784_chunk_0.txt to /content/drive/My Drive/Tamil_Audio_Processed\n",
            "Copied 281474976884588_f2306_chunk_0.txt to /content/drive/My Drive/Tamil_Audio_Processed\n",
            "Copied 281474976886822_f2088_chunk_2.txt to /content/drive/My Drive/Tamil_Audio_Processed\n",
            "Copied 281474976884364_f1979_chunk_3.txt to /content/drive/My Drive/Tamil_Audio_Processed\n",
            "Copied 281474976884583_f2079_chunk_0.txt to /content/drive/My Drive/Tamil_Audio_Processed\n",
            "Copied 281474976884359_f2087_chunk_4.txt to /content/drive/My Drive/Tamil_Audio_Processed\n",
            "Copied 281474976886878_f2113_chunk_4.txt to /content/drive/My Drive/Tamil_Audio_Processed\n",
            "Copied 281474976899458_f2607_chunk_0.txt to /content/drive/My Drive/Tamil_Audio_Processed\n",
            "Copied 281474976899480_f1091_chunk_0.txt to /content/drive/My Drive/Tamil_Audio_Processed\n",
            "Copied 281474976886872_f2204_chunk_2.txt to /content/drive/My Drive/Tamil_Audio_Processed\n",
            "Copied 281474976886867_f1856_chunk_1.txt to /content/drive/My Drive/Tamil_Audio_Processed\n",
            "Copied 281474976886822_f2088_chunk_3.txt to /content/drive/My Drive/Tamil_Audio_Processed\n",
            "Copied 281474976886823_f1784_chunk_2.txt to /content/drive/My Drive/Tamil_Audio_Processed\n",
            "Copied 281474976884252_f1322_chunk_0.txt to /content/drive/My Drive/Tamil_Audio_Processed\n",
            "Copied 281474976888228_f1491_chunk_0.txt to /content/drive/My Drive/Tamil_Audio_Processed\n",
            "Copied 281474976886846_f823_chunk_0.txt to /content/drive/My Drive/Tamil_Audio_Processed\n",
            "Copied 281474976886814_f1691_chunk_2.txt to /content/drive/My Drive/Tamil_Audio_Processed\n",
            "Copied 281474976903187_f1335_chunk_0.txt to /content/drive/My Drive/Tamil_Audio_Processed\n",
            "Copied 281474976884589_f2266_chunk_0.txt to /content/drive/My Drive/Tamil_Audio_Processed\n",
            "Copied 281474976886910_f1197_chunk_0.txt to /content/drive/My Drive/Tamil_Audio_Processed\n",
            "Copied 281474976899461_f1084_chunk_0.txt to /content/drive/My Drive/Tamil_Audio_Processed\n",
            "Copied 281474976886783_f904_chunk_0.txt to /content/drive/My Drive/Tamil_Audio_Processed\n",
            "Copied 281474976886872_f2204_chunk_0.txt to /content/drive/My Drive/Tamil_Audio_Processed\n",
            "Copied 281474976884361_f1797_chunk_3.txt to /content/drive/My Drive/Tamil_Audio_Processed\n",
            "Copied 281474976886874_f1933_chunk_0.txt to /content/drive/My Drive/Tamil_Audio_Processed\n",
            "Copied 281474976886853_f824_chunk_0.txt to /content/drive/My Drive/Tamil_Audio_Processed\n",
            "Copied 281474976903177_f623_chunk_0.txt to /content/drive/My Drive/Tamil_Audio_Processed\n",
            "Copied 281474976888211_f1484_chunk_0.txt to /content/drive/My Drive/Tamil_Audio_Processed\n",
            "Copied 281474976886823_f1784_chunk_3.txt to /content/drive/My Drive/Tamil_Audio_Processed\n",
            "Copied 281474976899459_f1085_chunk_0.txt to /content/drive/My Drive/Tamil_Audio_Processed\n",
            "Copied 281474976886820_f2271_chunk_1.txt to /content/drive/My Drive/Tamil_Audio_Processed\n",
            "Copied 281474976886903_f845_chunk_0.txt to /content/drive/My Drive/Tamil_Audio_Processed\n",
            "Copied 281474976899478_f1090_chunk_0.txt to /content/drive/My Drive/Tamil_Audio_Processed\n",
            "Copied 281474976884569_f927_chunk_0.txt to /content/drive/My Drive/Tamil_Audio_Processed\n",
            "All corresponding .txt files have been added to Tamil_Audio_Processed.\n"
          ]
        }
      ]
    },
    {
      "cell_type": "code",
      "source": [
        "import re\n",
        "\n",
        "def clean_text(text):\n",
        "    # Remove unwanted characters and extra whitespace\n",
        "    text = text.lower()\n",
        "    text = re.sub(r\"[^a-zA-Z0-9\\s]\", \"\", text)  # Keep alphanumeric characters and spaces\n",
        "    text = re.sub(r\"\\s+\", \" \", text).strip()\n",
        "    cleaned_text = re.sub(r\"^[a-zA-Z0-9]+wav\\s+\\d+\\s+\", \"\", text)  # Matches the concatenated path ending with 'wav' and a number\n",
        "    return cleaned_text.strip() # Replace multiple spaces with a single space\n",
        "\n",
        "\n",
        "# Apply cleaning to each transcript\n",
        "for filename in os.listdir(processed_audio_dir):\n",
        "    if filename.endswith(\".txt\"):\n",
        "        text_path = os.path.join(processed_audio_dir, filename)\n",
        "        with open(text_path, \"r\") as file:\n",
        "            text = file.read()\n",
        "        cleaned_text = clean_text(text)\n",
        "        with open(text_path, \"w\") as file:\n",
        "            file.write(cleaned_text)\n",
        "\n",
        "print(\"Transcripts have been cleaned and standardized.\")\n"
      ],
      "metadata": {
        "colab": {
          "base_uri": "https://localhost:8080/"
        },
        "id": "nRojZ2wh4rvy",
        "outputId": "b4bb90a8-b4c6-46a3-f5c2-5f69253b7bd9"
      },
      "execution_count": null,
      "outputs": [
        {
          "output_type": "stream",
          "name": "stdout",
          "text": [
            "Transcripts have been cleaned and standardized.\n"
          ]
        }
      ]
    },
    {
      "cell_type": "code",
      "source": [
        "import random\n",
        "import shutil\n",
        "\n",
        "# Set up directories for splits\n",
        "train_dir = \"/content/drive/My Drive/train\"\n",
        "val_dir = \"/content/drive/My Drive/val\"\n",
        "test_dir = \"/content/drive/My Drive/test\"\n",
        "os.makedirs(train_dir, exist_ok=True)\n",
        "os.makedirs(val_dir, exist_ok=True)\n",
        "os.makedirs(test_dir, exist_ok=True)\n",
        "\n",
        "# Get list of audio files (assuming corresponding .txt files exist for each .wav)\n",
        "file_bases = [f[:-4] for f in os.listdir(processed_audio_dir) if f.endswith(\".wav\")]\n",
        "\n",
        "# Shuffle and split\n",
        "random.shuffle(file_bases)\n",
        "train_split = int(0.8 * len(file_bases))\n",
        "val_split = int(0.9 * len(file_bases))\n",
        "\n",
        "train_files = file_bases[:train_split]\n",
        "val_files = file_bases[train_split:val_split]\n",
        "test_files = file_bases[val_split:]\n",
        "\n",
        "# Function to copy files\n",
        "def copy_files(file_list, destination_dir):\n",
        "    for file_base in file_list:\n",
        "        audio_file = os.path.join(processed_audio_dir, file_base + \".wav\")\n",
        "        transcript_file = os.path.join(processed_audio_dir, file_base + \".txt\")\n",
        "        if os.path.exists(audio_file) and os.path.exists(transcript_file):\n",
        "            shutil.copy(audio_file, destination_dir)\n",
        "            shutil.copy(transcript_file, destination_dir)\n",
        "\n",
        "# Copy files to respective directories\n",
        "copy_files(train_files, train_dir)\n",
        "copy_files(val_files, val_dir)\n",
        "copy_files(test_files, test_dir)\n",
        "\n",
        "print(\"Data has been split into training, validation, and testing sets.\")\n",
        "print(f\"Training set: {len(train_files)} files\")\n",
        "print(f\"Validation set: {len(val_files)} files\")\n",
        "print(f\"Testing set: {len(test_files)} files\")\n"
      ],
      "metadata": {
        "colab": {
          "base_uri": "https://localhost:8080/"
        },
        "id": "lEP8Kg1B5XoQ",
        "outputId": "f94a5c3a-3a26-45c1-cc12-4848a7270fc5"
      },
      "execution_count": null,
      "outputs": [
        {
          "output_type": "stream",
          "name": "stdout",
          "text": [
            "Data has been split into training, validation, and testing sets.\n",
            "Training set: 307 files\n",
            "Validation set: 38 files\n",
            "Testing set: 39 files\n"
          ]
        }
      ]
    },
    {
      "cell_type": "code",
      "source": [
        "# Clone the VITS repository\n",
        "\n",
        "\n",
        "!git clone https://github.com/jaywalnut310/vits.git\n",
        "\n",
        "# Change to the VITS directory\n",
        "%cd vits\n",
        "\n",
        "# List the contents of the directory to check if it's cloned successfully\n",
        "!ls -l\n"
      ],
      "metadata": {
        "colab": {
          "base_uri": "https://localhost:8080/"
        },
        "id": "wRQyQ6afA8QD",
        "outputId": "0710dae6-5c2a-48f6-9a8a-076a14093b27"
      },
      "execution_count": null,
      "outputs": [
        {
          "output_type": "stream",
          "name": "stdout",
          "text": [
            "Cloning into 'vits'...\n",
            "remote: Enumerating objects: 81, done.\u001b[K\n",
            "remote: Total 81 (delta 0), reused 0 (delta 0), pack-reused 81 (from 1)\u001b[K\n",
            "Receiving objects: 100% (81/81), 3.33 MiB | 16.33 MiB/s, done.\n",
            "Resolving deltas: 100% (22/22), done.\n",
            "/content/vits/vits/monotonic_align/vits/monotonic_align/vits/monotonic_align/vits/monotonic_align/vits\n",
            "total 168\n",
            "-rw-r--r-- 1 root root 11780 Nov  5 19:11 attentions.py\n",
            "-rw-r--r-- 1 root root  4778 Nov  5 19:11 commons.py\n",
            "drwxr-xr-x 2 root root  4096 Nov  5 19:11 configs\n",
            "-rw-r--r-- 1 root root 15027 Nov  5 19:11 data_utils.py\n",
            "drwxr-xr-x 2 root root  4096 Nov  5 19:11 filelists\n",
            "-rw-r--r-- 1 root root  6103 Nov  5 19:11 inference.ipynb\n",
            "-rw-r--r-- 1 root root  1069 Nov  5 19:11 LICENSE\n",
            "-rw-r--r-- 1 root root  1314 Nov  5 19:11 losses.py\n",
            "-rw-r--r-- 1 root root  3825 Nov  5 19:11 mel_processing.py\n",
            "-rw-r--r-- 1 root root 19375 Nov  5 19:11 models.py\n",
            "-rw-r--r-- 1 root root 13166 Nov  5 19:11 modules.py\n",
            "drwxr-xr-x 2 root root  4096 Nov  5 19:11 monotonic_align\n",
            "-rw-r--r-- 1 root root  1066 Nov  5 19:11 preprocess.py\n",
            "-rw-r--r-- 1 root root  3664 Nov  5 19:11 README.md\n",
            "-rw-r--r-- 1 root root   162 Nov  5 19:11 requirements.txt\n",
            "drwxr-xr-x 2 root root  4096 Nov  5 19:11 resources\n",
            "drwxr-xr-x 2 root root  4096 Nov  5 19:11 text\n",
            "-rw-r--r-- 1 root root 10947 Nov  5 19:11 train_ms.py\n",
            "-rw-r--r-- 1 root root 10712 Nov  5 19:11 train.py\n",
            "-rw-r--r-- 1 root root  8490 Nov  5 19:11 transforms.py\n",
            "-rw-r--r-- 1 root root  7396 Nov  5 19:11 utils.py\n"
          ]
        }
      ]
    },
    {
      "cell_type": "code",
      "source": [
        "!pip install Cython\n",
        "!pip install librosa\n",
        "!pip install matplotlib\n",
        "!pip install numpy\n",
        "!pip install phonemizer\n",
        "!pip install scipy\n",
        "!pip install tensorboard\n",
        "!pip install torch torchvision\n",
        "!pip install Unidecode\n"
      ],
      "metadata": {
        "colab": {
          "base_uri": "https://localhost:8080/"
        },
        "id": "vQNm5ZAENsFI",
        "outputId": "d3426765-5aa6-45af-fc22-5dd81f0bd835"
      },
      "execution_count": null,
      "outputs": [
        {
          "output_type": "stream",
          "name": "stdout",
          "text": [
            "Requirement already satisfied: Cython in /usr/local/lib/python3.10/dist-packages (0.29.21)\n",
            "Requirement already satisfied: librosa in /usr/local/lib/python3.10/dist-packages (0.8.0)\n",
            "Requirement already satisfied: audioread>=2.0.0 in /usr/local/lib/python3.10/dist-packages (from librosa) (3.0.1)\n",
            "Requirement already satisfied: numpy>=1.15.0 in /usr/local/lib/python3.10/dist-packages (from librosa) (1.21.6)\n",
            "Requirement already satisfied: scipy>=1.0.0 in /usr/local/lib/python3.10/dist-packages (from librosa) (1.13.1)\n",
            "Requirement already satisfied: scikit-learn!=0.19.0,>=0.14.0 in /usr/local/lib/python3.10/dist-packages (from librosa) (1.5.2)\n",
            "Requirement already satisfied: joblib>=0.14 in /usr/local/lib/python3.10/dist-packages (from librosa) (1.4.2)\n",
            "Requirement already satisfied: decorator>=3.0.0 in /usr/local/lib/python3.10/dist-packages (from librosa) (4.4.2)\n",
            "Requirement already satisfied: resampy>=0.2.2 in /usr/local/lib/python3.10/dist-packages (from librosa) (0.4.3)\n",
            "Requirement already satisfied: numba>=0.43.0 in /usr/local/lib/python3.10/dist-packages (from librosa) (0.60.0)\n",
            "Requirement already satisfied: soundfile>=0.9.0 in /usr/local/lib/python3.10/dist-packages (from librosa) (0.12.1)\n",
            "Requirement already satisfied: pooch>=1.0 in /usr/local/lib/python3.10/dist-packages (from librosa) (1.8.2)\n",
            "Requirement already satisfied: llvmlite<0.44,>=0.43.0dev0 in /usr/local/lib/python3.10/dist-packages (from numba>=0.43.0->librosa) (0.43.0)\n",
            "Collecting numpy>=1.15.0 (from librosa)\n",
            "  Downloading numpy-2.0.2-cp310-cp310-manylinux_2_17_x86_64.manylinux2014_x86_64.whl.metadata (60 kB)\n",
            "\u001b[2K     \u001b[90m━━━━━━━━━━━━━━━━━━━━━━━━━━━━━━━━━━━━━━━━\u001b[0m \u001b[32m60.9/60.9 kB\u001b[0m \u001b[31m3.1 MB/s\u001b[0m eta \u001b[36m0:00:00\u001b[0m\n",
            "\u001b[?25hRequirement already satisfied: platformdirs>=2.5.0 in /usr/local/lib/python3.10/dist-packages (from pooch>=1.0->librosa) (4.3.6)\n",
            "Requirement already satisfied: packaging>=20.0 in /usr/local/lib/python3.10/dist-packages (from pooch>=1.0->librosa) (24.1)\n",
            "Requirement already satisfied: requests>=2.19.0 in /usr/local/lib/python3.10/dist-packages (from pooch>=1.0->librosa) (2.32.3)\n",
            "Requirement already satisfied: threadpoolctl>=3.1.0 in /usr/local/lib/python3.10/dist-packages (from scikit-learn!=0.19.0,>=0.14.0->librosa) (3.5.0)\n",
            "Requirement already satisfied: cffi>=1.0 in /usr/local/lib/python3.10/dist-packages (from soundfile>=0.9.0->librosa) (1.17.1)\n",
            "Requirement already satisfied: pycparser in /usr/local/lib/python3.10/dist-packages (from cffi>=1.0->soundfile>=0.9.0->librosa) (2.22)\n",
            "Requirement already satisfied: charset-normalizer<4,>=2 in /usr/local/lib/python3.10/dist-packages (from requests>=2.19.0->pooch>=1.0->librosa) (3.4.0)\n",
            "Requirement already satisfied: idna<4,>=2.5 in /usr/local/lib/python3.10/dist-packages (from requests>=2.19.0->pooch>=1.0->librosa) (3.10)\n",
            "Requirement already satisfied: urllib3<3,>=1.21.1 in /usr/local/lib/python3.10/dist-packages (from requests>=2.19.0->pooch>=1.0->librosa) (2.2.3)\n",
            "Requirement already satisfied: certifi>=2017.4.17 in /usr/local/lib/python3.10/dist-packages (from requests>=2.19.0->pooch>=1.0->librosa) (2024.8.30)\n",
            "Downloading numpy-2.0.2-cp310-cp310-manylinux_2_17_x86_64.manylinux2014_x86_64.whl (19.5 MB)\n",
            "\u001b[2K   \u001b[90m━━━━━━━━━━━━━━━━━━━━━━━━━━━━━━━━━━━━━━━━\u001b[0m \u001b[32m19.5/19.5 MB\u001b[0m \u001b[31m73.0 MB/s\u001b[0m eta \u001b[36m0:00:00\u001b[0m\n",
            "\u001b[?25hInstalling collected packages: numpy\n",
            "  Attempting uninstall: numpy\n",
            "    Found existing installation: numpy 1.21.6\n",
            "    Uninstalling numpy-1.21.6:\n",
            "      Successfully uninstalled numpy-1.21.6\n",
            "\u001b[31mERROR: pip's dependency resolver does not currently take into account all the packages that are installed. This behaviour is the source of the following dependency conflicts.\n",
            "arviz 0.20.0 requires matplotlib>=3.5, but you have matplotlib 3.3.1 which is incompatible.\n",
            "bigframes 1.25.0 requires google-auth<3.0dev,>=2.15.0, but you have google-auth 1.35.0 which is incompatible.\n",
            "bigframes 1.25.0 requires matplotlib>=3.7.1, but you have matplotlib 3.3.1 which is incompatible.\n",
            "cupy-cuda12x 12.2.0 requires numpy<1.27,>=1.20, but you have numpy 2.0.2 which is incompatible.\n",
            "gensim 4.3.3 requires numpy<2.0,>=1.18.5, but you have numpy 2.0.2 which is incompatible.\n",
            "langchain 0.3.4 requires numpy<2,>=1; python_version < \"3.12\", but you have numpy 2.0.2 which is incompatible.\n",
            "pandas-gbq 0.24.0 requires google-auth>=2.13.0, but you have google-auth 1.35.0 which is incompatible.\n",
            "pandas-gbq 0.24.0 requires google-auth-oauthlib>=0.7.0, but you have google-auth-oauthlib 0.4.6 which is incompatible.\n",
            "plotnine 0.14.0 requires matplotlib>=3.8.0, but you have matplotlib 3.3.1 which is incompatible.\n",
            "pytensor 2.25.5 requires numpy<2,>=1.17.0, but you have numpy 2.0.2 which is incompatible.\n",
            "seaborn 0.13.2 requires matplotlib!=3.6.1,>=3.4, but you have matplotlib 3.3.1 which is incompatible.\n",
            "tensorflow 2.17.0 requires numpy<2.0.0,>=1.23.5; python_version <= \"3.11\", but you have numpy 2.0.2 which is incompatible.\n",
            "tensorflow 2.17.0 requires tensorboard<2.18,>=2.17, but you have tensorboard 2.3.0 which is incompatible.\n",
            "thinc 8.2.5 requires numpy<2.0.0,>=1.19.0; python_version >= \"3.9\", but you have numpy 2.0.2 which is incompatible.\u001b[0m\u001b[31m\n",
            "\u001b[0mSuccessfully installed numpy-2.0.2\n",
            "Requirement already satisfied: matplotlib in /usr/local/lib/python3.10/dist-packages (3.3.1)\n",
            "Requirement already satisfied: certifi>=2020.06.20 in /usr/local/lib/python3.10/dist-packages (from matplotlib) (2024.8.30)\n",
            "Requirement already satisfied: cycler>=0.10 in /usr/local/lib/python3.10/dist-packages (from matplotlib) (0.12.1)\n",
            "Requirement already satisfied: kiwisolver>=1.0.1 in /usr/local/lib/python3.10/dist-packages (from matplotlib) (1.4.7)\n",
            "Requirement already satisfied: numpy>=1.15 in /usr/local/lib/python3.10/dist-packages (from matplotlib) (2.0.2)\n",
            "Requirement already satisfied: pillow>=6.2.0 in /usr/local/lib/python3.10/dist-packages (from matplotlib) (10.4.0)\n",
            "Requirement already satisfied: pyparsing!=2.0.4,!=2.1.2,!=2.1.6,>=2.0.3 in /usr/local/lib/python3.10/dist-packages (from matplotlib) (3.2.0)\n",
            "Requirement already satisfied: python-dateutil>=2.1 in /usr/local/lib/python3.10/dist-packages (from matplotlib) (2.8.2)\n",
            "Requirement already satisfied: six>=1.5 in /usr/local/lib/python3.10/dist-packages (from python-dateutil>=2.1->matplotlib) (1.16.0)\n",
            "Requirement already satisfied: numpy in /usr/local/lib/python3.10/dist-packages (2.0.2)\n",
            "Requirement already satisfied: phonemizer in /usr/local/lib/python3.10/dist-packages (2.2.1)\n",
            "Requirement already satisfied: joblib in /usr/local/lib/python3.10/dist-packages (from phonemizer) (1.4.2)\n",
            "Requirement already satisfied: segments in /usr/local/lib/python3.10/dist-packages (from phonemizer) (2.2.1)\n",
            "Requirement already satisfied: attrs>=18.1 in /usr/local/lib/python3.10/dist-packages (from phonemizer) (24.2.0)\n",
            "Requirement already satisfied: clldutils>=1.7.3 in /usr/local/lib/python3.10/dist-packages (from segments->phonemizer) (3.24.0)\n",
            "Requirement already satisfied: csvw>=1.5.6 in /usr/local/lib/python3.10/dist-packages (from segments->phonemizer) (3.5.1)\n",
            "Requirement already satisfied: regex in /usr/local/lib/python3.10/dist-packages (from segments->phonemizer) (2024.9.11)\n",
            "Requirement already satisfied: python-dateutil in /usr/local/lib/python3.10/dist-packages (from clldutils>=1.7.3->segments->phonemizer) (2.8.2)\n",
            "Requirement already satisfied: tabulate>=0.7.7 in /usr/local/lib/python3.10/dist-packages (from clldutils>=1.7.3->segments->phonemizer) (0.9.0)\n",
            "Requirement already satisfied: colorlog in /usr/local/lib/python3.10/dist-packages (from clldutils>=1.7.3->segments->phonemizer) (6.9.0)\n",
            "Requirement already satisfied: bibtexparser>=2.0.0b4 in /usr/local/lib/python3.10/dist-packages (from clldutils>=1.7.3->segments->phonemizer) (2.0.0b7)\n",
            "Requirement already satisfied: pylatexenc in /usr/local/lib/python3.10/dist-packages (from clldutils>=1.7.3->segments->phonemizer) (2.10)\n",
            "Requirement already satisfied: markdown in /usr/local/lib/python3.10/dist-packages (from clldutils>=1.7.3->segments->phonemizer) (3.7)\n",
            "Requirement already satisfied: lxml in /usr/local/lib/python3.10/dist-packages (from clldutils>=1.7.3->segments->phonemizer) (5.3.0)\n",
            "Requirement already satisfied: markupsafe in /usr/local/lib/python3.10/dist-packages (from clldutils>=1.7.3->segments->phonemizer) (3.0.2)\n",
            "Requirement already satisfied: isodate in /usr/local/lib/python3.10/dist-packages (from csvw>=1.5.6->segments->phonemizer) (0.7.2)\n",
            "Requirement already satisfied: rfc3986<2 in /usr/local/lib/python3.10/dist-packages (from csvw>=1.5.6->segments->phonemizer) (1.5.0)\n",
            "Requirement already satisfied: uritemplate>=3.0.0 in /usr/local/lib/python3.10/dist-packages (from csvw>=1.5.6->segments->phonemizer) (4.1.1)\n",
            "Requirement already satisfied: babel in /usr/local/lib/python3.10/dist-packages (from csvw>=1.5.6->segments->phonemizer) (2.16.0)\n",
            "Requirement already satisfied: requests in /usr/local/lib/python3.10/dist-packages (from csvw>=1.5.6->segments->phonemizer) (2.32.3)\n",
            "Requirement already satisfied: language-tags in /usr/local/lib/python3.10/dist-packages (from csvw>=1.5.6->segments->phonemizer) (1.2.0)\n",
            "Requirement already satisfied: rdflib in /usr/local/lib/python3.10/dist-packages (from csvw>=1.5.6->segments->phonemizer) (7.1.1)\n",
            "Requirement already satisfied: colorama in /usr/local/lib/python3.10/dist-packages (from csvw>=1.5.6->segments->phonemizer) (0.4.6)\n",
            "Requirement already satisfied: jsonschema in /usr/local/lib/python3.10/dist-packages (from csvw>=1.5.6->segments->phonemizer) (4.23.0)\n",
            "Requirement already satisfied: jsonschema-specifications>=2023.03.6 in /usr/local/lib/python3.10/dist-packages (from jsonschema->csvw>=1.5.6->segments->phonemizer) (2024.10.1)\n",
            "Requirement already satisfied: referencing>=0.28.4 in /usr/local/lib/python3.10/dist-packages (from jsonschema->csvw>=1.5.6->segments->phonemizer) (0.35.1)\n",
            "Requirement already satisfied: rpds-py>=0.7.1 in /usr/local/lib/python3.10/dist-packages (from jsonschema->csvw>=1.5.6->segments->phonemizer) (0.20.0)\n",
            "Requirement already satisfied: six>=1.5 in /usr/local/lib/python3.10/dist-packages (from python-dateutil->clldutils>=1.7.3->segments->phonemizer) (1.16.0)\n",
            "Requirement already satisfied: pyparsing<4,>=2.1.0 in /usr/local/lib/python3.10/dist-packages (from rdflib->csvw>=1.5.6->segments->phonemizer) (3.2.0)\n",
            "Requirement already satisfied: charset-normalizer<4,>=2 in /usr/local/lib/python3.10/dist-packages (from requests->csvw>=1.5.6->segments->phonemizer) (3.4.0)\n",
            "Requirement already satisfied: idna<4,>=2.5 in /usr/local/lib/python3.10/dist-packages (from requests->csvw>=1.5.6->segments->phonemizer) (3.10)\n",
            "Requirement already satisfied: urllib3<3,>=1.21.1 in /usr/local/lib/python3.10/dist-packages (from requests->csvw>=1.5.6->segments->phonemizer) (2.2.3)\n",
            "Requirement already satisfied: certifi>=2017.4.17 in /usr/local/lib/python3.10/dist-packages (from requests->csvw>=1.5.6->segments->phonemizer) (2024.8.30)\n",
            "Requirement already satisfied: scipy in /usr/local/lib/python3.10/dist-packages (1.13.1)\n",
            "Requirement already satisfied: numpy<2.3,>=1.22.4 in /usr/local/lib/python3.10/dist-packages (from scipy) (2.0.2)\n",
            "Requirement already satisfied: tensorboard in /usr/local/lib/python3.10/dist-packages (2.3.0)\n",
            "Requirement already satisfied: absl-py>=0.4 in /usr/local/lib/python3.10/dist-packages (from tensorboard) (1.4.0)\n",
            "Requirement already satisfied: grpcio>=1.24.3 in /usr/local/lib/python3.10/dist-packages (from tensorboard) (1.64.1)\n",
            "Requirement already satisfied: google-auth<2,>=1.6.3 in /usr/local/lib/python3.10/dist-packages (from tensorboard) (1.35.0)\n",
            "Requirement already satisfied: google-auth-oauthlib<0.5,>=0.4.1 in /usr/local/lib/python3.10/dist-packages (from tensorboard) (0.4.6)\n",
            "Requirement already satisfied: markdown>=2.6.8 in /usr/local/lib/python3.10/dist-packages (from tensorboard) (3.7)\n",
            "Requirement already satisfied: numpy>=1.12.0 in /usr/local/lib/python3.10/dist-packages (from tensorboard) (2.0.2)\n",
            "Requirement already satisfied: protobuf>=3.6.0 in /usr/local/lib/python3.10/dist-packages (from tensorboard) (3.20.3)\n",
            "Requirement already satisfied: requests<3,>=2.21.0 in /usr/local/lib/python3.10/dist-packages (from tensorboard) (2.32.3)\n",
            "Requirement already satisfied: setuptools>=41.0.0 in /usr/local/lib/python3.10/dist-packages (from tensorboard) (75.1.0)\n",
            "Requirement already satisfied: six>=1.10.0 in /usr/local/lib/python3.10/dist-packages (from tensorboard) (1.16.0)\n",
            "Requirement already satisfied: tensorboard-plugin-wit>=1.6.0 in /usr/local/lib/python3.10/dist-packages (from tensorboard) (1.8.1)\n",
            "Requirement already satisfied: werkzeug>=0.11.15 in /usr/local/lib/python3.10/dist-packages (from tensorboard) (3.0.6)\n",
            "Requirement already satisfied: wheel>=0.26 in /usr/local/lib/python3.10/dist-packages (from tensorboard) (0.44.0)\n",
            "Requirement already satisfied: cachetools<5.0,>=2.0.0 in /usr/local/lib/python3.10/dist-packages (from google-auth<2,>=1.6.3->tensorboard) (4.2.4)\n",
            "Requirement already satisfied: pyasn1-modules>=0.2.1 in /usr/local/lib/python3.10/dist-packages (from google-auth<2,>=1.6.3->tensorboard) (0.4.1)\n",
            "Requirement already satisfied: rsa<5,>=3.1.4 in /usr/local/lib/python3.10/dist-packages (from google-auth<2,>=1.6.3->tensorboard) (4.9)\n",
            "Requirement already satisfied: requests-oauthlib>=0.7.0 in /usr/local/lib/python3.10/dist-packages (from google-auth-oauthlib<0.5,>=0.4.1->tensorboard) (1.3.1)\n",
            "Requirement already satisfied: charset-normalizer<4,>=2 in /usr/local/lib/python3.10/dist-packages (from requests<3,>=2.21.0->tensorboard) (3.4.0)\n",
            "Requirement already satisfied: idna<4,>=2.5 in /usr/local/lib/python3.10/dist-packages (from requests<3,>=2.21.0->tensorboard) (3.10)\n",
            "Requirement already satisfied: urllib3<3,>=1.21.1 in /usr/local/lib/python3.10/dist-packages (from requests<3,>=2.21.0->tensorboard) (2.2.3)\n",
            "Requirement already satisfied: certifi>=2017.4.17 in /usr/local/lib/python3.10/dist-packages (from requests<3,>=2.21.0->tensorboard) (2024.8.30)\n",
            "Requirement already satisfied: MarkupSafe>=2.1.1 in /usr/local/lib/python3.10/dist-packages (from werkzeug>=0.11.15->tensorboard) (3.0.2)\n",
            "Requirement already satisfied: pyasn1<0.7.0,>=0.4.6 in /usr/local/lib/python3.10/dist-packages (from pyasn1-modules>=0.2.1->google-auth<2,>=1.6.3->tensorboard) (0.6.1)\n",
            "Requirement already satisfied: oauthlib>=3.0.0 in /usr/local/lib/python3.10/dist-packages (from requests-oauthlib>=0.7.0->google-auth-oauthlib<0.5,>=0.4.1->tensorboard) (3.2.2)\n",
            "Requirement already satisfied: torch in /usr/local/lib/python3.10/dist-packages (2.5.0+cu121)\n",
            "Requirement already satisfied: torchvision in /usr/local/lib/python3.10/dist-packages (0.20.0+cu121)\n",
            "Requirement already satisfied: filelock in /usr/local/lib/python3.10/dist-packages (from torch) (3.16.1)\n",
            "Requirement already satisfied: typing-extensions>=4.8.0 in /usr/local/lib/python3.10/dist-packages (from torch) (4.12.2)\n",
            "Requirement already satisfied: networkx in /usr/local/lib/python3.10/dist-packages (from torch) (3.4.2)\n",
            "Requirement already satisfied: jinja2 in /usr/local/lib/python3.10/dist-packages (from torch) (3.1.4)\n",
            "Requirement already satisfied: fsspec in /usr/local/lib/python3.10/dist-packages (from torch) (2024.10.0)\n",
            "Requirement already satisfied: sympy==1.13.1 in /usr/local/lib/python3.10/dist-packages (from torch) (1.13.1)\n",
            "Requirement already satisfied: mpmath<1.4,>=1.1.0 in /usr/local/lib/python3.10/dist-packages (from sympy==1.13.1->torch) (1.3.0)\n",
            "Requirement already satisfied: numpy in /usr/local/lib/python3.10/dist-packages (from torchvision) (2.0.2)\n",
            "Requirement already satisfied: pillow!=8.3.*,>=5.3.0 in /usr/local/lib/python3.10/dist-packages (from torchvision) (10.4.0)\n",
            "Requirement already satisfied: MarkupSafe>=2.0 in /usr/local/lib/python3.10/dist-packages (from jinja2->torch) (3.0.2)\n",
            "Requirement already satisfied: Unidecode in /usr/local/lib/python3.10/dist-packages (1.1.1)\n"
          ]
        }
      ]
    },
    {
      "cell_type": "code",
      "source": [
        "!apt-get install espeak\n"
      ],
      "metadata": {
        "colab": {
          "base_uri": "https://localhost:8080/"
        },
        "id": "WYuRBM0dNsIw",
        "outputId": "d68ad811-d00a-4b3a-b182-ea385ea8c281"
      },
      "execution_count": null,
      "outputs": [
        {
          "output_type": "stream",
          "name": "stdout",
          "text": [
            "Reading package lists... Done\n",
            "Building dependency tree... Done\n",
            "Reading state information... Done\n",
            "espeak is already the newest version (1.48.15+dfsg-3).\n",
            "0 upgraded, 0 newly installed, 0 to remove and 49 not upgraded.\n"
          ]
        }
      ]
    },
    {
      "cell_type": "code",
      "source": [
        "import os\n",
        "\n",
        "\n",
        "def create_filelist(folder, filelist_name):\n",
        "    with open(filelist_name, 'w') as f:\n",
        "        for audio_file in sorted(os.listdir(folder)):\n",
        "            if audio_file.endswith('.wav'):\n",
        "                text_file = audio_file.replace('.wav', '.txt')\n",
        "                f.write(f'{folder}/{audio_file}|{folder}/{text_file}\\n')\n",
        "\n",
        "create_filelist('/content/drive/My Drive/train', 'filelists/train_filelist.txt')\n",
        "create_filelist('/content/drive/My Drive/val', 'filelists/val_filelist.txt')\n",
        "create_filelist('/content/drive/My Drive/test', 'filelists/test_filelist.txt')\n"
      ],
      "metadata": {
        "id": "ody01lVTUzmZ"
      },
      "execution_count": null,
      "outputs": []
    },
    {
      "cell_type": "code",
      "source": [
        "%cd monotonic_align\n"
      ],
      "metadata": {
        "colab": {
          "base_uri": "https://localhost:8080/"
        },
        "id": "tm_DpbKwWGqo",
        "outputId": "9111dc52-4a57-4dce-fa97-6ff61c6d43e2"
      },
      "execution_count": null,
      "outputs": [
        {
          "output_type": "stream",
          "name": "stdout",
          "text": [
            "/content/vits/vits/monotonic_align/vits/monotonic_align/vits/monotonic_align/vits/monotonic_align\n"
          ]
        }
      ]
    },
    {
      "cell_type": "code",
      "source": [
        "setup_file_path = '/content/vits/vits/monotonic_align/vits/monotonic_align/vits/monotonic_align/vits/monotonic_align/setup.py'\n",
        "with open(setup_file_path, 'r') as file:\n",
        "    content = file.readlines()\n",
        "\n",
        "modified_content = []\n",
        "for line in content:\n",
        "    if 'ext_modules=cythonize' in line:\n",
        "        modified_content.append('ext_modules=cythonize(\"core.pyx\", language_level=3),\\n')\n",
        "    else:\n",
        "        modified_content.append(line)\n",
        "\n",
        "with open(setup_file_path, 'w') as file:\n",
        "    file.writelines(modified_content)"
      ],
      "metadata": {
        "id": "lPgEHN6dsY-M"
      },
      "execution_count": null,
      "outputs": []
    },
    {
      "cell_type": "code",
      "source": [
        "!python setup.py build_ext --inplace\n"
      ],
      "metadata": {
        "colab": {
          "base_uri": "https://localhost:8080/"
        },
        "id": "7c-_SnKYZfs1",
        "outputId": "69964575-7e10-470f-a2fb-17fee2682740"
      },
      "execution_count": null,
      "outputs": [
        {
          "output_type": "stream",
          "name": "stdout",
          "text": [
            "error: could not create 'monotonic_align/core.cpython-310-x86_64-linux-gnu.so': No such file or directory\n"
          ]
        }
      ]
    },
    {
      "cell_type": "code",
      "source": [
        "!pwd\n"
      ],
      "metadata": {
        "colab": {
          "base_uri": "https://localhost:8080/"
        },
        "id": "stPBCdLrZyK7",
        "outputId": "2ceb0ba8-af61-4d05-a924-4a65c0311b25"
      },
      "execution_count": null,
      "outputs": [
        {
          "output_type": "stream",
          "name": "stdout",
          "text": [
            "/content/vits/vits/monotonic_align/vits/monotonic_align\n"
          ]
        }
      ]
    },
    {
      "cell_type": "code",
      "source": [
        "!ls\n"
      ],
      "metadata": {
        "colab": {
          "base_uri": "https://localhost:8080/"
        },
        "id": "qg6M3Qiph6vm",
        "outputId": "b7f4b1b1-061e-4587-befa-f5c81889a5a4"
      },
      "execution_count": null,
      "outputs": [
        {
          "output_type": "stream",
          "name": "stdout",
          "text": [
            "build  core.c  core.pyx  __init__.py  setup.py\n"
          ]
        }
      ]
    },
    {
      "cell_type": "code",
      "source": [],
      "metadata": {
        "id": "KjcoD43mrg-n"
      },
      "execution_count": null,
      "outputs": []
    }
  ]
}