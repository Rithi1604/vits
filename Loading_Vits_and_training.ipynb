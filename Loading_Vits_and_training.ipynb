{
  "nbformat": 4,
  "nbformat_minor": 0,
  "metadata": {
    "colab": {
      "provenance": []
    },
    "kernelspec": {
      "name": "python3",
      "display_name": "Python 3"
    },
    "language_info": {
      "name": "python"
    }
  },
  "cells": [
    {
      "cell_type": "code",
      "execution_count": 1,
      "metadata": {
        "colab": {
          "base_uri": "https://localhost:8080/"
        },
        "id": "qCJ46gmivuc4",
        "outputId": "050aeb77-32f0-4a04-eee8-582734531cdb"
      },
      "outputs": [
        {
          "output_type": "stream",
          "name": "stdout",
          "text": [
            "Drive already mounted at /content/drive; to attempt to forcibly remount, call drive.mount(\"/content/drive\", force_remount=True).\n"
          ]
        }
      ],
      "source": [
        "from google.colab import drive\n",
        "drive.mount('/content/drive')"
      ]
    },
    {
      "cell_type": "code",
      "source": [
        "!apt-get update\n",
        "!apt-get install python3.6\n",
        "!python3.6 -m venv /content/my_env_36 --without-pip\n",
        "!source /content/my_env_36/bin/activate\n",
        "!wget https://bootstrap.pypa.io/get-pip.py\n",
        "!python get-pip.py"
      ],
      "metadata": {
        "colab": {
          "base_uri": "https://localhost:8080/"
        },
        "id": "4fk33m5NGK6W",
        "outputId": "371c0eb9-f3ce-442b-b711-589a5bd47df6"
      },
      "execution_count": 2,
      "outputs": [
        {
          "output_type": "stream",
          "name": "stdout",
          "text": [
            "\r0% [Working]\r            \rHit:1 https://cloud.r-project.org/bin/linux/ubuntu jammy-cran40/ InRelease\n",
            "Hit:2 https://developer.download.nvidia.com/compute/cuda/repos/ubuntu2204/x86_64  InRelease\n",
            "Get:3 http://security.ubuntu.com/ubuntu jammy-security InRelease [129 kB]\n",
            "Hit:4 http://archive.ubuntu.com/ubuntu jammy InRelease\n",
            "Get:5 http://archive.ubuntu.com/ubuntu jammy-updates InRelease [128 kB]\n",
            "Hit:6 https://r2u.stat.illinois.edu/ubuntu jammy InRelease\n",
            "Hit:7 https://ppa.launchpadcontent.net/deadsnakes/ppa/ubuntu jammy InRelease\n",
            "Hit:8 https://ppa.launchpadcontent.net/graphics-drivers/ppa/ubuntu jammy InRelease\n",
            "Hit:9 https://ppa.launchpadcontent.net/ubuntugis/ppa/ubuntu jammy InRelease\n",
            "Hit:10 http://archive.ubuntu.com/ubuntu jammy-backports InRelease\n",
            "Fetched 257 kB in 2s (135 kB/s)\n",
            "Reading package lists... Done\n",
            "W: Skipping acquire of configured file 'main/source/Sources' as repository 'https://r2u.stat.illinois.edu/ubuntu jammy InRelease' does not seem to provide it (sources.list entry misspelt?)\n",
            "Reading package lists... Done\n",
            "Building dependency tree... Done\n",
            "Reading state information... Done\n",
            "Note, selecting 'libcasa-python3-6' for regex 'python3.6'\n",
            "Note, selecting 'libpython3.6-stdlib' for regex 'python3.6'\n",
            "Note, selecting 'python3.6-2to3' for regex 'python3.6'\n",
            "libcasa-python3-6 is already the newest version (3.4.0-2build1).\n",
            "The following packages were automatically installed and are no longer required:\n",
            "  libpython3.7 libpython3.7-dev libpython3.7-minimal libpython3.7-stdlib python3.7-minimal\n",
            "Use 'apt autoremove' to remove them.\n",
            "0 upgraded, 0 newly installed, 0 to remove and 59 not upgraded.\n",
            "/bin/bash: line 1: python3.6: command not found\n",
            "/bin/bash: line 1: /content/my_env_36/bin/activate: No such file or directory\n",
            "--2024-11-06 04:49:44--  https://bootstrap.pypa.io/get-pip.py\n",
            "Resolving bootstrap.pypa.io (bootstrap.pypa.io)... 151.101.0.175, 151.101.64.175, 151.101.128.175, ...\n",
            "Connecting to bootstrap.pypa.io (bootstrap.pypa.io)|151.101.0.175|:443... connected.\n",
            "HTTP request sent, awaiting response... 200 OK\n",
            "Length: 2275758 (2.2M) [text/x-python]\n",
            "Saving to: ‘get-pip.py.2’\n",
            "\n",
            "get-pip.py.2        100%[===================>]   2.17M  --.-KB/s    in 0.09s   \n",
            "\n",
            "2024-11-06 04:49:45 (25.4 MB/s) - ‘get-pip.py.2’ saved [2275758/2275758]\n",
            "\n",
            "Collecting pip\n",
            "  Using cached pip-24.3.1-py3-none-any.whl.metadata (3.7 kB)\n",
            "Using cached pip-24.3.1-py3-none-any.whl (1.8 MB)\n",
            "Installing collected packages: pip\n",
            "  Attempting uninstall: pip\n",
            "    Found existing installation: pip 24.3.1\n",
            "    Uninstalling pip-24.3.1:\n",
            "      Successfully uninstalled pip-24.3.1\n",
            "Successfully installed pip-24.3.1\n"
          ]
        }
      ]
    },
    {
      "cell_type": "code",
      "source": [
        "!python3.6 -m venv /content/my_env --without-pip"
      ],
      "metadata": {
        "id": "mjq6mQbCGK9U",
        "colab": {
          "base_uri": "https://localhost:8080/"
        },
        "outputId": "2b524686-7d0d-42a3-cabc-acb0b7bd4094"
      },
      "execution_count": 3,
      "outputs": [
        {
          "output_type": "stream",
          "name": "stdout",
          "text": [
            "/bin/bash: line 1: python3.6: command not found\n"
          ]
        }
      ]
    },
    {
      "cell_type": "code",
      "source": [
        "!source /content/my_env/bin/activate"
      ],
      "metadata": {
        "id": "lBveObCzGLAP",
        "colab": {
          "base_uri": "https://localhost:8080/"
        },
        "outputId": "2897efef-237b-46bb-e169-40a88d00372d"
      },
      "execution_count": 4,
      "outputs": [
        {
          "output_type": "stream",
          "name": "stdout",
          "text": [
            "/bin/bash: line 1: /content/my_env/bin/activate: No such file or directory\n"
          ]
        }
      ]
    },
    {
      "cell_type": "code",
      "source": [
        "!wget https://bootstrap.pypa.io/get-pip.py\n"
      ],
      "metadata": {
        "colab": {
          "base_uri": "https://localhost:8080/"
        },
        "id": "PDcz_ORoGgzb",
        "outputId": "0ec3532b-fb18-4709-91e3-2ba2d6f50a2f"
      },
      "execution_count": 5,
      "outputs": [
        {
          "output_type": "stream",
          "name": "stdout",
          "text": [
            "--2024-11-06 04:38:34--  https://bootstrap.pypa.io/get-pip.py\n",
            "Resolving bootstrap.pypa.io (bootstrap.pypa.io)... 151.101.0.175, 151.101.64.175, 151.101.128.175, ...\n",
            "Connecting to bootstrap.pypa.io (bootstrap.pypa.io)|151.101.0.175|:443... connected.\n",
            "HTTP request sent, awaiting response... 200 OK\n",
            "Length: 2275758 (2.2M) [text/x-python]\n",
            "Saving to: ‘get-pip.py.1’\n",
            "\n",
            "\rget-pip.py.1          0%[                    ]       0  --.-KB/s               \rget-pip.py.1        100%[===================>]   2.17M  --.-KB/s    in 0.08s   \n",
            "\n",
            "2024-11-06 04:38:34 (26.0 MB/s) - ‘get-pip.py.1’ saved [2275758/2275758]\n",
            "\n"
          ]
        }
      ]
    },
    {
      "cell_type": "code",
      "source": [
        "!python get-pip.py"
      ],
      "metadata": {
        "colab": {
          "base_uri": "https://localhost:8080/"
        },
        "id": "L0N2XAsiGgoM",
        "outputId": "56500e7d-f5cc-42cf-89d9-31f0f75d0144"
      },
      "execution_count": 6,
      "outputs": [
        {
          "output_type": "stream",
          "name": "stdout",
          "text": [
            "Collecting pip\n",
            "  Using cached pip-24.3.1-py3-none-any.whl.metadata (3.7 kB)\n",
            "Using cached pip-24.3.1-py3-none-any.whl (1.8 MB)\n",
            "Installing collected packages: pip\n",
            "  Attempting uninstall: pip\n",
            "    Found existing installation: pip 24.3.1\n",
            "    Uninstalling pip-24.3.1:\n",
            "      Successfully uninstalled pip-24.3.1\n",
            "Successfully installed pip-24.3.1\n"
          ]
        }
      ]
    },
    {
      "cell_type": "code",
      "source": [
        "# Clone the VITS repository\n",
        "\n",
        "\n",
        "!git clone https://github.com/jaywalnut310/vits.git\n",
        "\n",
        "\n"
      ],
      "metadata": {
        "colab": {
          "base_uri": "https://localhost:8080/"
        },
        "id": "vMVpVVPEG6Vd",
        "outputId": "cafe19a6-68de-4337-dfdd-9f5c1f9320fe"
      },
      "execution_count": 3,
      "outputs": [
        {
          "output_type": "stream",
          "name": "stdout",
          "text": [
            "fatal: destination path 'vits' already exists and is not an empty directory.\n"
          ]
        }
      ]
    },
    {
      "cell_type": "code",
      "source": [
        "# Change to the VITS directory\n",
        "%cd vits\n",
        "\n",
        "# List the contents of the directory to check if it's cloned successfully\n",
        "!ls -l"
      ],
      "metadata": {
        "colab": {
          "base_uri": "https://localhost:8080/"
        },
        "id": "OyrzlUFVG6YF",
        "outputId": "2a147a04-ea7b-4b6a-af11-386846b322e0"
      },
      "execution_count": 4,
      "outputs": [
        {
          "output_type": "stream",
          "name": "stdout",
          "text": [
            "/content/vits\n",
            "total 168\n",
            "-rw-r--r-- 1 root root 11780 Nov  6 04:28 attentions.py\n",
            "-rw-r--r-- 1 root root  4778 Nov  6 04:28 commons.py\n",
            "drwxr-xr-x 2 root root  4096 Nov  6 04:28 configs\n",
            "-rw-r--r-- 1 root root 15027 Nov  6 04:28 data_utils.py\n",
            "drwxr-xr-x 2 root root  4096 Nov  6 04:40 filelists\n",
            "-rw-r--r-- 1 root root  6103 Nov  6 04:28 inference.ipynb\n",
            "-rw-r--r-- 1 root root  1069 Nov  6 04:28 LICENSE\n",
            "-rw-r--r-- 1 root root  1314 Nov  6 04:28 losses.py\n",
            "-rw-r--r-- 1 root root  3825 Nov  6 04:28 mel_processing.py\n",
            "-rw-r--r-- 1 root root 19375 Nov  6 04:28 models.py\n",
            "-rw-r--r-- 1 root root 13166 Nov  6 04:28 modules.py\n",
            "drwxr-xr-x 3 root root  4096 Nov  6 04:43 monotonic_align\n",
            "-rw-r--r-- 1 root root  1066 Nov  6 04:28 preprocess.py\n",
            "-rw-r--r-- 1 root root  3664 Nov  6 04:28 README.md\n",
            "-rw-r--r-- 1 root root   142 Nov  6 04:39 requirements.txt\n",
            "drwxr-xr-x 2 root root  4096 Nov  6 04:28 resources\n",
            "drwxr-xr-x 2 root root  4096 Nov  6 04:28 text\n",
            "-rw-r--r-- 1 root root 10947 Nov  6 04:28 train_ms.py\n",
            "-rw-r--r-- 1 root root 10712 Nov  6 04:28 train.py\n",
            "-rw-r--r-- 1 root root  8490 Nov  6 04:28 transforms.py\n",
            "-rw-r--r-- 1 root root  7396 Nov  6 04:28 utils.py\n"
          ]
        }
      ]
    },
    {
      "cell_type": "code",
      "source": [
        "!pip install -r requirements.txt"
      ],
      "metadata": {
        "id": "E7En2PywG6bV",
        "colab": {
          "base_uri": "https://localhost:8080/"
        },
        "outputId": "06597b58-b275-413a-cd93-61dfee6c8042"
      },
      "execution_count": 5,
      "outputs": [
        {
          "output_type": "stream",
          "name": "stdout",
          "text": [
            "Requirement already satisfied: Cython==0.29.21 in /usr/local/lib/python3.10/dist-packages (from -r requirements.txt (line 1)) (0.29.21)\n",
            "Requirement already satisfied: librosa==0.8.0 in /usr/local/lib/python3.10/dist-packages (from -r requirements.txt (line 2)) (0.8.0)\n",
            "Requirement already satisfied: matplotlib in /usr/local/lib/python3.10/dist-packages (from -r requirements.txt (line 3)) (3.5.0)\n",
            "Requirement already satisfied: numpy in /usr/local/lib/python3.10/dist-packages (from -r requirements.txt (line 4)) (1.26.4)\n",
            "Requirement already satisfied: phonemizer==2.2.1 in /usr/local/lib/python3.10/dist-packages (from -r requirements.txt (line 5)) (2.2.1)\n",
            "Requirement already satisfied: scipy in /usr/local/lib/python3.10/dist-packages (from -r requirements.txt (line 6)) (1.13.1)\n",
            "Requirement already satisfied: tensorboard==2.3.0 in /usr/local/lib/python3.10/dist-packages (from -r requirements.txt (line 7)) (2.3.0)\n",
            "Requirement already satisfied: torch==1.11.0 in /usr/local/lib/python3.10/dist-packages (from -r requirements.txt (line 8)) (1.11.0)\n",
            "Requirement already satisfied: torchvision==0.12.0 in /usr/local/lib/python3.10/dist-packages (from -r requirements.txt (line 9)) (0.12.0)\n",
            "Requirement already satisfied: Unidecode==1.1.1 in /usr/local/lib/python3.10/dist-packages (from -r requirements.txt (line 10)) (1.1.1)\n",
            "Requirement already satisfied: audioread>=2.0.0 in /usr/local/lib/python3.10/dist-packages (from librosa==0.8.0->-r requirements.txt (line 2)) (3.0.1)\n",
            "Requirement already satisfied: scikit-learn!=0.19.0,>=0.14.0 in /usr/local/lib/python3.10/dist-packages (from librosa==0.8.0->-r requirements.txt (line 2)) (1.5.2)\n",
            "Requirement already satisfied: joblib>=0.14 in /usr/local/lib/python3.10/dist-packages (from librosa==0.8.0->-r requirements.txt (line 2)) (1.4.2)\n",
            "Requirement already satisfied: decorator>=3.0.0 in /usr/local/lib/python3.10/dist-packages (from librosa==0.8.0->-r requirements.txt (line 2)) (4.4.2)\n",
            "Requirement already satisfied: resampy>=0.2.2 in /usr/local/lib/python3.10/dist-packages (from librosa==0.8.0->-r requirements.txt (line 2)) (0.4.3)\n",
            "Requirement already satisfied: numba>=0.43.0 in /usr/local/lib/python3.10/dist-packages (from librosa==0.8.0->-r requirements.txt (line 2)) (0.60.0)\n",
            "Requirement already satisfied: soundfile>=0.9.0 in /usr/local/lib/python3.10/dist-packages (from librosa==0.8.0->-r requirements.txt (line 2)) (0.12.1)\n",
            "Requirement already satisfied: pooch>=1.0 in /usr/local/lib/python3.10/dist-packages (from librosa==0.8.0->-r requirements.txt (line 2)) (1.8.2)\n",
            "Requirement already satisfied: segments in /usr/local/lib/python3.10/dist-packages (from phonemizer==2.2.1->-r requirements.txt (line 5)) (2.2.1)\n",
            "Requirement already satisfied: attrs>=18.1 in /usr/local/lib/python3.10/dist-packages (from phonemizer==2.2.1->-r requirements.txt (line 5)) (24.2.0)\n",
            "Requirement already satisfied: absl-py>=0.4 in /usr/local/lib/python3.10/dist-packages (from tensorboard==2.3.0->-r requirements.txt (line 7)) (1.4.0)\n",
            "Requirement already satisfied: grpcio>=1.24.3 in /usr/local/lib/python3.10/dist-packages (from tensorboard==2.3.0->-r requirements.txt (line 7)) (1.64.1)\n",
            "Requirement already satisfied: google-auth<2,>=1.6.3 in /usr/local/lib/python3.10/dist-packages (from tensorboard==2.3.0->-r requirements.txt (line 7)) (1.35.0)\n",
            "Requirement already satisfied: google-auth-oauthlib<0.5,>=0.4.1 in /usr/local/lib/python3.10/dist-packages (from tensorboard==2.3.0->-r requirements.txt (line 7)) (0.4.6)\n",
            "Requirement already satisfied: markdown>=2.6.8 in /usr/local/lib/python3.10/dist-packages (from tensorboard==2.3.0->-r requirements.txt (line 7)) (3.7)\n",
            "Requirement already satisfied: protobuf>=3.6.0 in /usr/local/lib/python3.10/dist-packages (from tensorboard==2.3.0->-r requirements.txt (line 7)) (3.20.3)\n",
            "Requirement already satisfied: requests<3,>=2.21.0 in /usr/local/lib/python3.10/dist-packages (from tensorboard==2.3.0->-r requirements.txt (line 7)) (2.32.3)\n",
            "Requirement already satisfied: setuptools>=41.0.0 in /usr/local/lib/python3.10/dist-packages (from tensorboard==2.3.0->-r requirements.txt (line 7)) (75.1.0)\n",
            "Requirement already satisfied: six>=1.10.0 in /usr/local/lib/python3.10/dist-packages (from tensorboard==2.3.0->-r requirements.txt (line 7)) (1.16.0)\n",
            "Requirement already satisfied: tensorboard-plugin-wit>=1.6.0 in /usr/local/lib/python3.10/dist-packages (from tensorboard==2.3.0->-r requirements.txt (line 7)) (1.8.1)\n",
            "Requirement already satisfied: werkzeug>=0.11.15 in /usr/local/lib/python3.10/dist-packages (from tensorboard==2.3.0->-r requirements.txt (line 7)) (3.0.6)\n",
            "Requirement already satisfied: wheel>=0.26 in /usr/local/lib/python3.10/dist-packages (from tensorboard==2.3.0->-r requirements.txt (line 7)) (0.44.0)\n",
            "Requirement already satisfied: typing-extensions in /usr/local/lib/python3.10/dist-packages (from torch==1.11.0->-r requirements.txt (line 8)) (4.12.2)\n",
            "Requirement already satisfied: pillow!=8.3.*,>=5.3.0 in /usr/local/lib/python3.10/dist-packages (from torchvision==0.12.0->-r requirements.txt (line 9)) (10.4.0)\n",
            "Requirement already satisfied: cycler>=0.10 in /usr/local/lib/python3.10/dist-packages (from matplotlib->-r requirements.txt (line 3)) (0.12.1)\n",
            "Requirement already satisfied: fonttools>=4.22.0 in /usr/local/lib/python3.10/dist-packages (from matplotlib->-r requirements.txt (line 3)) (4.54.1)\n",
            "Requirement already satisfied: kiwisolver>=1.0.1 in /usr/local/lib/python3.10/dist-packages (from matplotlib->-r requirements.txt (line 3)) (1.4.7)\n",
            "Requirement already satisfied: packaging>=20.0 in /usr/local/lib/python3.10/dist-packages (from matplotlib->-r requirements.txt (line 3)) (24.1)\n",
            "Requirement already satisfied: pyparsing>=2.2.1 in /usr/local/lib/python3.10/dist-packages (from matplotlib->-r requirements.txt (line 3)) (3.2.0)\n",
            "Requirement already satisfied: python-dateutil>=2.7 in /usr/local/lib/python3.10/dist-packages (from matplotlib->-r requirements.txt (line 3)) (2.8.2)\n",
            "Requirement already satisfied: setuptools-scm>=4 in /usr/local/lib/python3.10/dist-packages (from matplotlib->-r requirements.txt (line 3)) (8.1.0)\n",
            "Requirement already satisfied: cachetools<5.0,>=2.0.0 in /usr/local/lib/python3.10/dist-packages (from google-auth<2,>=1.6.3->tensorboard==2.3.0->-r requirements.txt (line 7)) (4.2.4)\n",
            "Requirement already satisfied: pyasn1-modules>=0.2.1 in /usr/local/lib/python3.10/dist-packages (from google-auth<2,>=1.6.3->tensorboard==2.3.0->-r requirements.txt (line 7)) (0.4.1)\n",
            "Requirement already satisfied: rsa<5,>=3.1.4 in /usr/local/lib/python3.10/dist-packages (from google-auth<2,>=1.6.3->tensorboard==2.3.0->-r requirements.txt (line 7)) (4.9)\n",
            "Requirement already satisfied: requests-oauthlib>=0.7.0 in /usr/local/lib/python3.10/dist-packages (from google-auth-oauthlib<0.5,>=0.4.1->tensorboard==2.3.0->-r requirements.txt (line 7)) (1.3.1)\n",
            "Requirement already satisfied: llvmlite<0.44,>=0.43.0dev0 in /usr/local/lib/python3.10/dist-packages (from numba>=0.43.0->librosa==0.8.0->-r requirements.txt (line 2)) (0.43.0)\n",
            "Requirement already satisfied: platformdirs>=2.5.0 in /usr/local/lib/python3.10/dist-packages (from pooch>=1.0->librosa==0.8.0->-r requirements.txt (line 2)) (4.3.6)\n",
            "Requirement already satisfied: charset-normalizer<4,>=2 in /usr/local/lib/python3.10/dist-packages (from requests<3,>=2.21.0->tensorboard==2.3.0->-r requirements.txt (line 7)) (3.4.0)\n",
            "Requirement already satisfied: idna<4,>=2.5 in /usr/local/lib/python3.10/dist-packages (from requests<3,>=2.21.0->tensorboard==2.3.0->-r requirements.txt (line 7)) (3.10)\n",
            "Requirement already satisfied: urllib3<3,>=1.21.1 in /usr/local/lib/python3.10/dist-packages (from requests<3,>=2.21.0->tensorboard==2.3.0->-r requirements.txt (line 7)) (2.2.3)\n",
            "Requirement already satisfied: certifi>=2017.4.17 in /usr/local/lib/python3.10/dist-packages (from requests<3,>=2.21.0->tensorboard==2.3.0->-r requirements.txt (line 7)) (2024.8.30)\n",
            "Requirement already satisfied: threadpoolctl>=3.1.0 in /usr/local/lib/python3.10/dist-packages (from scikit-learn!=0.19.0,>=0.14.0->librosa==0.8.0->-r requirements.txt (line 2)) (3.5.0)\n",
            "Requirement already satisfied: tomli>=1 in /usr/local/lib/python3.10/dist-packages (from setuptools-scm>=4->matplotlib->-r requirements.txt (line 3)) (2.0.2)\n",
            "Requirement already satisfied: cffi>=1.0 in /usr/local/lib/python3.10/dist-packages (from soundfile>=0.9.0->librosa==0.8.0->-r requirements.txt (line 2)) (1.17.1)\n",
            "Requirement already satisfied: MarkupSafe>=2.1.1 in /usr/local/lib/python3.10/dist-packages (from werkzeug>=0.11.15->tensorboard==2.3.0->-r requirements.txt (line 7)) (3.0.2)\n",
            "Requirement already satisfied: clldutils>=1.7.3 in /usr/local/lib/python3.10/dist-packages (from segments->phonemizer==2.2.1->-r requirements.txt (line 5)) (3.24.0)\n",
            "Requirement already satisfied: csvw>=1.5.6 in /usr/local/lib/python3.10/dist-packages (from segments->phonemizer==2.2.1->-r requirements.txt (line 5)) (3.5.1)\n",
            "Requirement already satisfied: regex in /usr/local/lib/python3.10/dist-packages (from segments->phonemizer==2.2.1->-r requirements.txt (line 5)) (2024.9.11)\n",
            "Requirement already satisfied: pycparser in /usr/local/lib/python3.10/dist-packages (from cffi>=1.0->soundfile>=0.9.0->librosa==0.8.0->-r requirements.txt (line 2)) (2.22)\n",
            "Requirement already satisfied: tabulate>=0.7.7 in /usr/local/lib/python3.10/dist-packages (from clldutils>=1.7.3->segments->phonemizer==2.2.1->-r requirements.txt (line 5)) (0.9.0)\n",
            "Requirement already satisfied: colorlog in /usr/local/lib/python3.10/dist-packages (from clldutils>=1.7.3->segments->phonemizer==2.2.1->-r requirements.txt (line 5)) (6.9.0)\n",
            "Requirement already satisfied: bibtexparser>=2.0.0b4 in /usr/local/lib/python3.10/dist-packages (from clldutils>=1.7.3->segments->phonemizer==2.2.1->-r requirements.txt (line 5)) (2.0.0b7)\n",
            "Requirement already satisfied: pylatexenc in /usr/local/lib/python3.10/dist-packages (from clldutils>=1.7.3->segments->phonemizer==2.2.1->-r requirements.txt (line 5)) (2.10)\n",
            "Requirement already satisfied: lxml in /usr/local/lib/python3.10/dist-packages (from clldutils>=1.7.3->segments->phonemizer==2.2.1->-r requirements.txt (line 5)) (5.3.0)\n",
            "Requirement already satisfied: isodate in /usr/local/lib/python3.10/dist-packages (from csvw>=1.5.6->segments->phonemizer==2.2.1->-r requirements.txt (line 5)) (0.7.2)\n",
            "Requirement already satisfied: rfc3986<2 in /usr/local/lib/python3.10/dist-packages (from csvw>=1.5.6->segments->phonemizer==2.2.1->-r requirements.txt (line 5)) (1.5.0)\n",
            "Requirement already satisfied: uritemplate>=3.0.0 in /usr/local/lib/python3.10/dist-packages (from csvw>=1.5.6->segments->phonemizer==2.2.1->-r requirements.txt (line 5)) (4.1.1)\n",
            "Requirement already satisfied: babel in /usr/local/lib/python3.10/dist-packages (from csvw>=1.5.6->segments->phonemizer==2.2.1->-r requirements.txt (line 5)) (2.16.0)\n",
            "Requirement already satisfied: language-tags in /usr/local/lib/python3.10/dist-packages (from csvw>=1.5.6->segments->phonemizer==2.2.1->-r requirements.txt (line 5)) (1.2.0)\n",
            "Requirement already satisfied: rdflib in /usr/local/lib/python3.10/dist-packages (from csvw>=1.5.6->segments->phonemizer==2.2.1->-r requirements.txt (line 5)) (7.1.1)\n",
            "Requirement already satisfied: colorama in /usr/local/lib/python3.10/dist-packages (from csvw>=1.5.6->segments->phonemizer==2.2.1->-r requirements.txt (line 5)) (0.4.6)\n",
            "Requirement already satisfied: jsonschema in /usr/local/lib/python3.10/dist-packages (from csvw>=1.5.6->segments->phonemizer==2.2.1->-r requirements.txt (line 5)) (4.23.0)\n",
            "Requirement already satisfied: pyasn1<0.7.0,>=0.4.6 in /usr/local/lib/python3.10/dist-packages (from pyasn1-modules>=0.2.1->google-auth<2,>=1.6.3->tensorboard==2.3.0->-r requirements.txt (line 7)) (0.6.1)\n",
            "Requirement already satisfied: oauthlib>=3.0.0 in /usr/local/lib/python3.10/dist-packages (from requests-oauthlib>=0.7.0->google-auth-oauthlib<0.5,>=0.4.1->tensorboard==2.3.0->-r requirements.txt (line 7)) (3.2.2)\n",
            "Requirement already satisfied: jsonschema-specifications>=2023.03.6 in /usr/local/lib/python3.10/dist-packages (from jsonschema->csvw>=1.5.6->segments->phonemizer==2.2.1->-r requirements.txt (line 5)) (2024.10.1)\n",
            "Requirement already satisfied: referencing>=0.28.4 in /usr/local/lib/python3.10/dist-packages (from jsonschema->csvw>=1.5.6->segments->phonemizer==2.2.1->-r requirements.txt (line 5)) (0.35.1)\n",
            "Requirement already satisfied: rpds-py>=0.7.1 in /usr/local/lib/python3.10/dist-packages (from jsonschema->csvw>=1.5.6->segments->phonemizer==2.2.1->-r requirements.txt (line 5)) (0.20.0)\n"
          ]
        }
      ]
    },
    {
      "cell_type": "code",
      "source": [],
      "metadata": {
        "id": "Q8_atS6ILItp"
      },
      "execution_count": 10,
      "outputs": []
    },
    {
      "cell_type": "code",
      "source": [
        "!apt-get install espeak\n"
      ],
      "metadata": {
        "colab": {
          "base_uri": "https://localhost:8080/"
        },
        "id": "g_NXRSVxHeez",
        "outputId": "7860b744-fda1-419c-ee39-6dfa54a6fd73"
      },
      "execution_count": 6,
      "outputs": [
        {
          "output_type": "stream",
          "name": "stdout",
          "text": [
            "Reading package lists... Done\n",
            "Building dependency tree... Done\n",
            "Reading state information... Done\n",
            "espeak is already the newest version (1.48.15+dfsg-3).\n",
            "The following packages were automatically installed and are no longer required:\n",
            "  libpython3.7 libpython3.7-dev libpython3.7-minimal libpython3.7-stdlib python3.7-minimal\n",
            "Use 'apt autoremove' to remove them.\n",
            "0 upgraded, 0 newly installed, 0 to remove and 59 not upgraded.\n"
          ]
        }
      ]
    },
    {
      "cell_type": "code",
      "source": [
        "import os\n",
        "\n",
        "\n",
        "def create_filelist(folder, filelist_name):\n",
        "    with open(filelist_name, 'w') as f:\n",
        "        for audio_file in sorted(os.listdir(folder)):\n",
        "            if audio_file.endswith('.wav'):\n",
        "                text_file = audio_file.replace('.wav', '.txt')\n",
        "                f.write(f'{folder}/{audio_file}|{folder}/{text_file}\\n')\n",
        "\n",
        "create_filelist('/content/drive/My Drive/train', 'filelists/train_filelist.txt')\n",
        "create_filelist('/content/drive/My Drive/val', 'filelists/val_filelist.txt')\n",
        "create_filelist('/content/drive/My Drive/test', 'filelists/test_filelist.txt')\n"
      ],
      "metadata": {
        "id": "JeFRnWLMHeck"
      },
      "execution_count": 7,
      "outputs": []
    },
    {
      "cell_type": "code",
      "source": [
        "%cd monotonic_align\n",
        "\n"
      ],
      "metadata": {
        "colab": {
          "base_uri": "https://localhost:8080/"
        },
        "id": "DE4O1dxtHeaL",
        "outputId": "2c5894d3-324a-4dae-80c1-c702e8bcdcef"
      },
      "execution_count": 8,
      "outputs": [
        {
          "output_type": "stream",
          "name": "stdout",
          "text": [
            "/content/vits/monotonic_align\n"
          ]
        }
      ]
    },
    {
      "cell_type": "code",
      "source": [
        "!ls /content/vits/monotonic_align\n"
      ],
      "metadata": {
        "colab": {
          "base_uri": "https://localhost:8080/"
        },
        "id": "CQzDbZjDHeXa",
        "outputId": "f51c6c48-6e6f-4ef0-8aeb-adb318275f0a"
      },
      "execution_count": 9,
      "outputs": [
        {
          "output_type": "stream",
          "name": "stdout",
          "text": [
            "build  core.c  core.pyx  __init__.py  setup.py\n"
          ]
        }
      ]
    },
    {
      "cell_type": "code",
      "source": [
        "ls -l /content/vits/monotonic_align/\n"
      ],
      "metadata": {
        "colab": {
          "base_uri": "https://localhost:8080/"
        },
        "id": "khHazz5ZMhdU",
        "outputId": "3af3d8cc-6908-40e6-a910-9485789ff00f"
      },
      "execution_count": 18,
      "outputs": [
        {
          "output_type": "stream",
          "name": "stdout",
          "text": [
            "total 776\n",
            "drwxr-xr-x 4 root root   4096 Nov  5 21:14 \u001b[0m\u001b[01;34mbuild\u001b[0m/\n",
            "-rw-r--r-- 1 root root 776562 Nov  5 21:17 core.c\n",
            "-rw-r--r-- 1 root root   1149 Nov  5 21:17 core.pyx\n",
            "-rw-r--r-- 1 root root    612 Nov  5 21:06 __init__.py\n",
            "-rw-r--r-- 1 root root    240 Nov  5 21:17 setup.py\n"
          ]
        }
      ]
    },
    {
      "cell_type": "code",
      "source": [
        "!pip install build --upgrade  # Ensure you have the latest version of build\n",
        "!python -m build               # Build the package"
      ],
      "metadata": {
        "colab": {
          "base_uri": "https://localhost:8080/"
        },
        "id": "KcObYcSxMhf5",
        "outputId": "d514074b-3537-46fd-9cb1-688750dd1c6f"
      },
      "execution_count": 12,
      "outputs": [
        {
          "output_type": "stream",
          "name": "stdout",
          "text": [
            "Collecting build\n",
            "  Downloading build-1.2.2.post1-py3-none-any.whl.metadata (6.5 kB)\n",
            "Requirement already satisfied: packaging>=19.1 in /usr/local/lib/python3.10/dist-packages (from build) (24.1)\n",
            "Collecting pyproject_hooks (from build)\n",
            "  Downloading pyproject_hooks-1.2.0-py3-none-any.whl.metadata (1.3 kB)\n",
            "Requirement already satisfied: tomli>=1.1.0 in /usr/local/lib/python3.10/dist-packages (from build) (2.0.2)\n",
            "Downloading build-1.2.2.post1-py3-none-any.whl (22 kB)\n",
            "Downloading pyproject_hooks-1.2.0-py3-none-any.whl (10 kB)\n",
            "Installing collected packages: pyproject_hooks, build\n",
            "Successfully installed build-1.2.2.post1 pyproject_hooks-1.2.0\n",
            "\u001b[1m* Creating isolated environment: venv+pip...\u001b[0m\n",
            "\u001b[1m* Installing packages in isolated environment:\u001b[0m\n",
            "  - setuptools >= 40.8.0\n",
            "\u001b[1m* Getting build dependencies for sdist...\u001b[0m\n",
            "Traceback (most recent call last):\n",
            "  File \"/usr/local/lib/python3.10/dist-packages/pyproject_hooks/_in_process/_in_process.py\", line 389, in <module>\n",
            "    main()\n",
            "  File \"/usr/local/lib/python3.10/dist-packages/pyproject_hooks/_in_process/_in_process.py\", line 373, in main\n",
            "    json_out[\"return_val\"] = hook(**hook_input[\"kwargs\"])\n",
            "  File \"/usr/local/lib/python3.10/dist-packages/pyproject_hooks/_in_process/_in_process.py\", line 317, in get_requires_for_build_sdist\n",
            "    return hook(config_settings)\n",
            "  File \"/tmp/build-env-5xj68h78/lib/python3.10/site-packages/setuptools/build_meta.py\", line 336, in get_requires_for_build_sdist\n",
            "    return self._get_build_requires(config_settings, requirements=[])\n",
            "  File \"/tmp/build-env-5xj68h78/lib/python3.10/site-packages/setuptools/build_meta.py\", line 303, in _get_build_requires\n",
            "    self.run_setup()\n",
            "  File \"/tmp/build-env-5xj68h78/lib/python3.10/site-packages/setuptools/build_meta.py\", line 521, in run_setup\n",
            "    super().run_setup(setup_script=setup_script)\n",
            "  File \"/tmp/build-env-5xj68h78/lib/python3.10/site-packages/setuptools/build_meta.py\", line 319, in run_setup\n",
            "    exec(code, locals())\n",
            "  File \"<string>\", line 2, in <module>\n",
            "ModuleNotFoundError: No module named 'Cython'\n",
            "\n",
            "\u001b[91mERROR\u001b[0m Backend subprocess exited when trying to invoke get_requires_for_build_sdist\n"
          ]
        }
      ]
    },
    {
      "cell_type": "code",
      "source": [
        " !python setup.py build_ext --inplace"
      ],
      "metadata": {
        "colab": {
          "base_uri": "https://localhost:8080/"
        },
        "id": "qQF_RBf_Nfpv",
        "outputId": "2f540e66-cbae-42e9-ced1-5babd28d33ba"
      },
      "execution_count": 11,
      "outputs": [
        {
          "output_type": "stream",
          "name": "stdout",
          "text": [
            "error: could not create 'monotonic_align/core.cpython-310-x86_64-linux-gnu.so': No such file or directory\n"
          ]
        }
      ]
    },
    {
      "cell_type": "code",
      "source": [
        "%cd /content/vits/monotonic_align\n",
        "!rm -rf build/\n",
        "!python setup.py build_ext --inplace\n"
      ],
      "metadata": {
        "colab": {
          "base_uri": "https://localhost:8080/"
        },
        "id": "qpDIARZnHeJy",
        "outputId": "1b563804-5c9e-4480-a11f-01aaf48db08c"
      },
      "execution_count": 32,
      "outputs": [
        {
          "output_type": "stream",
          "name": "stdout",
          "text": [
            "/content/vits/monotonic_align\n",
            "\u001b[01m\u001b[Kcore.c:\u001b[m\u001b[K In function ‘\u001b[01m\u001b[K__Pyx_InitGlobals\u001b[m\u001b[K’:\n",
            "\u001b[01m\u001b[Kcore.c:16754:1:\u001b[m\u001b[K \u001b[01;35m\u001b[Kwarning: \u001b[m\u001b[K‘\u001b[01m\u001b[KPyEval_InitThreads\u001b[m\u001b[K’ is deprecated [\u001b[01;35m\u001b[K\u001b]8;;https://gcc.gnu.org/onlinedocs/gcc/Warning-Options.html#index-Wdeprecated-declarations\u0007-Wdeprecated-declarations\u001b]8;;\u0007\u001b[m\u001b[K]\n",
            "16754 | \u001b[01;35m\u001b[KPyEval_InitThreads\u001b[m\u001b[K();\n",
            "      | \u001b[01;35m\u001b[K^~~~~~~~~~~~~~~~~~\u001b[m\u001b[K\n",
            "In file included from \u001b[01m\u001b[K/usr/include/python3.10/Python.h:130\u001b[m\u001b[K,\n",
            "                 from \u001b[01m\u001b[Kcore.c:4\u001b[m\u001b[K:\n",
            "\u001b[01m\u001b[K/usr/include/python3.10/ceval.h:122:37:\u001b[m\u001b[K \u001b[01;36m\u001b[Knote: \u001b[m\u001b[Kdeclared here\n",
            "  122 | Py_DEPRECATED(3.9) PyAPI_FUNC(void) \u001b[01;36m\u001b[KPyEval_InitThreads\u001b[m\u001b[K(void);\n",
            "      |                                     \u001b[01;36m\u001b[K^~~~~~~~~~~~~~~~~~\u001b[m\u001b[K\n",
            "error: could not create 'monotonic_align/core.cpython-310-x86_64-linux-gnu.so': No such file or directory\n"
          ]
        }
      ]
    },
    {
      "cell_type": "code",
      "source": [
        "!pip install Cython\n",
        "%cd /content/vits/monotonic_align\n",
        "!rm -rf build\n",
        "!python3 -m cython core.pyx -o core.c\n",
        "!gcc -shared -pthread -fPIC -fwrapv -O2 -Wall -fno-strict-aliasing -I/usr/include/python3.10 -o core.cpython-310-x86_64-linux-gnu.so core.c -D CYTHON_PEP489_MULTI_PHASE_INIT=0"
      ],
      "metadata": {
        "colab": {
          "base_uri": "https://localhost:8080/"
        },
        "id": "Pjkb1fdGP4MG",
        "outputId": "eb6e9b45-1721-407c-d9d2-f689d1b9bf8f"
      },
      "execution_count": 31,
      "outputs": [
        {
          "output_type": "stream",
          "name": "stdout",
          "text": [
            "Requirement already satisfied: Cython in /usr/local/lib/python3.10/dist-packages (0.29.21)\n",
            "/content/vits/monotonic_align\n",
            "/usr/local/lib/python3.10/dist-packages/Cython/Compiler/Main.py:369: FutureWarning: Cython directive 'language_level' not set, using 2 for now (Py2). This will change in a later release! File: /content/vits/monotonic_align/core.pyx\n",
            "  tree = Parsing.p_module(s, pxd, full_module_name)\n",
            "\u001b[01m\u001b[Kcore.c:\u001b[m\u001b[K In function ‘\u001b[01m\u001b[K__Pyx_InitGlobals\u001b[m\u001b[K’:\n",
            "\u001b[01m\u001b[Kcore.c:16754:1:\u001b[m\u001b[K \u001b[01;35m\u001b[Kwarning: \u001b[m\u001b[K‘\u001b[01m\u001b[KPyEval_InitThreads\u001b[m\u001b[K’ is deprecated [\u001b[01;35m\u001b[K\u001b]8;;https://gcc.gnu.org/onlinedocs/gcc/Warning-Options.html#index-Wdeprecated-declarations\u0007-Wdeprecated-declarations\u001b]8;;\u0007\u001b[m\u001b[K]\n",
            "16754 | \u001b[01;35m\u001b[KPyEval_InitThreads\u001b[m\u001b[K();\n",
            "      | \u001b[01;35m\u001b[K^~~~~~~~~~~~~~~~~~\u001b[m\u001b[K\n",
            "In file included from \u001b[01m\u001b[K/usr/include/python3.10/Python.h:130\u001b[m\u001b[K,\n",
            "                 from \u001b[01m\u001b[Kcore.c:4\u001b[m\u001b[K:\n",
            "\u001b[01m\u001b[K/usr/include/python3.10/ceval.h:122:37:\u001b[m\u001b[K \u001b[01;36m\u001b[Knote: \u001b[m\u001b[Kdeclared here\n",
            "  122 | Py_DEPRECATED(3.9) PyAPI_FUNC(void) \u001b[01;36m\u001b[KPyEval_InitThreads\u001b[m\u001b[K(void);\n",
            "      |                                     \u001b[01;36m\u001b[K^~~~~~~~~~~~~~~~~~\u001b[m\u001b[K\n"
          ]
        }
      ]
    },
    {
      "cell_type": "code",
      "source": [
        "import sysconfig\n",
        "print(sysconfig.get_paths()['include'])"
      ],
      "metadata": {
        "id": "psh-HtRqG6iM",
        "colab": {
          "base_uri": "https://localhost:8080/"
        },
        "outputId": "493e6405-2ff9-4cf2-f501-3ae8595e5b8b"
      },
      "execution_count": 33,
      "outputs": [
        {
          "output_type": "stream",
          "name": "stdout",
          "text": [
            "/usr/include/python3.10\n"
          ]
        }
      ]
    },
    {
      "cell_type": "code",
      "source": [
        "\n",
        "!pip install -r requirements.txt"
      ],
      "metadata": {
        "colab": {
          "base_uri": "https://localhost:8080/"
        },
        "id": "dSLD5gW0Ggbb",
        "outputId": "602f42d4-73b2-46c3-8d2b-48d14e587060"
      },
      "execution_count": null,
      "outputs": [
        {
          "output_type": "stream",
          "name": "stdout",
          "text": [
            "\u001b[31mERROR: Could not open requirements file: [Errno 2] No such file or directory: 'requirements.txt'\u001b[0m\u001b[31m\n",
            "\u001b[0m"
          ]
        }
      ]
    },
    {
      "cell_type": "code",
      "source": [
        "# Clone the VITS repository\n",
        "\n",
        "\n",
        "!git clone https://github.com/jaywalnut310/vits.git\n",
        "\n",
        "\n"
      ],
      "metadata": {
        "colab": {
          "base_uri": "https://localhost:8080/"
        },
        "id": "_2dkTW7RvxSg",
        "outputId": "131c36dc-7185-442e-94a4-f6e55324e4a3"
      },
      "execution_count": null,
      "outputs": [
        {
          "output_type": "stream",
          "name": "stdout",
          "text": [
            "Cloning into 'vits'...\n",
            "remote: Enumerating objects: 81, done.\u001b[K\n",
            "remote: Total 81 (delta 0), reused 0 (delta 0), pack-reused 81 (from 1)\u001b[K\n",
            "Receiving objects: 100% (81/81), 3.33 MiB | 8.51 MiB/s, done.\n",
            "Resolving deltas: 100% (22/22), done.\n"
          ]
        }
      ]
    },
    {
      "cell_type": "code",
      "source": [
        "# Change to the VITS directory\n",
        "%cd vits\n",
        "\n",
        "# List the contents of the directory to check if it's cloned successfully\n",
        "!ls -l"
      ],
      "metadata": {
        "colab": {
          "base_uri": "https://localhost:8080/"
        },
        "id": "WqxrQgdcx5IY",
        "outputId": "07088a7b-fcf0-4c4b-932a-a355b546a098"
      },
      "execution_count": null,
      "outputs": [
        {
          "output_type": "stream",
          "name": "stdout",
          "text": [
            "/content/vits\n",
            "total 168\n",
            "-rw-r--r-- 1 root root 11780 Nov  5 20:31 attentions.py\n",
            "-rw-r--r-- 1 root root  4778 Nov  5 20:31 commons.py\n",
            "drwxr-xr-x 2 root root  4096 Nov  5 20:31 configs\n",
            "-rw-r--r-- 1 root root 15027 Nov  5 20:31 data_utils.py\n",
            "drwxr-xr-x 2 root root  4096 Nov  5 20:31 filelists\n",
            "-rw-r--r-- 1 root root  6103 Nov  5 20:31 inference.ipynb\n",
            "-rw-r--r-- 1 root root  1069 Nov  5 20:31 LICENSE\n",
            "-rw-r--r-- 1 root root  1314 Nov  5 20:31 losses.py\n",
            "-rw-r--r-- 1 root root  3825 Nov  5 20:31 mel_processing.py\n",
            "-rw-r--r-- 1 root root 19375 Nov  5 20:31 models.py\n",
            "-rw-r--r-- 1 root root 13166 Nov  5 20:31 modules.py\n",
            "drwxr-xr-x 2 root root  4096 Nov  5 20:31 monotonic_align\n",
            "-rw-r--r-- 1 root root  1066 Nov  5 20:31 preprocess.py\n",
            "-rw-r--r-- 1 root root  3664 Nov  5 20:31 README.md\n",
            "-rw-r--r-- 1 root root   162 Nov  5 20:31 requirements.txt\n",
            "drwxr-xr-x 2 root root  4096 Nov  5 20:31 resources\n",
            "drwxr-xr-x 2 root root  4096 Nov  5 20:31 text\n",
            "-rw-r--r-- 1 root root 10947 Nov  5 20:31 train_ms.py\n",
            "-rw-r--r-- 1 root root 10712 Nov  5 20:31 train.py\n",
            "-rw-r--r-- 1 root root  8490 Nov  5 20:31 transforms.py\n",
            "-rw-r--r-- 1 root root  7396 Nov  5 20:31 utils.py\n"
          ]
        }
      ]
    },
    {
      "cell_type": "code",
      "source": [
        "%%capture\n",
        "!pip install Cython\n",
        "!pip install librosa\n",
        "!pip install matplotlib\n",
        "!pip install numpy\n",
        "!pip install phonemizer\n",
        "!pip install scipy\n",
        "!pip install tensorboard\n",
        "!pip install torch torchvision\n",
        "!pip install Unidecode\n"
      ],
      "metadata": {
        "id": "c9jkq3KjvxWX"
      },
      "execution_count": null,
      "outputs": []
    },
    {
      "cell_type": "code",
      "source": [
        "!apt-get install espeak\n"
      ],
      "metadata": {
        "colab": {
          "base_uri": "https://localhost:8080/"
        },
        "id": "EStd8MSUvxZR",
        "outputId": "a5d4d983-3be5-4e0b-f383-a8f3e8f2f85a"
      },
      "execution_count": null,
      "outputs": [
        {
          "output_type": "stream",
          "name": "stdout",
          "text": [
            "Reading package lists... Done\n",
            "Building dependency tree... Done\n",
            "Reading state information... Done\n",
            "The following additional packages will be installed:\n",
            "  espeak-data libespeak1 libportaudio2 libsonic0\n",
            "The following NEW packages will be installed:\n",
            "  espeak espeak-data libespeak1 libportaudio2 libsonic0\n",
            "0 upgraded, 5 newly installed, 0 to remove and 49 not upgraded.\n",
            "Need to get 1,382 kB of archives.\n",
            "After this operation, 3,178 kB of additional disk space will be used.\n",
            "Get:1 http://archive.ubuntu.com/ubuntu jammy/universe amd64 libportaudio2 amd64 19.6.0-1.1 [65.3 kB]\n",
            "Get:2 http://archive.ubuntu.com/ubuntu jammy/main amd64 libsonic0 amd64 0.2.0-11build1 [10.3 kB]\n",
            "Get:3 http://archive.ubuntu.com/ubuntu jammy/universe amd64 espeak-data amd64 1.48.15+dfsg-3 [1,085 kB]\n",
            "Get:4 http://archive.ubuntu.com/ubuntu jammy/universe amd64 libespeak1 amd64 1.48.15+dfsg-3 [156 kB]\n",
            "Get:5 http://archive.ubuntu.com/ubuntu jammy/universe amd64 espeak amd64 1.48.15+dfsg-3 [64.2 kB]\n",
            "Fetched 1,382 kB in 2s (637 kB/s)\n",
            "Selecting previously unselected package libportaudio2:amd64.\n",
            "(Reading database ... 123599 files and directories currently installed.)\n",
            "Preparing to unpack .../libportaudio2_19.6.0-1.1_amd64.deb ...\n",
            "Unpacking libportaudio2:amd64 (19.6.0-1.1) ...\n",
            "Selecting previously unselected package libsonic0:amd64.\n",
            "Preparing to unpack .../libsonic0_0.2.0-11build1_amd64.deb ...\n",
            "Unpacking libsonic0:amd64 (0.2.0-11build1) ...\n",
            "Selecting previously unselected package espeak-data:amd64.\n",
            "Preparing to unpack .../espeak-data_1.48.15+dfsg-3_amd64.deb ...\n",
            "Unpacking espeak-data:amd64 (1.48.15+dfsg-3) ...\n",
            "Selecting previously unselected package libespeak1:amd64.\n",
            "Preparing to unpack .../libespeak1_1.48.15+dfsg-3_amd64.deb ...\n",
            "Unpacking libespeak1:amd64 (1.48.15+dfsg-3) ...\n",
            "Selecting previously unselected package espeak.\n",
            "Preparing to unpack .../espeak_1.48.15+dfsg-3_amd64.deb ...\n",
            "Unpacking espeak (1.48.15+dfsg-3) ...\n",
            "Setting up libportaudio2:amd64 (19.6.0-1.1) ...\n",
            "Setting up libsonic0:amd64 (0.2.0-11build1) ...\n",
            "Setting up espeak-data:amd64 (1.48.15+dfsg-3) ...\n",
            "Setting up libespeak1:amd64 (1.48.15+dfsg-3) ...\n",
            "Setting up espeak (1.48.15+dfsg-3) ...\n",
            "Processing triggers for man-db (2.10.2-1) ...\n",
            "Processing triggers for libc-bin (2.35-0ubuntu3.4) ...\n",
            "/sbin/ldconfig.real: /usr/local/lib/libtbbbind.so.3 is not a symbolic link\n",
            "\n",
            "/sbin/ldconfig.real: /usr/local/lib/libtbb.so.12 is not a symbolic link\n",
            "\n",
            "/sbin/ldconfig.real: /usr/local/lib/libtbbbind_2_0.so.3 is not a symbolic link\n",
            "\n",
            "/sbin/ldconfig.real: /usr/local/lib/libur_adapter_opencl.so.0 is not a symbolic link\n",
            "\n",
            "/sbin/ldconfig.real: /usr/local/lib/libtbbbind_2_5.so.3 is not a symbolic link\n",
            "\n",
            "/sbin/ldconfig.real: /usr/local/lib/libtbbmalloc.so.2 is not a symbolic link\n",
            "\n",
            "/sbin/ldconfig.real: /usr/local/lib/libur_adapter_level_zero.so.0 is not a symbolic link\n",
            "\n",
            "/sbin/ldconfig.real: /usr/local/lib/libtbbmalloc_proxy.so.2 is not a symbolic link\n",
            "\n",
            "/sbin/ldconfig.real: /usr/local/lib/libur_loader.so.0 is not a symbolic link\n",
            "\n"
          ]
        }
      ]
    },
    {
      "cell_type": "code",
      "source": [
        "import os\n",
        "\n",
        "\n",
        "def create_filelist(folder, filelist_name):\n",
        "    with open(filelist_name, 'w') as f:\n",
        "        for audio_file in sorted(os.listdir(folder)):\n",
        "            if audio_file.endswith('.wav'):\n",
        "                text_file = audio_file.replace('.wav', '.txt')\n",
        "                f.write(f'{folder}/{audio_file}|{folder}/{text_file}\\n')\n",
        "\n",
        "create_filelist('/content/drive/My Drive/train', 'filelists/train_filelist.txt')\n",
        "create_filelist('/content/drive/My Drive/val', 'filelists/val_filelist.txt')\n",
        "create_filelist('/content/drive/My Drive/test', 'filelists/test_filelist.txt')\n"
      ],
      "metadata": {
        "id": "qW31Aj0cvxdu"
      },
      "execution_count": null,
      "outputs": []
    },
    {
      "cell_type": "code",
      "source": [
        "%cd monotonic_align\n",
        "\n"
      ],
      "metadata": {
        "colab": {
          "base_uri": "https://localhost:8080/"
        },
        "id": "afTN28dHvxgP",
        "outputId": "3af99885-09e0-4a01-9315-83c43fa95afd"
      },
      "execution_count": null,
      "outputs": [
        {
          "output_type": "stream",
          "name": "stdout",
          "text": [
            "/content/vits/monotonic_align\n"
          ]
        }
      ]
    },
    {
      "cell_type": "code",
      "source": [
        "%cd .."
      ],
      "metadata": {
        "colab": {
          "base_uri": "https://localhost:8080/"
        },
        "id": "TtOF56vlzPDP",
        "outputId": "9558e091-3acd-4c90-a2ac-5cb74be96b7b"
      },
      "execution_count": null,
      "outputs": [
        {
          "output_type": "stream",
          "name": "stdout",
          "text": [
            "/content/vits/monotonic_align\n"
          ]
        }
      ]
    },
    {
      "cell_type": "code",
      "source": [
        "!chmod -R 755 /content/vits/monotonic_align\n"
      ],
      "metadata": {
        "id": "2ytWXJlL8XeO"
      },
      "execution_count": null,
      "outputs": []
    },
    {
      "cell_type": "code",
      "source": [
        "!ls /content/vits/monotonic_align\n"
      ],
      "metadata": {
        "id": "jcaXt45f8fV9",
        "outputId": "1a63fa19-c883-43e3-ad07-e415f12948f3",
        "colab": {
          "base_uri": "https://localhost:8080/"
        }
      },
      "execution_count": null,
      "outputs": [
        {
          "output_type": "stream",
          "name": "stdout",
          "text": [
            "core.pyx  __init__.py  setup.py\n"
          ]
        }
      ]
    },
    {
      "cell_type": "code",
      "source": [
        "import sys\n",
        "print(sys.version)"
      ],
      "metadata": {
        "colab": {
          "base_uri": "https://localhost:8080/"
        },
        "id": "Z79JoIJ9Ckn4",
        "outputId": "925c67a4-8ba3-4ffc-d65c-928ceee3ac22"
      },
      "execution_count": null,
      "outputs": [
        {
          "output_type": "stream",
          "name": "stdout",
          "text": [
            "3.10.12 (main, Sep 11 2024, 15:47:36) [GCC 11.4.0]\n"
          ]
        }
      ]
    },
    {
      "cell_type": "code",
      "source": [],
      "metadata": {
        "id": "hodznuKdDT3B"
      },
      "execution_count": null,
      "outputs": []
    },
    {
      "cell_type": "code",
      "source": [],
      "metadata": {
        "id": "PtYcQlwuDVAn"
      },
      "execution_count": null,
      "outputs": []
    },
    {
      "cell_type": "code",
      "source": [
        "!python setup.py build_ext --inplace\n"
      ],
      "metadata": {
        "colab": {
          "base_uri": "https://localhost:8080/"
        },
        "id": "nbpyLBrmwyfQ",
        "outputId": "87bf8943-b8aa-43cb-db3d-3d44f85adac4"
      },
      "execution_count": null,
      "outputs": [
        {
          "output_type": "stream",
          "name": "stdout",
          "text": [
            "Compiling core.pyx because it changed.\n",
            "[1/1] Cythonizing core.pyx\n",
            "error: could not create 'monotonic_align/core.cpython-310-x86_64-linux-gnu.so': No such file or directory\n"
          ]
        }
      ]
    },
    {
      "cell_type": "code",
      "source": [
        "# Function to read and output a sample of a filelist\n",
        "def sample_filelist(file_path, num_samples=5):\n",
        "    with open(file_path, 'r') as f:\n",
        "        lines = f.readlines()  # Read all lines\n",
        "    # Display the specified number of samples\n",
        "    sample_lines = lines[:num_samples]\n",
        "    for line in sample_lines:\n",
        "        print(line.strip())  # Print each line, stripping whitespace\n",
        "\n",
        "# Output samples from your filelists\n",
        "print(\"Sample from train_filelist.txt:\")\n",
        "sample_filelist('filelists/train_filelist.txt')"
      ],
      "metadata": {
        "colab": {
          "base_uri": "https://localhost:8080/"
        },
        "id": "j92y4acc2kTT",
        "outputId": "df837a6b-c720-4a6c-9d91-d23d27f350f3"
      },
      "execution_count": null,
      "outputs": [
        {
          "output_type": "stream",
          "name": "stdout",
          "text": [
            "Sample from train_filelist.txt:\n",
            "/content/drive/My Drive/train/281474976884229_f1314_chunk_0.wav|/content/drive/My Drive/train/281474976884229_f1314_chunk_0.txt\n",
            "/content/drive/My Drive/train/281474976884229_f1314_chunk_1.wav|/content/drive/My Drive/train/281474976884229_f1314_chunk_1.txt\n",
            "/content/drive/My Drive/train/281474976884232_f1313_chunk_0.wav|/content/drive/My Drive/train/281474976884232_f1313_chunk_0.txt\n",
            "/content/drive/My Drive/train/281474976884235_f1315_chunk_0.wav|/content/drive/My Drive/train/281474976884235_f1315_chunk_0.txt\n",
            "/content/drive/My Drive/train/281474976884241_f1317_chunk_0.wav|/content/drive/My Drive/train/281474976884241_f1317_chunk_0.txt\n"
          ]
        }
      ]
    },
    {
      "cell_type": "markdown",
      "source": [],
      "metadata": {
        "id": "hBZULPCs37Op"
      }
    },
    {
      "cell_type": "code",
      "source": [
        "def clean_filelist(file_path):\n",
        "    cleaned_lines = []\n",
        "    with open(file_path, 'r') as f:\n",
        "        for line in f:\n",
        "            # Strip whitespace and check for empty lines\n",
        "            stripped_line = line.strip()\n",
        "            if stripped_line:  # Non-empty line\n",
        "                cleaned_lines.append(stripped_line)\n",
        "    return cleaned_lines\n",
        "\n",
        "train_filelist = clean_filelist('filelists/train_filelist.txt')\n",
        "val_filelist = clean_filelist('filelists/val_filelist.txt')\n",
        "test_filelist = clean_filelist('filelists/test_filelist.txt')\n",
        "\n",
        "# Optionally, print the cleaned filelists for review\n",
        "print(train_filelist)\n",
        "print(val_filelist)\n",
        "print(test_filelist)\n"
      ],
      "metadata": {
        "colab": {
          "base_uri": "https://localhost:8080/"
        },
        "id": "pwjRrjhb2kWH",
        "outputId": "3646e095-c201-4b83-ebf3-a5bb1f2c7f21"
      },
      "execution_count": null,
      "outputs": [
        {
          "output_type": "stream",
          "name": "stdout",
          "text": [
            "['/content/drive/My Drive/train/281474976884229_f1314_chunk_0.wav|/content/drive/My Drive/train/281474976884229_f1314_chunk_0.txt', '/content/drive/My Drive/train/281474976884229_f1314_chunk_1.wav|/content/drive/My Drive/train/281474976884229_f1314_chunk_1.txt', '/content/drive/My Drive/train/281474976884232_f1313_chunk_0.wav|/content/drive/My Drive/train/281474976884232_f1313_chunk_0.txt', '/content/drive/My Drive/train/281474976884235_f1315_chunk_0.wav|/content/drive/My Drive/train/281474976884235_f1315_chunk_0.txt', '/content/drive/My Drive/train/281474976884241_f1317_chunk_0.wav|/content/drive/My Drive/train/281474976884241_f1317_chunk_0.txt', '/content/drive/My Drive/train/281474976884243_f1318_chunk_0.wav|/content/drive/My Drive/train/281474976884243_f1318_chunk_0.txt', '/content/drive/My Drive/train/281474976884245_f1319_chunk_0.wav|/content/drive/My Drive/train/281474976884245_f1319_chunk_0.txt', '/content/drive/My Drive/train/281474976884252_f1322_chunk_0.wav|/content/drive/My Drive/train/281474976884252_f1322_chunk_0.txt', '/content/drive/My Drive/train/281474976884255_f1323_chunk_0.wav|/content/drive/My Drive/train/281474976884255_f1323_chunk_0.txt', '/content/drive/My Drive/train/281474976884259_f1799_chunk_0.wav|/content/drive/My Drive/train/281474976884259_f1799_chunk_0.txt', '/content/drive/My Drive/train/281474976884259_f1799_chunk_1.wav|/content/drive/My Drive/train/281474976884259_f1799_chunk_1.txt', '/content/drive/My Drive/train/281474976884264_f1680_chunk_0.wav|/content/drive/My Drive/train/281474976884264_f1680_chunk_0.txt', '/content/drive/My Drive/train/281474976884264_f1680_chunk_1.wav|/content/drive/My Drive/train/281474976884264_f1680_chunk_1.txt', '/content/drive/My Drive/train/281474976884266_f1681_chunk_0.wav|/content/drive/My Drive/train/281474976884266_f1681_chunk_0.txt', '/content/drive/My Drive/train/281474976884266_f1681_chunk_1.wav|/content/drive/My Drive/train/281474976884266_f1681_chunk_1.txt', '/content/drive/My Drive/train/281474976884266_f1681_chunk_3.wav|/content/drive/My Drive/train/281474976884266_f1681_chunk_3.txt', '/content/drive/My Drive/train/281474976884266_f1681_chunk_4.wav|/content/drive/My Drive/train/281474976884266_f1681_chunk_4.txt', '/content/drive/My Drive/train/281474976884267_f1694_chunk_0.wav|/content/drive/My Drive/train/281474976884267_f1694_chunk_0.txt', '/content/drive/My Drive/train/281474976884267_f1694_chunk_2.wav|/content/drive/My Drive/train/281474976884267_f1694_chunk_2.txt', '/content/drive/My Drive/train/281474976884267_f1694_chunk_3.wav|/content/drive/My Drive/train/281474976884267_f1694_chunk_3.txt', '/content/drive/My Drive/train/281474976884267_f1694_chunk_5.wav|/content/drive/My Drive/train/281474976884267_f1694_chunk_5.txt', '/content/drive/My Drive/train/281474976884270_f2090_chunk_0.wav|/content/drive/My Drive/train/281474976884270_f2090_chunk_0.txt', '/content/drive/My Drive/train/281474976884270_f2090_chunk_1.wav|/content/drive/My Drive/train/281474976884270_f2090_chunk_1.txt', '/content/drive/My Drive/train/281474976884270_f2090_chunk_2.wav|/content/drive/My Drive/train/281474976884270_f2090_chunk_2.txt', '/content/drive/My Drive/train/281474976884271_f1791_chunk_0.wav|/content/drive/My Drive/train/281474976884271_f1791_chunk_0.txt', '/content/drive/My Drive/train/281474976884271_f1791_chunk_2.wav|/content/drive/My Drive/train/281474976884271_f1791_chunk_2.txt', '/content/drive/My Drive/train/281474976884271_f1791_chunk_3.wav|/content/drive/My Drive/train/281474976884271_f1791_chunk_3.txt', '/content/drive/My Drive/train/281474976884273_f1982_chunk_0.wav|/content/drive/My Drive/train/281474976884273_f1982_chunk_0.txt', '/content/drive/My Drive/train/281474976884273_f1982_chunk_1.wav|/content/drive/My Drive/train/281474976884273_f1982_chunk_1.txt', '/content/drive/My Drive/train/281474976884273_f1982_chunk_2.wav|/content/drive/My Drive/train/281474976884273_f1982_chunk_2.txt', '/content/drive/My Drive/train/281474976884273_f1982_chunk_3.wav|/content/drive/My Drive/train/281474976884273_f1982_chunk_3.txt', '/content/drive/My Drive/train/281474976884325_f338_chunk_1.wav|/content/drive/My Drive/train/281474976884325_f338_chunk_1.txt', '/content/drive/My Drive/train/281474976884328_f54_chunk_0.wav|/content/drive/My Drive/train/281474976884328_f54_chunk_0.txt', '/content/drive/My Drive/train/281474976884329_f745_chunk_0.wav|/content/drive/My Drive/train/281474976884329_f745_chunk_0.txt', '/content/drive/My Drive/train/281474976884334_f665_chunk_0.wav|/content/drive/My Drive/train/281474976884334_f665_chunk_0.txt', '/content/drive/My Drive/train/281474976884336_f431_chunk_0.wav|/content/drive/My Drive/train/281474976884336_f431_chunk_0.txt', '/content/drive/My Drive/train/281474976884340_f903_chunk_0.wav|/content/drive/My Drive/train/281474976884340_f903_chunk_0.txt', '/content/drive/My Drive/train/281474976884343_f666_chunk_0.wav|/content/drive/My Drive/train/281474976884343_f666_chunk_0.txt', '/content/drive/My Drive/train/281474976884345_f432_chunk_0.wav|/content/drive/My Drive/train/281474976884345_f432_chunk_0.txt', '/content/drive/My Drive/train/281474976884346_f8_chunk_0.wav|/content/drive/My Drive/train/281474976884346_f8_chunk_0.txt', '/content/drive/My Drive/train/281474976884349_f1690_chunk_0.wav|/content/drive/My Drive/train/281474976884349_f1690_chunk_0.txt', '/content/drive/My Drive/train/281474976884349_f1690_chunk_1.wav|/content/drive/My Drive/train/281474976884349_f1690_chunk_1.txt', '/content/drive/My Drive/train/281474976884349_f1690_chunk_2.wav|/content/drive/My Drive/train/281474976884349_f1690_chunk_2.txt', '/content/drive/My Drive/train/281474976884349_f1690_chunk_3.wav|/content/drive/My Drive/train/281474976884349_f1690_chunk_3.txt', '/content/drive/My Drive/train/281474976884349_f1690_chunk_4.wav|/content/drive/My Drive/train/281474976884349_f1690_chunk_4.txt', '/content/drive/My Drive/train/281474976884356_f1978_chunk_0.wav|/content/drive/My Drive/train/281474976884356_f1978_chunk_0.txt', '/content/drive/My Drive/train/281474976884356_f1978_chunk_2.wav|/content/drive/My Drive/train/281474976884356_f1978_chunk_2.txt', '/content/drive/My Drive/train/281474976884357_f1781_chunk_0.wav|/content/drive/My Drive/train/281474976884357_f1781_chunk_0.txt', '/content/drive/My Drive/train/281474976884357_f1781_chunk_2.wav|/content/drive/My Drive/train/281474976884357_f1781_chunk_2.txt', '/content/drive/My Drive/train/281474976884357_f1781_chunk_3.wav|/content/drive/My Drive/train/281474976884357_f1781_chunk_3.txt', '/content/drive/My Drive/train/281474976884359_f2087_chunk_0.wav|/content/drive/My Drive/train/281474976884359_f2087_chunk_0.txt', '/content/drive/My Drive/train/281474976884359_f2087_chunk_1.wav|/content/drive/My Drive/train/281474976884359_f2087_chunk_1.txt', '/content/drive/My Drive/train/281474976884359_f2087_chunk_2.wav|/content/drive/My Drive/train/281474976884359_f2087_chunk_2.txt', '/content/drive/My Drive/train/281474976884359_f2087_chunk_3.wav|/content/drive/My Drive/train/281474976884359_f2087_chunk_3.txt', '/content/drive/My Drive/train/281474976884359_f2087_chunk_4.wav|/content/drive/My Drive/train/281474976884359_f2087_chunk_4.txt', '/content/drive/My Drive/train/281474976884359_f2087_chunk_5.wav|/content/drive/My Drive/train/281474976884359_f2087_chunk_5.txt', '/content/drive/My Drive/train/281474976884359_f2087_chunk_6.wav|/content/drive/My Drive/train/281474976884359_f2087_chunk_6.txt', '/content/drive/My Drive/train/281474976884361_f1797_chunk_0.wav|/content/drive/My Drive/train/281474976884361_f1797_chunk_0.txt', '/content/drive/My Drive/train/281474976884361_f1797_chunk_1.wav|/content/drive/My Drive/train/281474976884361_f1797_chunk_1.txt', '/content/drive/My Drive/train/281474976884361_f1797_chunk_2.wav|/content/drive/My Drive/train/281474976884361_f1797_chunk_2.txt', '/content/drive/My Drive/train/281474976884361_f1797_chunk_3.wav|/content/drive/My Drive/train/281474976884361_f1797_chunk_3.txt', '/content/drive/My Drive/train/281474976884364_f1979_chunk_0.wav|/content/drive/My Drive/train/281474976884364_f1979_chunk_0.txt', '/content/drive/My Drive/train/281474976884364_f1979_chunk_1.wav|/content/drive/My Drive/train/281474976884364_f1979_chunk_1.txt', '/content/drive/My Drive/train/281474976884364_f1979_chunk_2.wav|/content/drive/My Drive/train/281474976884364_f1979_chunk_2.txt', '/content/drive/My Drive/train/281474976884364_f1979_chunk_4.wav|/content/drive/My Drive/train/281474976884364_f1979_chunk_4.txt', '/content/drive/My Drive/train/281474976884364_f1979_chunk_5.wav|/content/drive/My Drive/train/281474976884364_f1979_chunk_5.txt', '/content/drive/My Drive/train/281474976884366_f2021_chunk_0.wav|/content/drive/My Drive/train/281474976884366_f2021_chunk_0.txt', '/content/drive/My Drive/train/281474976884366_f2021_chunk_1.wav|/content/drive/My Drive/train/281474976884366_f2021_chunk_1.txt', '/content/drive/My Drive/train/281474976884366_f2021_chunk_2.wav|/content/drive/My Drive/train/281474976884366_f2021_chunk_2.txt', '/content/drive/My Drive/train/281474976884549_f265_chunk_0.wav|/content/drive/My Drive/train/281474976884549_f265_chunk_0.txt', '/content/drive/My Drive/train/281474976884550_f597_chunk_0.wav|/content/drive/My Drive/train/281474976884550_f597_chunk_0.txt', '/content/drive/My Drive/train/281474976884552_f437_chunk_0.wav|/content/drive/My Drive/train/281474976884552_f437_chunk_0.txt', '/content/drive/My Drive/train/281474976884555_f419_chunk_0.wav|/content/drive/My Drive/train/281474976884555_f419_chunk_0.txt', '/content/drive/My Drive/train/281474976884558_f21_chunk_0.wav|/content/drive/My Drive/train/281474976884558_f21_chunk_0.txt', '/content/drive/My Drive/train/281474976884560_f20_chunk_0.wav|/content/drive/My Drive/train/281474976884560_f20_chunk_0.txt', '/content/drive/My Drive/train/281474976884564_f190_chunk_0.wav|/content/drive/My Drive/train/281474976884564_f190_chunk_0.txt', '/content/drive/My Drive/train/281474976884565_f191_chunk_0.wav|/content/drive/My Drive/train/281474976884565_f191_chunk_0.txt', '/content/drive/My Drive/train/281474976884569_f927_chunk_0.wav|/content/drive/My Drive/train/281474976884569_f927_chunk_0.txt', '/content/drive/My Drive/train/281474976884570_f598_chunk_0.wav|/content/drive/My Drive/train/281474976884570_f598_chunk_0.txt', '/content/drive/My Drive/train/281474976884573_f599_chunk_0.wav|/content/drive/My Drive/train/281474976884573_f599_chunk_0.txt', '/content/drive/My Drive/train/281474976884579_f1998_chunk_0.wav|/content/drive/My Drive/train/281474976884579_f1998_chunk_0.txt', '/content/drive/My Drive/train/281474976884583_f2079_chunk_0.wav|/content/drive/My Drive/train/281474976884583_f2079_chunk_0.txt', '/content/drive/My Drive/train/281474976884589_f2266_chunk_0.wav|/content/drive/My Drive/train/281474976884589_f2266_chunk_0.txt', '/content/drive/My Drive/train/281474976884592_f1786_chunk_0.wav|/content/drive/My Drive/train/281474976884592_f1786_chunk_0.txt', '/content/drive/My Drive/train/281474976886782_f218_chunk_0.wav|/content/drive/My Drive/train/281474976886782_f218_chunk_0.txt', '/content/drive/My Drive/train/281474976886783_f904_chunk_0.wav|/content/drive/My Drive/train/281474976886783_f904_chunk_0.txt', '/content/drive/My Drive/train/281474976886788_f806_chunk_0.wav|/content/drive/My Drive/train/281474976886788_f806_chunk_0.txt', '/content/drive/My Drive/train/281474976886790_f55_chunk_0.wav|/content/drive/My Drive/train/281474976886790_f55_chunk_0.txt', '/content/drive/My Drive/train/281474976886792_f1329_chunk_0.wav|/content/drive/My Drive/train/281474976886792_f1329_chunk_0.txt', '/content/drive/My Drive/train/281474976886793_f1328_chunk_0.wav|/content/drive/My Drive/train/281474976886793_f1328_chunk_0.txt', '/content/drive/My Drive/train/281474976886796_f1330_chunk_0.wav|/content/drive/My Drive/train/281474976886796_f1330_chunk_0.txt', '/content/drive/My Drive/train/281474976886799_f1331_chunk_0.wav|/content/drive/My Drive/train/281474976886799_f1331_chunk_0.txt', '/content/drive/My Drive/train/281474976886810_f1861_chunk_0.wav|/content/drive/My Drive/train/281474976886810_f1861_chunk_0.txt', '/content/drive/My Drive/train/281474976886810_f1861_chunk_1.wav|/content/drive/My Drive/train/281474976886810_f1861_chunk_1.txt', '/content/drive/My Drive/train/281474976886810_f1861_chunk_2.wav|/content/drive/My Drive/train/281474976886810_f1861_chunk_2.txt', '/content/drive/My Drive/train/281474976886810_f1861_chunk_4.wav|/content/drive/My Drive/train/281474976886810_f1861_chunk_4.txt', '/content/drive/My Drive/train/281474976886814_f1691_chunk_0.wav|/content/drive/My Drive/train/281474976886814_f1691_chunk_0.txt', '/content/drive/My Drive/train/281474976886814_f1691_chunk_2.wav|/content/drive/My Drive/train/281474976886814_f1691_chunk_2.txt', '/content/drive/My Drive/train/281474976886814_f1691_chunk_3.wav|/content/drive/My Drive/train/281474976886814_f1691_chunk_3.txt', '/content/drive/My Drive/train/281474976886815_f1980_chunk_0.wav|/content/drive/My Drive/train/281474976886815_f1980_chunk_0.txt', '/content/drive/My Drive/train/281474976886815_f1980_chunk_1.wav|/content/drive/My Drive/train/281474976886815_f1980_chunk_1.txt', '/content/drive/My Drive/train/281474976886815_f1980_chunk_2.wav|/content/drive/My Drive/train/281474976886815_f1980_chunk_2.txt', '/content/drive/My Drive/train/281474976886815_f1980_chunk_3.wav|/content/drive/My Drive/train/281474976886815_f1980_chunk_3.txt', '/content/drive/My Drive/train/281474976886815_f1980_chunk_4.wav|/content/drive/My Drive/train/281474976886815_f1980_chunk_4.txt', '/content/drive/My Drive/train/281474976886815_f1980_chunk_6.wav|/content/drive/My Drive/train/281474976886815_f1980_chunk_6.txt', '/content/drive/My Drive/train/281474976886817_f1675_chunk_0.wav|/content/drive/My Drive/train/281474976886817_f1675_chunk_0.txt', '/content/drive/My Drive/train/281474976886817_f1675_chunk_2.wav|/content/drive/My Drive/train/281474976886817_f1675_chunk_2.txt', '/content/drive/My Drive/train/281474976886820_f2271_chunk_0.wav|/content/drive/My Drive/train/281474976886820_f2271_chunk_0.txt', '/content/drive/My Drive/train/281474976886820_f2271_chunk_2.wav|/content/drive/My Drive/train/281474976886820_f2271_chunk_2.txt', '/content/drive/My Drive/train/281474976886822_f2088_chunk_0.wav|/content/drive/My Drive/train/281474976886822_f2088_chunk_0.txt', '/content/drive/My Drive/train/281474976886822_f2088_chunk_1.wav|/content/drive/My Drive/train/281474976886822_f2088_chunk_1.txt', '/content/drive/My Drive/train/281474976886822_f2088_chunk_2.wav|/content/drive/My Drive/train/281474976886822_f2088_chunk_2.txt', '/content/drive/My Drive/train/281474976886822_f2088_chunk_3.wav|/content/drive/My Drive/train/281474976886822_f2088_chunk_3.txt', '/content/drive/My Drive/train/281474976886823_f1784_chunk_0.wav|/content/drive/My Drive/train/281474976886823_f1784_chunk_0.txt', '/content/drive/My Drive/train/281474976886823_f1784_chunk_1.wav|/content/drive/My Drive/train/281474976886823_f1784_chunk_1.txt', '/content/drive/My Drive/train/281474976886823_f1784_chunk_2.wav|/content/drive/My Drive/train/281474976886823_f1784_chunk_2.txt', '/content/drive/My Drive/train/281474976886823_f1784_chunk_4.wav|/content/drive/My Drive/train/281474976886823_f1784_chunk_4.txt', '/content/drive/My Drive/train/281474976886823_f1784_chunk_5.wav|/content/drive/My Drive/train/281474976886823_f1784_chunk_5.txt', '/content/drive/My Drive/train/281474976886836_f365_chunk_0.wav|/content/drive/My Drive/train/281474976886836_f365_chunk_0.txt', '/content/drive/My Drive/train/281474976886837_f2849_chunk_0.wav|/content/drive/My Drive/train/281474976886837_f2849_chunk_0.txt', '/content/drive/My Drive/train/281474976886837_f2849_chunk_1.wav|/content/drive/My Drive/train/281474976886837_f2849_chunk_1.txt', '/content/drive/My Drive/train/281474976886839_f364_chunk_0.wav|/content/drive/My Drive/train/281474976886839_f364_chunk_0.txt', '/content/drive/My Drive/train/281474976886841_f366_chunk_0.wav|/content/drive/My Drive/train/281474976886841_f366_chunk_0.txt', '/content/drive/My Drive/train/281474976886843_f200_chunk_0.wav|/content/drive/My Drive/train/281474976886843_f200_chunk_0.txt', '/content/drive/My Drive/train/281474976886844_f2638_chunk_0.wav|/content/drive/My Drive/train/281474976886844_f2638_chunk_0.txt', '/content/drive/My Drive/train/281474976886846_f823_chunk_0.wav|/content/drive/My Drive/train/281474976886846_f823_chunk_0.txt', '/content/drive/My Drive/train/281474976886848_f367_chunk_0.wav|/content/drive/My Drive/train/281474976886848_f367_chunk_0.txt', '/content/drive/My Drive/train/281474976886851_f2850_chunk_0.wav|/content/drive/My Drive/train/281474976886851_f2850_chunk_0.txt', '/content/drive/My Drive/train/281474976886852_f238_chunk_0.wav|/content/drive/My Drive/train/281474976886852_f238_chunk_0.txt', '/content/drive/My Drive/train/281474976886853_f824_chunk_0.wav|/content/drive/My Drive/train/281474976886853_f824_chunk_0.txt', '/content/drive/My Drive/train/281474976886854_f3037_chunk_0.wav|/content/drive/My Drive/train/281474976886854_f3037_chunk_0.txt', '/content/drive/My Drive/train/281474976886856_f2851_chunk_0.wav|/content/drive/My Drive/train/281474976886856_f2851_chunk_0.txt', '/content/drive/My Drive/train/281474976886857_f237_chunk_0.wav|/content/drive/My Drive/train/281474976886857_f237_chunk_0.txt', '/content/drive/My Drive/train/281474976886859_f825_chunk_0.wav|/content/drive/My Drive/train/281474976886859_f825_chunk_0.txt', '/content/drive/My Drive/train/281474976886861_f1932_chunk_0.wav|/content/drive/My Drive/train/281474976886861_f1932_chunk_0.txt', '/content/drive/My Drive/train/281474976886861_f1932_chunk_1.wav|/content/drive/My Drive/train/281474976886861_f1932_chunk_1.txt', '/content/drive/My Drive/train/281474976886861_f1932_chunk_2.wav|/content/drive/My Drive/train/281474976886861_f1932_chunk_2.txt', '/content/drive/My Drive/train/281474976886861_f1932_chunk_3.wav|/content/drive/My Drive/train/281474976886861_f1932_chunk_3.txt', '/content/drive/My Drive/train/281474976886861_f1932_chunk_4.wav|/content/drive/My Drive/train/281474976886861_f1932_chunk_4.txt', '/content/drive/My Drive/train/281474976886864_f3159_chunk_0.wav|/content/drive/My Drive/train/281474976886864_f3159_chunk_0.txt', '/content/drive/My Drive/train/281474976886864_f3159_chunk_1.wav|/content/drive/My Drive/train/281474976886864_f3159_chunk_1.txt', '/content/drive/My Drive/train/281474976886864_f3159_chunk_2.wav|/content/drive/My Drive/train/281474976886864_f3159_chunk_2.txt', '/content/drive/My Drive/train/281474976886864_f3159_chunk_3.wav|/content/drive/My Drive/train/281474976886864_f3159_chunk_3.txt', '/content/drive/My Drive/train/281474976886864_f3159_chunk_4.wav|/content/drive/My Drive/train/281474976886864_f3159_chunk_4.txt', '/content/drive/My Drive/train/281474976886867_f1856_chunk_0.wav|/content/drive/My Drive/train/281474976886867_f1856_chunk_0.txt', '/content/drive/My Drive/train/281474976886867_f1856_chunk_1.wav|/content/drive/My Drive/train/281474976886867_f1856_chunk_1.txt', '/content/drive/My Drive/train/281474976886870_f3336_chunk_0.wav|/content/drive/My Drive/train/281474976886870_f3336_chunk_0.txt', '/content/drive/My Drive/train/281474976886872_f2204_chunk_0.wav|/content/drive/My Drive/train/281474976886872_f2204_chunk_0.txt', '/content/drive/My Drive/train/281474976886872_f2204_chunk_1.wav|/content/drive/My Drive/train/281474976886872_f2204_chunk_1.txt', '/content/drive/My Drive/train/281474976886872_f2204_chunk_2.wav|/content/drive/My Drive/train/281474976886872_f2204_chunk_2.txt', '/content/drive/My Drive/train/281474976886872_f2204_chunk_3.wav|/content/drive/My Drive/train/281474976886872_f2204_chunk_3.txt', '/content/drive/My Drive/train/281474976886874_f1933_chunk_1.wav|/content/drive/My Drive/train/281474976886874_f1933_chunk_1.txt', '/content/drive/My Drive/train/281474976886876_f2174_chunk_0.wav|/content/drive/My Drive/train/281474976886876_f2174_chunk_0.txt', '/content/drive/My Drive/train/281474976886876_f2174_chunk_1.wav|/content/drive/My Drive/train/281474976886876_f2174_chunk_1.txt', '/content/drive/My Drive/train/281474976886876_f2174_chunk_2.wav|/content/drive/My Drive/train/281474976886876_f2174_chunk_2.txt', '/content/drive/My Drive/train/281474976886876_f2174_chunk_3.wav|/content/drive/My Drive/train/281474976886876_f2174_chunk_3.txt', '/content/drive/My Drive/train/281474976886877_f3160_chunk_1.wav|/content/drive/My Drive/train/281474976886877_f3160_chunk_1.txt', '/content/drive/My Drive/train/281474976886877_f3160_chunk_3.wav|/content/drive/My Drive/train/281474976886877_f3160_chunk_3.txt', '/content/drive/My Drive/train/281474976886877_f3160_chunk_4.wav|/content/drive/My Drive/train/281474976886877_f3160_chunk_4.txt', '/content/drive/My Drive/train/281474976886878_f2113_chunk_1.wav|/content/drive/My Drive/train/281474976886878_f2113_chunk_1.txt', '/content/drive/My Drive/train/281474976886878_f2113_chunk_3.wav|/content/drive/My Drive/train/281474976886878_f2113_chunk_3.txt', '/content/drive/My Drive/train/281474976886878_f2113_chunk_4.wav|/content/drive/My Drive/train/281474976886878_f2113_chunk_4.txt', '/content/drive/My Drive/train/281474976886892_f300_chunk_0.wav|/content/drive/My Drive/train/281474976886892_f300_chunk_0.txt', '/content/drive/My Drive/train/281474976886895_f90_chunk_0.wav|/content/drive/My Drive/train/281474976886895_f90_chunk_0.txt', '/content/drive/My Drive/train/281474976886896_f765_chunk_0.wav|/content/drive/My Drive/train/281474976886896_f765_chunk_0.txt', '/content/drive/My Drive/train/281474976886899_f726_chunk_0.wav|/content/drive/My Drive/train/281474976886899_f726_chunk_0.txt', '/content/drive/My Drive/train/281474976886900_f2733_chunk_0.wav|/content/drive/My Drive/train/281474976886900_f2733_chunk_0.txt', '/content/drive/My Drive/train/281474976886903_f845_chunk_0.wav|/content/drive/My Drive/train/281474976886903_f845_chunk_0.txt', '/content/drive/My Drive/train/281474976886904_f777_chunk_0.wav|/content/drive/My Drive/train/281474976886904_f777_chunk_0.txt', '/content/drive/My Drive/train/281474976886907_f2734_chunk_0.wav|/content/drive/My Drive/train/281474976886907_f2734_chunk_0.txt', '/content/drive/My Drive/train/281474976886910_f1197_chunk_0.wav|/content/drive/My Drive/train/281474976886910_f1197_chunk_0.txt', '/content/drive/My Drive/train/281474976886918_f1857_chunk_0.wav|/content/drive/My Drive/train/281474976886918_f1857_chunk_0.txt', '/content/drive/My Drive/train/281474976888211_f1484_chunk_0.wav|/content/drive/My Drive/train/281474976888211_f1484_chunk_0.txt', '/content/drive/My Drive/train/281474976888212_f1180_chunk_0.wav|/content/drive/My Drive/train/281474976888212_f1180_chunk_0.txt', '/content/drive/My Drive/train/281474976888212_f2335_chunk_0.wav|/content/drive/My Drive/train/281474976888212_f2335_chunk_0.txt', '/content/drive/My Drive/train/281474976888213_f1181_chunk_0.wav|/content/drive/My Drive/train/281474976888213_f1181_chunk_0.txt', '/content/drive/My Drive/train/281474976888213_f2768_chunk_0.wav|/content/drive/My Drive/train/281474976888213_f2768_chunk_0.txt', '/content/drive/My Drive/train/281474976888214_f1485_chunk_0.wav|/content/drive/My Drive/train/281474976888214_f1485_chunk_0.txt', '/content/drive/My Drive/train/281474976888214_f2979_chunk_0.wav|/content/drive/My Drive/train/281474976888214_f2979_chunk_0.txt', '/content/drive/My Drive/train/281474976888218_f1487_chunk_0.wav|/content/drive/My Drive/train/281474976888218_f1487_chunk_0.txt', '/content/drive/My Drive/train/281474976888218_f2769_chunk_0.wav|/content/drive/My Drive/train/281474976888218_f2769_chunk_0.txt', '/content/drive/My Drive/train/281474976888222_f1486_chunk_0.wav|/content/drive/My Drive/train/281474976888222_f1486_chunk_0.txt', '/content/drive/My Drive/train/281474976888224_f1488_chunk_0.wav|/content/drive/My Drive/train/281474976888224_f1488_chunk_0.txt', '/content/drive/My Drive/train/281474976888224_f2770_chunk_0.wav|/content/drive/My Drive/train/281474976888224_f2770_chunk_0.txt', '/content/drive/My Drive/train/281474976888224_f2770_chunk_1.wav|/content/drive/My Drive/train/281474976888224_f2770_chunk_1.txt', '/content/drive/My Drive/train/281474976888228_f2980_chunk_0.wav|/content/drive/My Drive/train/281474976888228_f2980_chunk_0.txt', '/content/drive/My Drive/train/281474976888228_f2980_chunk_1.wav|/content/drive/My Drive/train/281474976888228_f2980_chunk_1.txt', '/content/drive/My Drive/train/281474976888228_f2980_chunk_2.wav|/content/drive/My Drive/train/281474976888228_f2980_chunk_2.txt', '/content/drive/My Drive/train/281474976888231_f1490_chunk_1.wav|/content/drive/My Drive/train/281474976888231_f1490_chunk_1.txt', '/content/drive/My Drive/train/281474976896207_f137_chunk_0.wav|/content/drive/My Drive/train/281474976896207_f137_chunk_0.txt', '/content/drive/My Drive/train/281474976896209_f2852_chunk_0.wav|/content/drive/My Drive/train/281474976896209_f2852_chunk_0.txt', '/content/drive/My Drive/train/281474976896212_f243_chunk_0.wav|/content/drive/My Drive/train/281474976896212_f243_chunk_0.txt', '/content/drive/My Drive/train/281474976896215_f2515_chunk_0.wav|/content/drive/My Drive/train/281474976896215_f2515_chunk_0.txt', '/content/drive/My Drive/train/281474976896216_f826_chunk_0.wav|/content/drive/My Drive/train/281474976896216_f826_chunk_0.txt', '/content/drive/My Drive/train/281474976896217_f642_chunk_0.wav|/content/drive/My Drive/train/281474976896217_f642_chunk_0.txt', '/content/drive/My Drive/train/281474976896219_f244_chunk_0.wav|/content/drive/My Drive/train/281474976896219_f244_chunk_0.txt', '/content/drive/My Drive/train/281474976896221_f242_chunk_0.wav|/content/drive/My Drive/train/281474976896221_f242_chunk_0.txt', '/content/drive/My Drive/train/281474976896223_f2853_chunk_0.wav|/content/drive/My Drive/train/281474976896223_f2853_chunk_0.txt', '/content/drive/My Drive/train/281474976896224_f672_chunk_0.wav|/content/drive/My Drive/train/281474976896224_f672_chunk_0.txt', '/content/drive/My Drive/train/281474976896225_f3038_chunk_0.wav|/content/drive/My Drive/train/281474976896225_f3038_chunk_0.txt', '/content/drive/My Drive/train/281474976896226_f368_chunk_0.wav|/content/drive/My Drive/train/281474976896226_f368_chunk_0.txt', '/content/drive/My Drive/train/281474976896568_f1498_chunk_0.wav|/content/drive/My Drive/train/281474976896568_f1498_chunk_0.txt', '/content/drive/My Drive/train/281474976896568_f2336_chunk_0.wav|/content/drive/My Drive/train/281474976896568_f2336_chunk_0.txt', '/content/drive/My Drive/train/281474976896573_f1495_chunk_0.wav|/content/drive/My Drive/train/281474976896573_f1495_chunk_0.txt', '/content/drive/My Drive/train/281474976896574_f1497_chunk_0.wav|/content/drive/My Drive/train/281474976896574_f1497_chunk_0.txt', '/content/drive/My Drive/train/281474976896575_f1496_chunk_0.wav|/content/drive/My Drive/train/281474976896575_f1496_chunk_0.txt', '/content/drive/My Drive/train/281474976896576_f1494_chunk_0.wav|/content/drive/My Drive/train/281474976896576_f1494_chunk_0.txt', '/content/drive/My Drive/train/281474976896579_f1493_chunk_0.wav|/content/drive/My Drive/train/281474976896579_f1493_chunk_0.txt', '/content/drive/My Drive/train/281474976896581_f1492_chunk_0.wav|/content/drive/My Drive/train/281474976896581_f1492_chunk_0.txt', '/content/drive/My Drive/train/281474976896581_f2338_chunk_0.wav|/content/drive/My Drive/train/281474976896581_f2338_chunk_0.txt', '/content/drive/My Drive/train/281474976896582_f1500_chunk_0.wav|/content/drive/My Drive/train/281474976896582_f1500_chunk_0.txt', '/content/drive/My Drive/train/281474976896583_f1501_chunk_0.wav|/content/drive/My Drive/train/281474976896583_f1501_chunk_0.txt', '/content/drive/My Drive/train/281474976896585_f2339_chunk_0.wav|/content/drive/My Drive/train/281474976896585_f2339_chunk_0.txt', '/content/drive/My Drive/train/281474976897602_f940_chunk_0.wav|/content/drive/My Drive/train/281474976897602_f940_chunk_0.txt', '/content/drive/My Drive/train/281474976897604_f120_chunk_0.wav|/content/drive/My Drive/train/281474976897604_f120_chunk_0.txt', '/content/drive/My Drive/train/281474976897608_f121_chunk_0.wav|/content/drive/My Drive/train/281474976897608_f121_chunk_0.txt', '/content/drive/My Drive/train/281474976897611_f2416_chunk_0.wav|/content/drive/My Drive/train/281474976897611_f2416_chunk_0.txt', '/content/drive/My Drive/train/281474976897611_f277_chunk_0.wav|/content/drive/My Drive/train/281474976897611_f277_chunk_0.txt', '/content/drive/My Drive/train/281474976897614_f122_chunk_0.wav|/content/drive/My Drive/train/281474976897614_f122_chunk_0.txt', '/content/drive/My Drive/train/281474976897615_f2683_chunk_0.wav|/content/drive/My Drive/train/281474976897615_f2683_chunk_0.txt', '/content/drive/My Drive/train/281474976897620_f139_chunk_0.wav|/content/drive/My Drive/train/281474976897620_f139_chunk_0.txt', '/content/drive/My Drive/train/281474976897620_f2811_chunk_0.wav|/content/drive/My Drive/train/281474976897620_f2811_chunk_0.txt', '/content/drive/My Drive/train/281474976897621_f1022_chunk_0.wav|/content/drive/My Drive/train/281474976897621_f1022_chunk_0.txt', '/content/drive/My Drive/train/281474976897621_f2915_chunk_0.wav|/content/drive/My Drive/train/281474976897621_f2915_chunk_0.txt', '/content/drive/My Drive/train/281474976897624_f123_chunk_0.wav|/content/drive/My Drive/train/281474976897624_f123_chunk_0.txt', '/content/drive/My Drive/train/281474976897625_f3013_chunk_0.wav|/content/drive/My Drive/train/281474976897625_f3013_chunk_0.txt', '/content/drive/My Drive/train/281474976897627_f2417_chunk_0.wav|/content/drive/My Drive/train/281474976897627_f2417_chunk_0.txt', '/content/drive/My Drive/train/281474976897627_f942_chunk_0.wav|/content/drive/My Drive/train/281474976897627_f942_chunk_0.txt', '/content/drive/My Drive/train/281474976897628_f945_chunk_0.wav|/content/drive/My Drive/train/281474976897628_f945_chunk_0.txt', '/content/drive/My Drive/train/281474976897629_f3015_chunk_0.wav|/content/drive/My Drive/train/281474976897629_f3015_chunk_0.txt', '/content/drive/My Drive/train/281474976897629_f971_chunk_0.wav|/content/drive/My Drive/train/281474976897629_f971_chunk_0.txt', '/content/drive/My Drive/train/281474976897631_f2916_chunk_0.wav|/content/drive/My Drive/train/281474976897631_f2916_chunk_0.txt', '/content/drive/My Drive/train/281474976897631_f970_chunk_0.wav|/content/drive/My Drive/train/281474976897631_f970_chunk_0.txt', '/content/drive/My Drive/train/281474976897632_f307_chunk_0.wav|/content/drive/My Drive/train/281474976897632_f307_chunk_0.txt', '/content/drive/My Drive/train/281474976897633_f276_chunk_0.wav|/content/drive/My Drive/train/281474976897633_f276_chunk_0.txt', '/content/drive/My Drive/train/281474976897634_f275_chunk_0.wav|/content/drive/My Drive/train/281474976897634_f275_chunk_0.txt', '/content/drive/My Drive/train/281474976897635_f3014_chunk_0.wav|/content/drive/My Drive/train/281474976897635_f3014_chunk_0.txt', '/content/drive/My Drive/train/281474976897635_f969_chunk_0.wav|/content/drive/My Drive/train/281474976897635_f969_chunk_0.txt', '/content/drive/My Drive/train/281474976897639_f1023_chunk_0.wav|/content/drive/My Drive/train/281474976897639_f1023_chunk_0.txt', '/content/drive/My Drive/train/281474976897639_f2713_chunk_0.wav|/content/drive/My Drive/train/281474976897639_f2713_chunk_0.txt', '/content/drive/My Drive/train/281474976897640_f118_chunk_0.wav|/content/drive/My Drive/train/281474976897640_f118_chunk_0.txt', '/content/drive/My Drive/train/281474976897653_f1813_chunk_0.wav|/content/drive/My Drive/train/281474976897653_f1813_chunk_0.txt', '/content/drive/My Drive/train/281474976897653_f3127_chunk_0.wav|/content/drive/My Drive/train/281474976897653_f3127_chunk_0.txt', '/content/drive/My Drive/train/281474976897662_f1995_chunk_0.wav|/content/drive/My Drive/train/281474976897662_f1995_chunk_0.txt', '/content/drive/My Drive/train/281474976897662_f1995_chunk_1.wav|/content/drive/My Drive/train/281474976897662_f1995_chunk_1.txt', '/content/drive/My Drive/train/281474976897662_f1995_chunk_2.wav|/content/drive/My Drive/train/281474976897662_f1995_chunk_2.txt', '/content/drive/My Drive/train/281474976897662_f1995_chunk_3.wav|/content/drive/My Drive/train/281474976897662_f1995_chunk_3.txt', '/content/drive/My Drive/train/281474976898386_f2112_chunk_0.wav|/content/drive/My Drive/train/281474976898386_f2112_chunk_0.txt', '/content/drive/My Drive/train/281474976898386_f2112_chunk_1.wav|/content/drive/My Drive/train/281474976898386_f2112_chunk_1.txt', '/content/drive/My Drive/train/281474976898387_f2202_chunk_0.wav|/content/drive/My Drive/train/281474976898387_f2202_chunk_0.txt', '/content/drive/My Drive/train/281474976898387_f2202_chunk_2.wav|/content/drive/My Drive/train/281474976898387_f2202_chunk_2.txt', '/content/drive/My Drive/train/281474976898387_f3126_chunk_0.wav|/content/drive/My Drive/train/281474976898387_f3126_chunk_0.txt', '/content/drive/My Drive/train/281474976898391_f3297_chunk_0.wav|/content/drive/My Drive/train/281474976898391_f3297_chunk_0.txt', '/content/drive/My Drive/train/281474976898391_f3297_chunk_2.wav|/content/drive/My Drive/train/281474976898391_f3297_chunk_2.txt', '/content/drive/My Drive/train/281474976898393_f1814_chunk_1.wav|/content/drive/My Drive/train/281474976898393_f1814_chunk_1.txt', '/content/drive/My Drive/train/281474976898393_f1814_chunk_2.wav|/content/drive/My Drive/train/281474976898393_f1814_chunk_2.txt', '/content/drive/My Drive/train/281474976898393_f1814_chunk_3.wav|/content/drive/My Drive/train/281474976898393_f1814_chunk_3.txt', '/content/drive/My Drive/train/281474976898393_f1814_chunk_4.wav|/content/drive/My Drive/train/281474976898393_f1814_chunk_4.txt', '/content/drive/My Drive/train/281474976898393_f3128_chunk_0.wav|/content/drive/My Drive/train/281474976898393_f3128_chunk_0.txt', '/content/drive/My Drive/train/281474976898393_f3128_chunk_1.wav|/content/drive/My Drive/train/281474976898393_f3128_chunk_1.txt', '/content/drive/My Drive/train/281474976899458_f2607_chunk_0.wav|/content/drive/My Drive/train/281474976899458_f2607_chunk_0.txt', '/content/drive/My Drive/train/281474976899459_f1085_chunk_0.wav|/content/drive/My Drive/train/281474976899459_f1085_chunk_0.txt', '/content/drive/My Drive/train/281474976899460_f2609_chunk_0.wav|/content/drive/My Drive/train/281474976899460_f2609_chunk_0.txt', '/content/drive/My Drive/train/281474976899461_f1084_chunk_0.wav|/content/drive/My Drive/train/281474976899461_f1084_chunk_0.txt', '/content/drive/My Drive/train/281474976899463_f2608_chunk_0.wav|/content/drive/My Drive/train/281474976899463_f2608_chunk_0.txt', '/content/drive/My Drive/train/281474976899464_f1086_chunk_0.wav|/content/drive/My Drive/train/281474976899464_f1086_chunk_0.txt', '/content/drive/My Drive/train/281474976899467_f1087_chunk_0.wav|/content/drive/My Drive/train/281474976899467_f1087_chunk_0.txt', '/content/drive/My Drive/train/281474976899470_f788_chunk_0.wav|/content/drive/My Drive/train/281474976899470_f788_chunk_0.txt', '/content/drive/My Drive/train/281474976899471_f1200_chunk_0.wav|/content/drive/My Drive/train/281474976899471_f1200_chunk_0.txt', '/content/drive/My Drive/train/281474976899474_f1088_chunk_0.wav|/content/drive/My Drive/train/281474976899474_f1088_chunk_0.txt', '/content/drive/My Drive/train/281474976899477_f3092_chunk_0.wav|/content/drive/My Drive/train/281474976899477_f3092_chunk_0.txt', '/content/drive/My Drive/train/281474976899484_f1092_chunk_0.wav|/content/drive/My Drive/train/281474976899484_f1092_chunk_0.txt', '/content/drive/My Drive/train/281474976899485_f1096_chunk_0.wav|/content/drive/My Drive/train/281474976899485_f1096_chunk_0.txt', '/content/drive/My Drive/train/281474976899487_f1098_chunk_0.wav|/content/drive/My Drive/train/281474976899487_f1098_chunk_0.txt', '/content/drive/My Drive/train/281474976899488_f2695_chunk_0.wav|/content/drive/My Drive/train/281474976899488_f2695_chunk_0.txt', '/content/drive/My Drive/train/281474976899489_f595_chunk_0.wav|/content/drive/My Drive/train/281474976899489_f595_chunk_0.txt', '/content/drive/My Drive/train/281474976899491_f1095_chunk_0.wav|/content/drive/My Drive/train/281474976899491_f1095_chunk_0.txt', '/content/drive/My Drive/train/281474976899495_f2610_chunk_0.wav|/content/drive/My Drive/train/281474976899495_f2610_chunk_0.txt', '/content/drive/My Drive/train/281474976899496_f175_chunk_0.wav|/content/drive/My Drive/train/281474976899496_f175_chunk_0.txt', '/content/drive/My Drive/train/281474976899497_f2611_chunk_0.wav|/content/drive/My Drive/train/281474976899497_f2611_chunk_0.txt', '/content/drive/My Drive/train/281474976899499_f703_chunk_0.wav|/content/drive/My Drive/train/281474976899499_f703_chunk_0.txt', '/content/drive/My Drive/train/281474976899500_f1097_chunk_0.wav|/content/drive/My Drive/train/281474976899500_f1097_chunk_0.txt', '/content/drive/My Drive/train/281474976899502_f1094_chunk_0.wav|/content/drive/My Drive/train/281474976899502_f1094_chunk_0.txt', '/content/drive/My Drive/train/281474976903177_f2345_chunk_0.wav|/content/drive/My Drive/train/281474976903177_f2345_chunk_0.txt', '/content/drive/My Drive/train/281474976903177_f2345_chunk_1.wav|/content/drive/My Drive/train/281474976903177_f2345_chunk_1.txt', '/content/drive/My Drive/train/281474976903177_f2345_chunk_2.wav|/content/drive/My Drive/train/281474976903177_f2345_chunk_2.txt', '/content/drive/My Drive/train/281474976903177_f623_chunk_0.wav|/content/drive/My Drive/train/281474976903177_f623_chunk_0.txt', '/content/drive/My Drive/train/281474976903178_f622_chunk_0.wav|/content/drive/My Drive/train/281474976903178_f622_chunk_0.txt', '/content/drive/My Drive/train/281474976903180_f2344_chunk_0.wav|/content/drive/My Drive/train/281474976903180_f2344_chunk_0.txt', '/content/drive/My Drive/train/281474976903187_f2699_chunk_0.wav|/content/drive/My Drive/train/281474976903187_f2699_chunk_0.txt', '/content/drive/My Drive/train/281474976903187_f2699_chunk_1.wav|/content/drive/My Drive/train/281474976903187_f2699_chunk_1.txt', '/content/drive/My Drive/train/281474976903187_f2699_chunk_2.wav|/content/drive/My Drive/train/281474976903187_f2699_chunk_2.txt', '/content/drive/My Drive/train/281474976903190_f1337_chunk_0.wav|/content/drive/My Drive/train/281474976903190_f1337_chunk_0.txt', '/content/drive/My Drive/train/281474976903191_f2771_chunk_0.wav|/content/drive/My Drive/train/281474976903191_f2771_chunk_0.txt', '/content/drive/My Drive/train/281474976903198_f1340_chunk_0.wav|/content/drive/My Drive/train/281474976903198_f1340_chunk_0.txt', '/content/drive/My Drive/train/281474976903198_f2348_chunk_0.wav|/content/drive/My Drive/train/281474976903198_f2348_chunk_0.txt', '/content/drive/My Drive/train/281474976903200_f1345_chunk_0.wav|/content/drive/My Drive/train/281474976903200_f1345_chunk_0.txt', '/content/drive/My Drive/train/281474976903202_f1341_chunk_0.wav|/content/drive/My Drive/train/281474976903202_f1341_chunk_0.txt', '/content/drive/My Drive/train/281474976903204_f1344_chunk_0.wav|/content/drive/My Drive/train/281474976903204_f1344_chunk_0.txt', '/content/drive/My Drive/train/281474976903205_f1348_chunk_0.wav|/content/drive/My Drive/train/281474976903205_f1348_chunk_0.txt', '/content/drive/My Drive/train/281474976903206_f1342_chunk_0.wav|/content/drive/My Drive/train/281474976903206_f1342_chunk_0.txt', '/content/drive/My Drive/train/281474976903209_f1349_chunk_0.wav|/content/drive/My Drive/train/281474976903209_f1349_chunk_0.txt', '/content/drive/My Drive/train/281474976903209_f2772_chunk_0.wav|/content/drive/My Drive/train/281474976903209_f2772_chunk_0.txt', '/content/drive/My Drive/train/281474976903210_f1346_chunk_0.wav|/content/drive/My Drive/train/281474976903210_f1346_chunk_0.txt', '/content/drive/My Drive/train/281474976903215_f2346_chunk_0.wav|/content/drive/My Drive/train/281474976903215_f2346_chunk_0.txt', '/content/drive/My Drive/train/281474976903218_f1184_chunk_0.wav|/content/drive/My Drive/train/281474976903218_f1184_chunk_0.txt', '/content/drive/My Drive/train/281474976903218_f2347_chunk_0.wav|/content/drive/My Drive/train/281474976903218_f2347_chunk_0.txt']\n",
            "['/content/drive/My Drive/val/281474976884236_f1316_chunk_0.wav|/content/drive/My Drive/val/281474976884236_f1316_chunk_0.txt', '/content/drive/My Drive/val/281474976884247_f1320_chunk_0.wav|/content/drive/My Drive/val/281474976884247_f1320_chunk_0.txt', '/content/drive/My Drive/val/281474976884266_f1681_chunk_2.wav|/content/drive/My Drive/val/281474976884266_f1681_chunk_2.txt', '/content/drive/My Drive/val/281474976884267_f1694_chunk_4.wav|/content/drive/My Drive/val/281474976884267_f1694_chunk_4.txt', '/content/drive/My Drive/val/281474976884333_f746_chunk_0.wav|/content/drive/My Drive/val/281474976884333_f746_chunk_0.txt', '/content/drive/My Drive/val/281474976884357_f1781_chunk_1.wav|/content/drive/My Drive/val/281474976884357_f1781_chunk_1.txt', '/content/drive/My Drive/val/281474976884364_f1979_chunk_3.wav|/content/drive/My Drive/val/281474976884364_f1979_chunk_3.txt', '/content/drive/My Drive/val/281474976884366_f2021_chunk_3.wav|/content/drive/My Drive/val/281474976884366_f2021_chunk_3.txt', '/content/drive/My Drive/val/281474976884366_f2021_chunk_4.wav|/content/drive/My Drive/val/281474976884366_f2021_chunk_4.txt', '/content/drive/My Drive/val/281474976884581_f1728_chunk_0.wav|/content/drive/My Drive/val/281474976884581_f1728_chunk_0.txt', '/content/drive/My Drive/val/281474976886793_f1328_chunk_1.wav|/content/drive/My Drive/val/281474976886793_f1328_chunk_1.txt', '/content/drive/My Drive/val/281474976886801_f1297_chunk_0.wav|/content/drive/My Drive/val/281474976886801_f1297_chunk_0.txt', '/content/drive/My Drive/val/281474976886814_f1691_chunk_1.wav|/content/drive/My Drive/val/281474976886814_f1691_chunk_1.txt', '/content/drive/My Drive/val/281474976886815_f1980_chunk_5.wav|/content/drive/My Drive/val/281474976886815_f1980_chunk_5.txt', '/content/drive/My Drive/val/281474976886820_f2271_chunk_1.wav|/content/drive/My Drive/val/281474976886820_f2271_chunk_1.txt', '/content/drive/My Drive/val/281474976886874_f1933_chunk_2.wav|/content/drive/My Drive/val/281474976886874_f1933_chunk_2.txt', '/content/drive/My Drive/val/281474976886877_f3160_chunk_2.wav|/content/drive/My Drive/val/281474976886877_f3160_chunk_2.txt', '/content/drive/My Drive/val/281474976886878_f2113_chunk_2.wav|/content/drive/My Drive/val/281474976886878_f2113_chunk_2.txt', '/content/drive/My Drive/val/281474976886889_f844_chunk_0.wav|/content/drive/My Drive/val/281474976886889_f844_chunk_0.txt', '/content/drive/My Drive/val/281474976886890_f2732_chunk_0.wav|/content/drive/My Drive/val/281474976886890_f2732_chunk_0.txt', '/content/drive/My Drive/val/281474976886908_f846_chunk_0.wav|/content/drive/My Drive/val/281474976886908_f846_chunk_0.txt', '/content/drive/My Drive/val/281474976888226_f1489_chunk_0.wav|/content/drive/My Drive/val/281474976888226_f1489_chunk_0.txt', '/content/drive/My Drive/val/281474976888231_f1490_chunk_0.wav|/content/drive/My Drive/val/281474976888231_f1490_chunk_0.txt', '/content/drive/My Drive/val/281474976896220_f785_chunk_0.wav|/content/drive/My Drive/val/281474976896220_f785_chunk_0.txt', '/content/drive/My Drive/val/281474976896222_f3039_chunk_0.wav|/content/drive/My Drive/val/281474976896222_f3039_chunk_0.txt', '/content/drive/My Drive/val/281474976896574_f2337_chunk_0.wav|/content/drive/My Drive/val/281474976896574_f2337_chunk_0.txt', '/content/drive/My Drive/val/281474976897615_f278_chunk_0.wav|/content/drive/My Drive/val/281474976897615_f278_chunk_0.txt', '/content/drive/My Drive/val/281474976897665_f1718_chunk_0.wav|/content/drive/My Drive/val/281474976897665_f1718_chunk_0.txt', '/content/drive/My Drive/val/281474976897665_f1718_chunk_1.wav|/content/drive/My Drive/val/281474976897665_f1718_chunk_1.txt', '/content/drive/My Drive/val/281474976898391_f3297_chunk_1.wav|/content/drive/My Drive/val/281474976898391_f3297_chunk_1.txt', '/content/drive/My Drive/val/281474976898393_f1814_chunk_0.wav|/content/drive/My Drive/val/281474976898393_f1814_chunk_0.txt', '/content/drive/My Drive/val/281474976903180_f802_chunk_0.wav|/content/drive/My Drive/val/281474976903180_f802_chunk_0.txt', '/content/drive/My Drive/val/281474976903181_f913_chunk_0.wav|/content/drive/My Drive/val/281474976903181_f913_chunk_0.txt', '/content/drive/My Drive/val/281474976903191_f1338_chunk_0.wav|/content/drive/My Drive/val/281474976903191_f1338_chunk_0.txt', '/content/drive/My Drive/val/281474976903196_f1339_chunk_0.wav|/content/drive/My Drive/val/281474976903196_f1339_chunk_0.txt', '/content/drive/My Drive/val/281474976903198_f2348_chunk_1.wav|/content/drive/My Drive/val/281474976903198_f2348_chunk_1.txt', '/content/drive/My Drive/val/281474976903199_f1343_chunk_0.wav|/content/drive/My Drive/val/281474976903199_f1343_chunk_0.txt', '/content/drive/My Drive/val/281474976903215_f1347_chunk_0.wav|/content/drive/My Drive/val/281474976903215_f1347_chunk_0.txt']\n",
            "['/content/drive/My Drive/test/281474976884229_f2757_chunk_0.wav|/content/drive/My Drive/test/281474976884229_f2757_chunk_0.txt', '/content/drive/My Drive/test/281474976884251_f1321_chunk_0.wav|/content/drive/My Drive/test/281474976884251_f1321_chunk_0.txt', '/content/drive/My Drive/test/281474976884267_f1694_chunk_1.wav|/content/drive/My Drive/test/281474976884267_f1694_chunk_1.txt', '/content/drive/My Drive/test/281474976884271_f1791_chunk_1.wav|/content/drive/My Drive/test/281474976884271_f1791_chunk_1.txt', '/content/drive/My Drive/test/281474976884323_f556_chunk_0.wav|/content/drive/My Drive/test/281474976884323_f556_chunk_0.txt', '/content/drive/My Drive/test/281474976884356_f1978_chunk_1.wav|/content/drive/My Drive/test/281474976884356_f1978_chunk_1.txt', '/content/drive/My Drive/test/281474976884364_f1979_chunk_6.wav|/content/drive/My Drive/test/281474976884364_f1979_chunk_6.txt', '/content/drive/My Drive/test/281474976884588_f2306_chunk_0.wav|/content/drive/My Drive/test/281474976884588_f2306_chunk_0.txt', '/content/drive/My Drive/test/281474976886802_f1296_chunk_0.wav|/content/drive/My Drive/test/281474976886802_f1296_chunk_0.txt', '/content/drive/My Drive/test/281474976886810_f1861_chunk_3.wav|/content/drive/My Drive/test/281474976886810_f1861_chunk_3.txt', '/content/drive/My Drive/test/281474976886817_f1675_chunk_1.wav|/content/drive/My Drive/test/281474976886817_f1675_chunk_1.txt', '/content/drive/My Drive/test/281474976886820_f2271_chunk_3.wav|/content/drive/My Drive/test/281474976886820_f2271_chunk_3.txt', '/content/drive/My Drive/test/281474976886820_f2271_chunk_4.wav|/content/drive/My Drive/test/281474976886820_f2271_chunk_4.txt', '/content/drive/My Drive/test/281474976886823_f1784_chunk_3.wav|/content/drive/My Drive/test/281474976886823_f1784_chunk_3.txt', '/content/drive/My Drive/test/281474976886869_f2034_chunk_0.wav|/content/drive/My Drive/test/281474976886869_f2034_chunk_0.txt', '/content/drive/My Drive/test/281474976886870_f3336_chunk_1.wav|/content/drive/My Drive/test/281474976886870_f3336_chunk_1.txt', '/content/drive/My Drive/test/281474976886874_f1933_chunk_0.wav|/content/drive/My Drive/test/281474976886874_f1933_chunk_0.txt', '/content/drive/My Drive/test/281474976886876_f2174_chunk_4.wav|/content/drive/My Drive/test/281474976886876_f2174_chunk_4.txt', '/content/drive/My Drive/test/281474976886877_f3160_chunk_0.wav|/content/drive/My Drive/test/281474976886877_f3160_chunk_0.txt', '/content/drive/My Drive/test/281474976886878_f2113_chunk_0.wav|/content/drive/My Drive/test/281474976886878_f2113_chunk_0.txt', '/content/drive/My Drive/test/281474976886911_f847_chunk_0.wav|/content/drive/My Drive/test/281474976886911_f847_chunk_0.txt', '/content/drive/My Drive/test/281474976886919_f3326_chunk_0.wav|/content/drive/My Drive/test/281474976886919_f3326_chunk_0.txt', '/content/drive/My Drive/test/281474976888228_f1491_chunk_0.wav|/content/drive/My Drive/test/281474976888228_f1491_chunk_0.txt', '/content/drive/My Drive/test/281474976896211_f667_chunk_0.wav|/content/drive/My Drive/test/281474976896211_f667_chunk_0.txt', '/content/drive/My Drive/test/281474976896218_f2637_chunk_0.wav|/content/drive/My Drive/test/281474976896218_f2637_chunk_0.txt', '/content/drive/My Drive/test/281474976896585_f1499_chunk_0.wav|/content/drive/My Drive/test/281474976896585_f1499_chunk_0.txt', '/content/drive/My Drive/test/281474976897625_f964_chunk_0.wav|/content/drive/My Drive/test/281474976897625_f964_chunk_0.txt', '/content/drive/My Drive/test/281474976897662_f3287_chunk_0.wav|/content/drive/My Drive/test/281474976897662_f3287_chunk_0.txt', '/content/drive/My Drive/test/281474976898387_f2202_chunk_1.wav|/content/drive/My Drive/test/281474976898387_f2202_chunk_1.txt', '/content/drive/My Drive/test/281474976898391_f1994_chunk_0.wav|/content/drive/My Drive/test/281474976898391_f1994_chunk_0.txt', '/content/drive/My Drive/test/281474976898391_f1994_chunk_1.wav|/content/drive/My Drive/test/281474976898391_f1994_chunk_1.txt', '/content/drive/My Drive/test/281474976899473_f1089_chunk_0.wav|/content/drive/My Drive/test/281474976899473_f1089_chunk_0.txt', '/content/drive/My Drive/test/281474976899478_f1090_chunk_0.wav|/content/drive/My Drive/test/281474976899478_f1090_chunk_0.txt', '/content/drive/My Drive/test/281474976899480_f1091_chunk_0.wav|/content/drive/My Drive/test/281474976899480_f1091_chunk_0.txt', '/content/drive/My Drive/test/281474976899483_f1093_chunk_0.wav|/content/drive/My Drive/test/281474976899483_f1093_chunk_0.txt', '/content/drive/My Drive/test/281474976899507_f2300_chunk_0.wav|/content/drive/My Drive/test/281474976899507_f2300_chunk_0.txt', '/content/drive/My Drive/test/281474976903184_f1336_chunk_0.wav|/content/drive/My Drive/test/281474976903184_f1336_chunk_0.txt', '/content/drive/My Drive/test/281474976903187_f1335_chunk_0.wav|/content/drive/My Drive/test/281474976903187_f1335_chunk_0.txt', '/content/drive/My Drive/test/281474976903190_f2983_chunk_0.wav|/content/drive/My Drive/test/281474976903190_f2983_chunk_0.txt']\n"
          ]
        }
      ]
    },
    {
      "cell_type": "code",
      "source": [],
      "metadata": {
        "id": "2cVscB412kZ6"
      },
      "execution_count": null,
      "outputs": []
    },
    {
      "cell_type": "code",
      "source": [
        "!python preprocess.py --text_index 1 --filelists filelists/train_filelist.txt filelists/val_filelist.txt filelists/test_filelist.txt\n"
      ],
      "metadata": {
        "colab": {
          "base_uri": "https://localhost:8080/"
        },
        "id": "LwhV1CCbwyhw",
        "outputId": "0cb60dcf-a740-45c2-b829-0a7893b5da55"
      },
      "execution_count": null,
      "outputs": [
        {
          "output_type": "stream",
          "name": "stdout",
          "text": [
            "START: filelists/train_filelist.txt\n",
            "WARNING:phonemizer:words count mismatch on 100.0% of the lines (1/1)\n",
            "WARNING:phonemizer:words count mismatch on 100.0% of the lines (1/1)\n",
            "WARNING:phonemizer:words count mismatch on 100.0% of the lines (1/1)\n",
            "WARNING:phonemizer:words count mismatch on 100.0% of the lines (1/1)\n",
            "WARNING:phonemizer:words count mismatch on 100.0% of the lines (1/1)\n",
            "WARNING:phonemizer:words count mismatch on 100.0% of the lines (1/1)\n",
            "WARNING:phonemizer:words count mismatch on 100.0% of the lines (1/1)\n",
            "WARNING:phonemizer:words count mismatch on 100.0% of the lines (1/1)\n",
            "WARNING:phonemizer:words count mismatch on 100.0% of the lines (1/1)\n",
            "WARNING:phonemizer:words count mismatch on 100.0% of the lines (1/1)\n",
            "WARNING:phonemizer:words count mismatch on 100.0% of the lines (1/1)\n",
            "WARNING:phonemizer:words count mismatch on 100.0% of the lines (1/1)\n",
            "WARNING:phonemizer:words count mismatch on 100.0% of the lines (1/1)\n",
            "WARNING:phonemizer:words count mismatch on 100.0% of the lines (1/1)\n",
            "WARNING:phonemizer:words count mismatch on 100.0% of the lines (1/1)\n",
            "WARNING:phonemizer:words count mismatch on 100.0% of the lines (1/1)\n",
            "WARNING:phonemizer:words count mismatch on 100.0% of the lines (1/1)\n",
            "WARNING:phonemizer:words count mismatch on 100.0% of the lines (1/1)\n",
            "WARNING:phonemizer:words count mismatch on 100.0% of the lines (1/1)\n",
            "WARNING:phonemizer:words count mismatch on 100.0% of the lines (1/1)\n",
            "WARNING:phonemizer:words count mismatch on 100.0% of the lines (1/1)\n",
            "WARNING:phonemizer:words count mismatch on 100.0% of the lines (1/1)\n",
            "WARNING:phonemizer:words count mismatch on 100.0% of the lines (1/1)\n",
            "WARNING:phonemizer:words count mismatch on 100.0% of the lines (1/1)\n",
            "WARNING:phonemizer:words count mismatch on 100.0% of the lines (1/1)\n",
            "WARNING:phonemizer:words count mismatch on 100.0% of the lines (1/1)\n",
            "WARNING:phonemizer:words count mismatch on 100.0% of the lines (1/1)\n",
            "WARNING:phonemizer:words count mismatch on 100.0% of the lines (1/1)\n",
            "WARNING:phonemizer:words count mismatch on 100.0% of the lines (1/1)\n",
            "WARNING:phonemizer:words count mismatch on 100.0% of the lines (1/1)\n",
            "WARNING:phonemizer:words count mismatch on 100.0% of the lines (1/1)\n",
            "WARNING:phonemizer:words count mismatch on 100.0% of the lines (1/1)\n",
            "WARNING:phonemizer:words count mismatch on 100.0% of the lines (1/1)\n",
            "WARNING:phonemizer:words count mismatch on 100.0% of the lines (1/1)\n",
            "WARNING:phonemizer:words count mismatch on 100.0% of the lines (1/1)\n",
            "WARNING:phonemizer:words count mismatch on 100.0% of the lines (1/1)\n",
            "WARNING:phonemizer:words count mismatch on 100.0% of the lines (1/1)\n",
            "WARNING:phonemizer:words count mismatch on 100.0% of the lines (1/1)\n",
            "WARNING:phonemizer:words count mismatch on 100.0% of the lines (1/1)\n",
            "WARNING:phonemizer:words count mismatch on 100.0% of the lines (1/1)\n",
            "WARNING:phonemizer:words count mismatch on 100.0% of the lines (1/1)\n",
            "WARNING:phonemizer:words count mismatch on 100.0% of the lines (1/1)\n",
            "WARNING:phonemizer:words count mismatch on 100.0% of the lines (1/1)\n",
            "WARNING:phonemizer:words count mismatch on 100.0% of the lines (1/1)\n",
            "WARNING:phonemizer:words count mismatch on 100.0% of the lines (1/1)\n",
            "WARNING:phonemizer:words count mismatch on 100.0% of the lines (1/1)\n",
            "WARNING:phonemizer:words count mismatch on 100.0% of the lines (1/1)\n",
            "WARNING:phonemizer:words count mismatch on 100.0% of the lines (1/1)\n",
            "WARNING:phonemizer:words count mismatch on 100.0% of the lines (1/1)\n",
            "WARNING:phonemizer:words count mismatch on 100.0% of the lines (1/1)\n",
            "WARNING:phonemizer:words count mismatch on 100.0% of the lines (1/1)\n",
            "WARNING:phonemizer:words count mismatch on 100.0% of the lines (1/1)\n",
            "WARNING:phonemizer:words count mismatch on 100.0% of the lines (1/1)\n",
            "WARNING:phonemizer:words count mismatch on 100.0% of the lines (1/1)\n",
            "WARNING:phonemizer:words count mismatch on 100.0% of the lines (1/1)\n",
            "WARNING:phonemizer:words count mismatch on 100.0% of the lines (1/1)\n",
            "WARNING:phonemizer:words count mismatch on 100.0% of the lines (1/1)\n",
            "WARNING:phonemizer:words count mismatch on 100.0% of the lines (1/1)\n",
            "WARNING:phonemizer:words count mismatch on 100.0% of the lines (1/1)\n",
            "WARNING:phonemizer:words count mismatch on 100.0% of the lines (1/1)\n",
            "WARNING:phonemizer:words count mismatch on 100.0% of the lines (1/1)\n",
            "WARNING:phonemizer:words count mismatch on 100.0% of the lines (1/1)\n",
            "WARNING:phonemizer:words count mismatch on 100.0% of the lines (1/1)\n",
            "WARNING:phonemizer:words count mismatch on 100.0% of the lines (1/1)\n",
            "WARNING:phonemizer:words count mismatch on 100.0% of the lines (1/1)\n",
            "WARNING:phonemizer:words count mismatch on 100.0% of the lines (1/1)\n",
            "WARNING:phonemizer:words count mismatch on 100.0% of the lines (1/1)\n",
            "WARNING:phonemizer:words count mismatch on 100.0% of the lines (1/1)\n",
            "WARNING:phonemizer:words count mismatch on 100.0% of the lines (1/1)\n",
            "WARNING:phonemizer:words count mismatch on 100.0% of the lines (1/1)\n",
            "WARNING:phonemizer:words count mismatch on 100.0% of the lines (1/1)\n",
            "WARNING:phonemizer:words count mismatch on 100.0% of the lines (1/1)\n",
            "WARNING:phonemizer:words count mismatch on 100.0% of the lines (1/1)\n",
            "WARNING:phonemizer:words count mismatch on 100.0% of the lines (1/1)\n",
            "WARNING:phonemizer:words count mismatch on 100.0% of the lines (1/1)\n",
            "WARNING:phonemizer:words count mismatch on 100.0% of the lines (1/1)\n",
            "WARNING:phonemizer:words count mismatch on 100.0% of the lines (1/1)\n",
            "WARNING:phonemizer:words count mismatch on 100.0% of the lines (1/1)\n",
            "WARNING:phonemizer:words count mismatch on 100.0% of the lines (1/1)\n",
            "WARNING:phonemizer:words count mismatch on 100.0% of the lines (1/1)\n",
            "WARNING:phonemizer:words count mismatch on 100.0% of the lines (1/1)\n",
            "WARNING:phonemizer:words count mismatch on 100.0% of the lines (1/1)\n",
            "WARNING:phonemizer:words count mismatch on 100.0% of the lines (1/1)\n",
            "WARNING:phonemizer:words count mismatch on 100.0% of the lines (1/1)\n",
            "WARNING:phonemizer:words count mismatch on 100.0% of the lines (1/1)\n",
            "WARNING:phonemizer:words count mismatch on 100.0% of the lines (1/1)\n",
            "WARNING:phonemizer:words count mismatch on 100.0% of the lines (1/1)\n",
            "WARNING:phonemizer:words count mismatch on 100.0% of the lines (1/1)\n",
            "WARNING:phonemizer:words count mismatch on 100.0% of the lines (1/1)\n",
            "WARNING:phonemizer:words count mismatch on 100.0% of the lines (1/1)\n",
            "WARNING:phonemizer:words count mismatch on 100.0% of the lines (1/1)\n",
            "WARNING:phonemizer:words count mismatch on 100.0% of the lines (1/1)\n",
            "WARNING:phonemizer:words count mismatch on 100.0% of the lines (1/1)\n",
            "WARNING:phonemizer:words count mismatch on 100.0% of the lines (1/1)\n",
            "WARNING:phonemizer:words count mismatch on 100.0% of the lines (1/1)\n",
            "WARNING:phonemizer:words count mismatch on 100.0% of the lines (1/1)\n",
            "WARNING:phonemizer:words count mismatch on 100.0% of the lines (1/1)\n",
            "WARNING:phonemizer:words count mismatch on 100.0% of the lines (1/1)\n",
            "WARNING:phonemizer:words count mismatch on 100.0% of the lines (1/1)\n",
            "WARNING:phonemizer:words count mismatch on 100.0% of the lines (1/1)\n",
            "WARNING:phonemizer:words count mismatch on 100.0% of the lines (1/1)\n",
            "WARNING:phonemizer:words count mismatch on 100.0% of the lines (1/1)\n",
            "WARNING:phonemizer:words count mismatch on 100.0% of the lines (1/1)\n",
            "WARNING:phonemizer:words count mismatch on 100.0% of the lines (1/1)\n",
            "WARNING:phonemizer:words count mismatch on 100.0% of the lines (1/1)\n",
            "WARNING:phonemizer:words count mismatch on 100.0% of the lines (1/1)\n",
            "WARNING:phonemizer:words count mismatch on 100.0% of the lines (1/1)\n",
            "WARNING:phonemizer:words count mismatch on 100.0% of the lines (1/1)\n",
            "WARNING:phonemizer:words count mismatch on 100.0% of the lines (1/1)\n",
            "WARNING:phonemizer:words count mismatch on 100.0% of the lines (1/1)\n",
            "WARNING:phonemizer:words count mismatch on 100.0% of the lines (1/1)\n",
            "WARNING:phonemizer:words count mismatch on 100.0% of the lines (1/1)\n",
            "WARNING:phonemizer:words count mismatch on 100.0% of the lines (1/1)\n",
            "WARNING:phonemizer:words count mismatch on 100.0% of the lines (1/1)\n",
            "WARNING:phonemizer:words count mismatch on 100.0% of the lines (1/1)\n",
            "WARNING:phonemizer:words count mismatch on 100.0% of the lines (1/1)\n",
            "WARNING:phonemizer:words count mismatch on 100.0% of the lines (1/1)\n",
            "WARNING:phonemizer:words count mismatch on 100.0% of the lines (1/1)\n",
            "WARNING:phonemizer:words count mismatch on 100.0% of the lines (1/1)\n",
            "WARNING:phonemizer:words count mismatch on 100.0% of the lines (1/1)\n",
            "WARNING:phonemizer:words count mismatch on 100.0% of the lines (1/1)\n",
            "WARNING:phonemizer:words count mismatch on 100.0% of the lines (1/1)\n",
            "WARNING:phonemizer:words count mismatch on 100.0% of the lines (1/1)\n",
            "WARNING:phonemizer:words count mismatch on 100.0% of the lines (1/1)\n",
            "WARNING:phonemizer:words count mismatch on 100.0% of the lines (1/1)\n",
            "WARNING:phonemizer:words count mismatch on 100.0% of the lines (1/1)\n",
            "WARNING:phonemizer:words count mismatch on 100.0% of the lines (1/1)\n",
            "WARNING:phonemizer:words count mismatch on 100.0% of the lines (1/1)\n",
            "WARNING:phonemizer:words count mismatch on 100.0% of the lines (1/1)\n",
            "WARNING:phonemizer:words count mismatch on 100.0% of the lines (1/1)\n",
            "WARNING:phonemizer:words count mismatch on 100.0% of the lines (1/1)\n",
            "WARNING:phonemizer:words count mismatch on 100.0% of the lines (1/1)\n",
            "WARNING:phonemizer:words count mismatch on 100.0% of the lines (1/1)\n",
            "WARNING:phonemizer:words count mismatch on 100.0% of the lines (1/1)\n",
            "WARNING:phonemizer:words count mismatch on 100.0% of the lines (1/1)\n",
            "WARNING:phonemizer:words count mismatch on 100.0% of the lines (1/1)\n",
            "WARNING:phonemizer:words count mismatch on 100.0% of the lines (1/1)\n",
            "WARNING:phonemizer:words count mismatch on 100.0% of the lines (1/1)\n",
            "WARNING:phonemizer:words count mismatch on 100.0% of the lines (1/1)\n",
            "WARNING:phonemizer:words count mismatch on 100.0% of the lines (1/1)\n",
            "WARNING:phonemizer:words count mismatch on 100.0% of the lines (1/1)\n",
            "WARNING:phonemizer:words count mismatch on 100.0% of the lines (1/1)\n",
            "WARNING:phonemizer:words count mismatch on 100.0% of the lines (1/1)\n",
            "WARNING:phonemizer:words count mismatch on 100.0% of the lines (1/1)\n",
            "WARNING:phonemizer:words count mismatch on 100.0% of the lines (1/1)\n",
            "WARNING:phonemizer:words count mismatch on 100.0% of the lines (1/1)\n",
            "WARNING:phonemizer:words count mismatch on 100.0% of the lines (1/1)\n",
            "WARNING:phonemizer:words count mismatch on 100.0% of the lines (1/1)\n",
            "WARNING:phonemizer:words count mismatch on 100.0% of the lines (1/1)\n",
            "WARNING:phonemizer:words count mismatch on 100.0% of the lines (1/1)\n",
            "WARNING:phonemizer:words count mismatch on 100.0% of the lines (1/1)\n",
            "WARNING:phonemizer:words count mismatch on 100.0% of the lines (1/1)\n",
            "WARNING:phonemizer:words count mismatch on 100.0% of the lines (1/1)\n",
            "WARNING:phonemizer:words count mismatch on 100.0% of the lines (1/1)\n",
            "WARNING:phonemizer:words count mismatch on 100.0% of the lines (1/1)\n",
            "WARNING:phonemizer:words count mismatch on 100.0% of the lines (1/1)\n",
            "WARNING:phonemizer:words count mismatch on 100.0% of the lines (1/1)\n",
            "WARNING:phonemizer:words count mismatch on 100.0% of the lines (1/1)\n",
            "WARNING:phonemizer:words count mismatch on 100.0% of the lines (1/1)\n",
            "WARNING:phonemizer:words count mismatch on 100.0% of the lines (1/1)\n",
            "WARNING:phonemizer:words count mismatch on 100.0% of the lines (1/1)\n",
            "WARNING:phonemizer:words count mismatch on 100.0% of the lines (1/1)\n",
            "WARNING:phonemizer:words count mismatch on 100.0% of the lines (1/1)\n",
            "WARNING:phonemizer:words count mismatch on 100.0% of the lines (1/1)\n",
            "WARNING:phonemizer:words count mismatch on 100.0% of the lines (1/1)\n",
            "WARNING:phonemizer:words count mismatch on 100.0% of the lines (1/1)\n",
            "WARNING:phonemizer:words count mismatch on 100.0% of the lines (1/1)\n",
            "WARNING:phonemizer:words count mismatch on 100.0% of the lines (1/1)\n",
            "WARNING:phonemizer:words count mismatch on 100.0% of the lines (1/1)\n",
            "WARNING:phonemizer:words count mismatch on 100.0% of the lines (1/1)\n",
            "WARNING:phonemizer:words count mismatch on 100.0% of the lines (1/1)\n",
            "WARNING:phonemizer:words count mismatch on 100.0% of the lines (1/1)\n",
            "WARNING:phonemizer:words count mismatch on 100.0% of the lines (1/1)\n",
            "WARNING:phonemizer:words count mismatch on 100.0% of the lines (1/1)\n",
            "WARNING:phonemizer:words count mismatch on 100.0% of the lines (1/1)\n",
            "WARNING:phonemizer:words count mismatch on 100.0% of the lines (1/1)\n",
            "WARNING:phonemizer:words count mismatch on 100.0% of the lines (1/1)\n",
            "WARNING:phonemizer:words count mismatch on 100.0% of the lines (1/1)\n",
            "WARNING:phonemizer:words count mismatch on 100.0% of the lines (1/1)\n",
            "WARNING:phonemizer:words count mismatch on 100.0% of the lines (1/1)\n",
            "WARNING:phonemizer:words count mismatch on 100.0% of the lines (1/1)\n",
            "WARNING:phonemizer:words count mismatch on 100.0% of the lines (1/1)\n",
            "WARNING:phonemizer:words count mismatch on 100.0% of the lines (1/1)\n",
            "WARNING:phonemizer:words count mismatch on 100.0% of the lines (1/1)\n",
            "WARNING:phonemizer:words count mismatch on 100.0% of the lines (1/1)\n",
            "WARNING:phonemizer:words count mismatch on 100.0% of the lines (1/1)\n",
            "WARNING:phonemizer:words count mismatch on 100.0% of the lines (1/1)\n",
            "WARNING:phonemizer:words count mismatch on 100.0% of the lines (1/1)\n",
            "WARNING:phonemizer:words count mismatch on 100.0% of the lines (1/1)\n",
            "WARNING:phonemizer:words count mismatch on 100.0% of the lines (1/1)\n",
            "WARNING:phonemizer:words count mismatch on 100.0% of the lines (1/1)\n",
            "WARNING:phonemizer:words count mismatch on 100.0% of the lines (1/1)\n",
            "WARNING:phonemizer:words count mismatch on 100.0% of the lines (1/1)\n",
            "WARNING:phonemizer:words count mismatch on 100.0% of the lines (1/1)\n",
            "WARNING:phonemizer:words count mismatch on 100.0% of the lines (1/1)\n",
            "WARNING:phonemizer:words count mismatch on 100.0% of the lines (1/1)\n",
            "WARNING:phonemizer:words count mismatch on 100.0% of the lines (1/1)\n",
            "WARNING:phonemizer:words count mismatch on 100.0% of the lines (1/1)\n",
            "WARNING:phonemizer:words count mismatch on 100.0% of the lines (1/1)\n",
            "WARNING:phonemizer:words count mismatch on 100.0% of the lines (1/1)\n",
            "WARNING:phonemizer:words count mismatch on 100.0% of the lines (1/1)\n",
            "WARNING:phonemizer:words count mismatch on 100.0% of the lines (1/1)\n",
            "WARNING:phonemizer:words count mismatch on 100.0% of the lines (1/1)\n",
            "WARNING:phonemizer:words count mismatch on 100.0% of the lines (1/1)\n",
            "WARNING:phonemizer:words count mismatch on 100.0% of the lines (1/1)\n",
            "WARNING:phonemizer:words count mismatch on 100.0% of the lines (1/1)\n",
            "WARNING:phonemizer:words count mismatch on 100.0% of the lines (1/1)\n",
            "WARNING:phonemizer:words count mismatch on 100.0% of the lines (1/1)\n",
            "WARNING:phonemizer:words count mismatch on 100.0% of the lines (1/1)\n",
            "WARNING:phonemizer:words count mismatch on 100.0% of the lines (1/1)\n",
            "WARNING:phonemizer:words count mismatch on 100.0% of the lines (1/1)\n",
            "WARNING:phonemizer:words count mismatch on 100.0% of the lines (1/1)\n",
            "WARNING:phonemizer:words count mismatch on 100.0% of the lines (1/1)\n",
            "WARNING:phonemizer:words count mismatch on 100.0% of the lines (1/1)\n",
            "WARNING:phonemizer:words count mismatch on 100.0% of the lines (1/1)\n",
            "WARNING:phonemizer:words count mismatch on 100.0% of the lines (1/1)\n",
            "WARNING:phonemizer:words count mismatch on 100.0% of the lines (1/1)\n",
            "WARNING:phonemizer:words count mismatch on 100.0% of the lines (1/1)\n",
            "WARNING:phonemizer:words count mismatch on 100.0% of the lines (1/1)\n",
            "WARNING:phonemizer:words count mismatch on 100.0% of the lines (1/1)\n",
            "WARNING:phonemizer:words count mismatch on 100.0% of the lines (1/1)\n",
            "WARNING:phonemizer:words count mismatch on 100.0% of the lines (1/1)\n",
            "WARNING:phonemizer:words count mismatch on 100.0% of the lines (1/1)\n",
            "WARNING:phonemizer:words count mismatch on 100.0% of the lines (1/1)\n",
            "WARNING:phonemizer:words count mismatch on 100.0% of the lines (1/1)\n",
            "WARNING:phonemizer:words count mismatch on 100.0% of the lines (1/1)\n",
            "WARNING:phonemizer:words count mismatch on 100.0% of the lines (1/1)\n",
            "WARNING:phonemizer:words count mismatch on 100.0% of the lines (1/1)\n",
            "WARNING:phonemizer:words count mismatch on 100.0% of the lines (1/1)\n",
            "WARNING:phonemizer:words count mismatch on 100.0% of the lines (1/1)\n",
            "WARNING:phonemizer:words count mismatch on 100.0% of the lines (1/1)\n",
            "WARNING:phonemizer:words count mismatch on 100.0% of the lines (1/1)\n",
            "WARNING:phonemizer:words count mismatch on 100.0% of the lines (1/1)\n",
            "WARNING:phonemizer:words count mismatch on 100.0% of the lines (1/1)\n",
            "WARNING:phonemizer:words count mismatch on 100.0% of the lines (1/1)\n",
            "WARNING:phonemizer:words count mismatch on 100.0% of the lines (1/1)\n",
            "WARNING:phonemizer:words count mismatch on 100.0% of the lines (1/1)\n",
            "WARNING:phonemizer:words count mismatch on 100.0% of the lines (1/1)\n",
            "WARNING:phonemizer:words count mismatch on 100.0% of the lines (1/1)\n",
            "WARNING:phonemizer:words count mismatch on 100.0% of the lines (1/1)\n",
            "WARNING:phonemizer:words count mismatch on 100.0% of the lines (1/1)\n",
            "WARNING:phonemizer:words count mismatch on 100.0% of the lines (1/1)\n",
            "WARNING:phonemizer:words count mismatch on 100.0% of the lines (1/1)\n",
            "WARNING:phonemizer:words count mismatch on 100.0% of the lines (1/1)\n",
            "WARNING:phonemizer:words count mismatch on 100.0% of the lines (1/1)\n",
            "WARNING:phonemizer:words count mismatch on 100.0% of the lines (1/1)\n",
            "WARNING:phonemizer:words count mismatch on 100.0% of the lines (1/1)\n",
            "WARNING:phonemizer:words count mismatch on 100.0% of the lines (1/1)\n",
            "WARNING:phonemizer:words count mismatch on 100.0% of the lines (1/1)\n",
            "WARNING:phonemizer:words count mismatch on 100.0% of the lines (1/1)\n",
            "WARNING:phonemizer:words count mismatch on 100.0% of the lines (1/1)\n",
            "WARNING:phonemizer:words count mismatch on 100.0% of the lines (1/1)\n",
            "WARNING:phonemizer:words count mismatch on 100.0% of the lines (1/1)\n",
            "WARNING:phonemizer:words count mismatch on 100.0% of the lines (1/1)\n",
            "WARNING:phonemizer:words count mismatch on 100.0% of the lines (1/1)\n",
            "WARNING:phonemizer:words count mismatch on 100.0% of the lines (1/1)\n",
            "WARNING:phonemizer:words count mismatch on 100.0% of the lines (1/1)\n",
            "WARNING:phonemizer:words count mismatch on 100.0% of the lines (1/1)\n",
            "WARNING:phonemizer:words count mismatch on 100.0% of the lines (1/1)\n",
            "WARNING:phonemizer:words count mismatch on 100.0% of the lines (1/1)\n",
            "WARNING:phonemizer:words count mismatch on 100.0% of the lines (1/1)\n",
            "WARNING:phonemizer:words count mismatch on 100.0% of the lines (1/1)\n",
            "WARNING:phonemizer:words count mismatch on 100.0% of the lines (1/1)\n",
            "WARNING:phonemizer:words count mismatch on 100.0% of the lines (1/1)\n",
            "WARNING:phonemizer:words count mismatch on 100.0% of the lines (1/1)\n",
            "WARNING:phonemizer:words count mismatch on 100.0% of the lines (1/1)\n",
            "WARNING:phonemizer:words count mismatch on 100.0% of the lines (1/1)\n",
            "WARNING:phonemizer:words count mismatch on 100.0% of the lines (1/1)\n",
            "WARNING:phonemizer:words count mismatch on 100.0% of the lines (1/1)\n",
            "WARNING:phonemizer:words count mismatch on 100.0% of the lines (1/1)\n",
            "WARNING:phonemizer:words count mismatch on 100.0% of the lines (1/1)\n",
            "WARNING:phonemizer:words count mismatch on 100.0% of the lines (1/1)\n",
            "WARNING:phonemizer:words count mismatch on 100.0% of the lines (1/1)\n",
            "WARNING:phonemizer:words count mismatch on 100.0% of the lines (1/1)\n",
            "WARNING:phonemizer:words count mismatch on 100.0% of the lines (1/1)\n",
            "WARNING:phonemizer:words count mismatch on 100.0% of the lines (1/1)\n",
            "WARNING:phonemizer:words count mismatch on 100.0% of the lines (1/1)\n",
            "WARNING:phonemizer:words count mismatch on 100.0% of the lines (1/1)\n",
            "WARNING:phonemizer:words count mismatch on 100.0% of the lines (1/1)\n",
            "WARNING:phonemizer:words count mismatch on 100.0% of the lines (1/1)\n",
            "WARNING:phonemizer:words count mismatch on 100.0% of the lines (1/1)\n",
            "WARNING:phonemizer:words count mismatch on 100.0% of the lines (1/1)\n",
            "WARNING:phonemizer:words count mismatch on 100.0% of the lines (1/1)\n",
            "WARNING:phonemizer:words count mismatch on 100.0% of the lines (1/1)\n",
            "WARNING:phonemizer:words count mismatch on 100.0% of the lines (1/1)\n",
            "WARNING:phonemizer:words count mismatch on 100.0% of the lines (1/1)\n",
            "WARNING:phonemizer:words count mismatch on 100.0% of the lines (1/1)\n",
            "WARNING:phonemizer:words count mismatch on 100.0% of the lines (1/1)\n",
            "WARNING:phonemizer:words count mismatch on 100.0% of the lines (1/1)\n",
            "WARNING:phonemizer:words count mismatch on 100.0% of the lines (1/1)\n",
            "WARNING:phonemizer:words count mismatch on 100.0% of the lines (1/1)\n",
            "WARNING:phonemizer:words count mismatch on 100.0% of the lines (1/1)\n",
            "WARNING:phonemizer:words count mismatch on 100.0% of the lines (1/1)\n",
            "WARNING:phonemizer:words count mismatch on 100.0% of the lines (1/1)\n",
            "WARNING:phonemizer:words count mismatch on 100.0% of the lines (1/1)\n",
            "WARNING:phonemizer:words count mismatch on 100.0% of the lines (1/1)\n",
            "WARNING:phonemizer:words count mismatch on 100.0% of the lines (1/1)\n",
            "WARNING:phonemizer:words count mismatch on 100.0% of the lines (1/1)\n",
            "WARNING:phonemizer:words count mismatch on 100.0% of the lines (1/1)\n",
            "WARNING:phonemizer:words count mismatch on 100.0% of the lines (1/1)\n",
            "WARNING:phonemizer:words count mismatch on 100.0% of the lines (1/1)\n",
            "WARNING:phonemizer:words count mismatch on 100.0% of the lines (1/1)\n",
            "WARNING:phonemizer:words count mismatch on 100.0% of the lines (1/1)\n",
            "WARNING:phonemizer:words count mismatch on 100.0% of the lines (1/1)\n",
            "WARNING:phonemizer:words count mismatch on 100.0% of the lines (1/1)\n",
            "WARNING:phonemizer:words count mismatch on 100.0% of the lines (1/1)\n",
            "WARNING:phonemizer:words count mismatch on 100.0% of the lines (1/1)\n",
            "START: filelists/val_filelist.txt\n",
            "WARNING:phonemizer:words count mismatch on 100.0% of the lines (1/1)\n",
            "WARNING:phonemizer:words count mismatch on 100.0% of the lines (1/1)\n",
            "WARNING:phonemizer:words count mismatch on 100.0% of the lines (1/1)\n",
            "WARNING:phonemizer:words count mismatch on 100.0% of the lines (1/1)\n",
            "WARNING:phonemizer:words count mismatch on 100.0% of the lines (1/1)\n",
            "WARNING:phonemizer:words count mismatch on 100.0% of the lines (1/1)\n",
            "WARNING:phonemizer:words count mismatch on 100.0% of the lines (1/1)\n",
            "WARNING:phonemizer:words count mismatch on 100.0% of the lines (1/1)\n",
            "WARNING:phonemizer:words count mismatch on 100.0% of the lines (1/1)\n",
            "WARNING:phonemizer:words count mismatch on 100.0% of the lines (1/1)\n",
            "WARNING:phonemizer:words count mismatch on 100.0% of the lines (1/1)\n",
            "WARNING:phonemizer:words count mismatch on 100.0% of the lines (1/1)\n",
            "WARNING:phonemizer:words count mismatch on 100.0% of the lines (1/1)\n",
            "WARNING:phonemizer:words count mismatch on 100.0% of the lines (1/1)\n",
            "WARNING:phonemizer:words count mismatch on 100.0% of the lines (1/1)\n",
            "WARNING:phonemizer:words count mismatch on 100.0% of the lines (1/1)\n",
            "WARNING:phonemizer:words count mismatch on 100.0% of the lines (1/1)\n",
            "WARNING:phonemizer:words count mismatch on 100.0% of the lines (1/1)\n",
            "WARNING:phonemizer:words count mismatch on 100.0% of the lines (1/1)\n",
            "WARNING:phonemizer:words count mismatch on 100.0% of the lines (1/1)\n",
            "WARNING:phonemizer:words count mismatch on 100.0% of the lines (1/1)\n",
            "WARNING:phonemizer:words count mismatch on 100.0% of the lines (1/1)\n",
            "WARNING:phonemizer:words count mismatch on 100.0% of the lines (1/1)\n",
            "WARNING:phonemizer:words count mismatch on 100.0% of the lines (1/1)\n",
            "WARNING:phonemizer:words count mismatch on 100.0% of the lines (1/1)\n",
            "WARNING:phonemizer:words count mismatch on 100.0% of the lines (1/1)\n",
            "WARNING:phonemizer:words count mismatch on 100.0% of the lines (1/1)\n",
            "WARNING:phonemizer:words count mismatch on 100.0% of the lines (1/1)\n",
            "WARNING:phonemizer:words count mismatch on 100.0% of the lines (1/1)\n",
            "WARNING:phonemizer:words count mismatch on 100.0% of the lines (1/1)\n",
            "WARNING:phonemizer:words count mismatch on 100.0% of the lines (1/1)\n",
            "WARNING:phonemizer:words count mismatch on 100.0% of the lines (1/1)\n",
            "WARNING:phonemizer:words count mismatch on 100.0% of the lines (1/1)\n",
            "WARNING:phonemizer:words count mismatch on 100.0% of the lines (1/1)\n",
            "WARNING:phonemizer:words count mismatch on 100.0% of the lines (1/1)\n",
            "WARNING:phonemizer:words count mismatch on 100.0% of the lines (1/1)\n",
            "WARNING:phonemizer:words count mismatch on 100.0% of the lines (1/1)\n",
            "WARNING:phonemizer:words count mismatch on 100.0% of the lines (1/1)\n",
            "START: filelists/test_filelist.txt\n",
            "WARNING:phonemizer:words count mismatch on 100.0% of the lines (1/1)\n",
            "WARNING:phonemizer:words count mismatch on 100.0% of the lines (1/1)\n",
            "WARNING:phonemizer:words count mismatch on 100.0% of the lines (1/1)\n",
            "WARNING:phonemizer:words count mismatch on 100.0% of the lines (1/1)\n",
            "WARNING:phonemizer:words count mismatch on 100.0% of the lines (1/1)\n",
            "WARNING:phonemizer:words count mismatch on 100.0% of the lines (1/1)\n",
            "WARNING:phonemizer:words count mismatch on 100.0% of the lines (1/1)\n",
            "WARNING:phonemizer:words count mismatch on 100.0% of the lines (1/1)\n",
            "WARNING:phonemizer:words count mismatch on 100.0% of the lines (1/1)\n",
            "WARNING:phonemizer:words count mismatch on 100.0% of the lines (1/1)\n",
            "WARNING:phonemizer:words count mismatch on 100.0% of the lines (1/1)\n",
            "WARNING:phonemizer:words count mismatch on 100.0% of the lines (1/1)\n",
            "WARNING:phonemizer:words count mismatch on 100.0% of the lines (1/1)\n",
            "WARNING:phonemizer:words count mismatch on 100.0% of the lines (1/1)\n",
            "WARNING:phonemizer:words count mismatch on 100.0% of the lines (1/1)\n",
            "WARNING:phonemizer:words count mismatch on 100.0% of the lines (1/1)\n",
            "WARNING:phonemizer:words count mismatch on 100.0% of the lines (1/1)\n",
            "WARNING:phonemizer:words count mismatch on 100.0% of the lines (1/1)\n",
            "WARNING:phonemizer:words count mismatch on 100.0% of the lines (1/1)\n",
            "WARNING:phonemizer:words count mismatch on 100.0% of the lines (1/1)\n",
            "WARNING:phonemizer:words count mismatch on 100.0% of the lines (1/1)\n",
            "WARNING:phonemizer:words count mismatch on 100.0% of the lines (1/1)\n",
            "WARNING:phonemizer:words count mismatch on 100.0% of the lines (1/1)\n",
            "WARNING:phonemizer:words count mismatch on 100.0% of the lines (1/1)\n",
            "WARNING:phonemizer:words count mismatch on 100.0% of the lines (1/1)\n",
            "WARNING:phonemizer:words count mismatch on 100.0% of the lines (1/1)\n",
            "WARNING:phonemizer:words count mismatch on 100.0% of the lines (1/1)\n",
            "WARNING:phonemizer:words count mismatch on 100.0% of the lines (1/1)\n",
            "WARNING:phonemizer:words count mismatch on 100.0% of the lines (1/1)\n",
            "WARNING:phonemizer:words count mismatch on 100.0% of the lines (1/1)\n",
            "WARNING:phonemizer:words count mismatch on 100.0% of the lines (1/1)\n",
            "WARNING:phonemizer:words count mismatch on 100.0% of the lines (1/1)\n",
            "WARNING:phonemizer:words count mismatch on 100.0% of the lines (1/1)\n",
            "WARNING:phonemizer:words count mismatch on 100.0% of the lines (1/1)\n",
            "WARNING:phonemizer:words count mismatch on 100.0% of the lines (1/1)\n",
            "WARNING:phonemizer:words count mismatch on 100.0% of the lines (1/1)\n",
            "WARNING:phonemizer:words count mismatch on 100.0% of the lines (1/1)\n",
            "WARNING:phonemizer:words count mismatch on 100.0% of the lines (1/1)\n",
            "WARNING:phonemizer:words count mismatch on 100.0% of the lines (1/1)\n"
          ]
        }
      ]
    },
    {
      "cell_type": "code",
      "source": [
        "!python train.py -c configs/ljs_base.json -m ljs_base\n"
      ],
      "metadata": {
        "colab": {
          "base_uri": "https://localhost:8080/"
        },
        "id": "qlUG0KjVwyl3",
        "outputId": "288b87cd-5668-44c5-d598-536d5b9e984b"
      },
      "execution_count": null,
      "outputs": [
        {
          "output_type": "stream",
          "name": "stdout",
          "text": [
            "2024-11-05 20:00:51.475308: E external/local_xla/xla/stream_executor/cuda/cuda_fft.cc:485] Unable to register cuFFT factory: Attempting to register factory for plugin cuFFT when one has already been registered\n",
            "2024-11-05 20:00:51.515530: E external/local_xla/xla/stream_executor/cuda/cuda_dnn.cc:8454] Unable to register cuDNN factory: Attempting to register factory for plugin cuDNN when one has already been registered\n",
            "2024-11-05 20:00:51.527477: E external/local_xla/xla/stream_executor/cuda/cuda_blas.cc:1452] Unable to register cuBLAS factory: Attempting to register factory for plugin cuBLAS when one has already been registered\n",
            "2024-11-05 20:00:51.553984: I tensorflow/core/platform/cpu_feature_guard.cc:210] This TensorFlow binary is optimized to use available CPU instructions in performance-critical operations.\n",
            "To enable the following instructions: AVX2 FMA, in other operations, rebuild TensorFlow with the appropriate compiler flags.\n",
            "2024-11-05 20:00:53.476609: W tensorflow/compiler/tf2tensorrt/utils/py_utils.cc:38] TF-TRT Warning: Could not find TensorRT\n",
            "DEBUG:numba.core.byteflow:bytecode dump:\n",
            ">          0\tNOP(arg=None, lineno=1039)\n",
            "           2\tLOAD_FAST(arg=0, lineno=1042)\n",
            "           4\tLOAD_CONST(arg=1, lineno=1042)\n",
            "           6\tBINARY_SUBSCR(arg=None, lineno=1042)\n",
            "           8\tLOAD_FAST(arg=0, lineno=1042)\n",
            "          10\tLOAD_CONST(arg=2, lineno=1042)\n",
            "          12\tBINARY_SUBSCR(arg=None, lineno=1042)\n",
            "          14\tCOMPARE_OP(arg=4, lineno=1042)\n",
            "          16\tLOAD_FAST(arg=0, lineno=1042)\n",
            "          18\tLOAD_CONST(arg=1, lineno=1042)\n",
            "          20\tBINARY_SUBSCR(arg=None, lineno=1042)\n",
            "          22\tLOAD_FAST(arg=0, lineno=1042)\n",
            "          24\tLOAD_CONST(arg=3, lineno=1042)\n",
            "          26\tBINARY_SUBSCR(arg=None, lineno=1042)\n",
            "          28\tCOMPARE_OP(arg=5, lineno=1042)\n",
            "          30\tBINARY_AND(arg=None, lineno=1042)\n",
            "          32\tRETURN_VALUE(arg=None, lineno=1042)\n",
            "DEBUG:numba.core.byteflow:pending: deque([State(pc_initial=0 nstack_initial=0)])\n",
            "DEBUG:numba.core.byteflow:stack: []\n",
            "DEBUG:numba.core.byteflow:state.pc_initial: State(pc_initial=0 nstack_initial=0)\n",
            "DEBUG:numba.core.byteflow:dispatch pc=0, inst=NOP(arg=None, lineno=1039)\n",
            "DEBUG:numba.core.byteflow:stack []\n",
            "DEBUG:numba.core.byteflow:dispatch pc=2, inst=LOAD_FAST(arg=0, lineno=1042)\n",
            "DEBUG:numba.core.byteflow:stack []\n",
            "DEBUG:numba.core.byteflow:dispatch pc=4, inst=LOAD_CONST(arg=1, lineno=1042)\n",
            "DEBUG:numba.core.byteflow:stack ['$x2.0']\n",
            "DEBUG:numba.core.byteflow:dispatch pc=6, inst=BINARY_SUBSCR(arg=None, lineno=1042)\n",
            "DEBUG:numba.core.byteflow:stack ['$x2.0', '$const4.1']\n",
            "DEBUG:numba.core.byteflow:dispatch pc=8, inst=LOAD_FAST(arg=0, lineno=1042)\n",
            "DEBUG:numba.core.byteflow:stack ['$6binary_subscr.2']\n",
            "DEBUG:numba.core.byteflow:dispatch pc=10, inst=LOAD_CONST(arg=2, lineno=1042)\n",
            "DEBUG:numba.core.byteflow:stack ['$6binary_subscr.2', '$x8.3']\n",
            "DEBUG:numba.core.byteflow:dispatch pc=12, inst=BINARY_SUBSCR(arg=None, lineno=1042)\n",
            "DEBUG:numba.core.byteflow:stack ['$6binary_subscr.2', '$x8.3', '$const10.4']\n",
            "DEBUG:numba.core.byteflow:dispatch pc=14, inst=COMPARE_OP(arg=4, lineno=1042)\n",
            "DEBUG:numba.core.byteflow:stack ['$6binary_subscr.2', '$12binary_subscr.5']\n",
            "DEBUG:numba.core.byteflow:dispatch pc=16, inst=LOAD_FAST(arg=0, lineno=1042)\n",
            "DEBUG:numba.core.byteflow:stack ['$14compare_op.6']\n",
            "DEBUG:numba.core.byteflow:dispatch pc=18, inst=LOAD_CONST(arg=1, lineno=1042)\n",
            "DEBUG:numba.core.byteflow:stack ['$14compare_op.6', '$x16.7']\n",
            "DEBUG:numba.core.byteflow:dispatch pc=20, inst=BINARY_SUBSCR(arg=None, lineno=1042)\n",
            "DEBUG:numba.core.byteflow:stack ['$14compare_op.6', '$x16.7', '$const18.8']\n",
            "DEBUG:numba.core.byteflow:dispatch pc=22, inst=LOAD_FAST(arg=0, lineno=1042)\n",
            "DEBUG:numba.core.byteflow:stack ['$14compare_op.6', '$20binary_subscr.9']\n",
            "DEBUG:numba.core.byteflow:dispatch pc=24, inst=LOAD_CONST(arg=3, lineno=1042)\n",
            "DEBUG:numba.core.byteflow:stack ['$14compare_op.6', '$20binary_subscr.9', '$x22.10']\n",
            "DEBUG:numba.core.byteflow:dispatch pc=26, inst=BINARY_SUBSCR(arg=None, lineno=1042)\n",
            "DEBUG:numba.core.byteflow:stack ['$14compare_op.6', '$20binary_subscr.9', '$x22.10', '$const24.11']\n",
            "DEBUG:numba.core.byteflow:dispatch pc=28, inst=COMPARE_OP(arg=5, lineno=1042)\n",
            "DEBUG:numba.core.byteflow:stack ['$14compare_op.6', '$20binary_subscr.9', '$26binary_subscr.12']\n",
            "DEBUG:numba.core.byteflow:dispatch pc=30, inst=BINARY_AND(arg=None, lineno=1042)\n",
            "DEBUG:numba.core.byteflow:stack ['$14compare_op.6', '$28compare_op.13']\n",
            "DEBUG:numba.core.byteflow:dispatch pc=32, inst=RETURN_VALUE(arg=None, lineno=1042)\n",
            "DEBUG:numba.core.byteflow:stack ['$30binary_and.14']\n",
            "DEBUG:numba.core.byteflow:end state. edges=[]\n",
            "DEBUG:numba.core.byteflow:-------------------------Prune PHIs-------------------------\n",
            "DEBUG:numba.core.byteflow:Used_phis: defaultdict(<class 'set'>, {State(pc_initial=0 nstack_initial=0): set()})\n",
            "DEBUG:numba.core.byteflow:defmap: {}\n",
            "DEBUG:numba.core.byteflow:phismap: defaultdict(<class 'set'>, {})\n",
            "DEBUG:numba.core.byteflow:changing phismap: defaultdict(<class 'set'>, {})\n",
            "DEBUG:numba.core.byteflow:keep phismap: {}\n",
            "DEBUG:numba.core.byteflow:new_out: defaultdict(<class 'dict'>, {})\n",
            "DEBUG:numba.core.byteflow:----------------------DONE Prune PHIs-----------------------\n",
            "DEBUG:numba.core.byteflow:block_infos State(pc_initial=0 nstack_initial=0):\n",
            "AdaptBlockInfo(insts=((0, {}), (2, {'res': '$x2.0'}), (4, {'res': '$const4.1'}), (6, {'index': '$const4.1', 'target': '$x2.0', 'res': '$6binary_subscr.2'}), (8, {'res': '$x8.3'}), (10, {'res': '$const10.4'}), (12, {'index': '$const10.4', 'target': '$x8.3', 'res': '$12binary_subscr.5'}), (14, {'lhs': '$6binary_subscr.2', 'rhs': '$12binary_subscr.5', 'res': '$14compare_op.6'}), (16, {'res': '$x16.7'}), (18, {'res': '$const18.8'}), (20, {'index': '$const18.8', 'target': '$x16.7', 'res': '$20binary_subscr.9'}), (22, {'res': '$x22.10'}), (24, {'res': '$const24.11'}), (26, {'index': '$const24.11', 'target': '$x22.10', 'res': '$26binary_subscr.12'}), (28, {'lhs': '$20binary_subscr.9', 'rhs': '$26binary_subscr.12', 'res': '$28compare_op.13'}), (30, {'lhs': '$14compare_op.6', 'rhs': '$28compare_op.13', 'res': '$30binary_and.14'}), (32, {'retval': '$30binary_and.14', 'castval': '$32return_value.15'})), outgoing_phis={}, blockstack=(), active_try_block=None, outgoing_edgepushed={})\n",
            "DEBUG:numba.core.interpreter:label 0:\n",
            "    x = arg(0, name=x)                       ['x']\n",
            "    $const4.1 = const(int, 0)                ['$const4.1']\n",
            "    $6binary_subscr.2 = getitem(value=x, index=$const4.1, fn=<built-in function getitem>) ['$6binary_subscr.2', '$const4.1', 'x']\n",
            "    $const10.4 = const(int, -1)              ['$const10.4']\n",
            "    $12binary_subscr.5 = getitem(value=x, index=$const10.4, fn=<built-in function getitem>) ['$12binary_subscr.5', '$const10.4', 'x']\n",
            "    $14compare_op.6 = $6binary_subscr.2 > $12binary_subscr.5 ['$12binary_subscr.5', '$14compare_op.6', '$6binary_subscr.2']\n",
            "    $const18.8 = const(int, 0)               ['$const18.8']\n",
            "    $20binary_subscr.9 = getitem(value=x, index=$const18.8, fn=<built-in function getitem>) ['$20binary_subscr.9', '$const18.8', 'x']\n",
            "    $const24.11 = const(int, 1)              ['$const24.11']\n",
            "    $26binary_subscr.12 = getitem(value=x, index=$const24.11, fn=<built-in function getitem>) ['$26binary_subscr.12', '$const24.11', 'x']\n",
            "    $28compare_op.13 = $20binary_subscr.9 >= $26binary_subscr.12 ['$20binary_subscr.9', '$26binary_subscr.12', '$28compare_op.13']\n",
            "    $30binary_and.14 = $14compare_op.6 & $28compare_op.13 ['$14compare_op.6', '$28compare_op.13', '$30binary_and.14']\n",
            "    $32return_value.15 = cast(value=$30binary_and.14) ['$30binary_and.14', '$32return_value.15']\n",
            "    return $32return_value.15                ['$32return_value.15']\n",
            "\n",
            "DEBUG:numba.core.byteflow:bytecode dump:\n",
            ">          0\tNOP(arg=None, lineno=1045)\n",
            "           2\tLOAD_FAST(arg=0, lineno=1048)\n",
            "           4\tLOAD_CONST(arg=1, lineno=1048)\n",
            "           6\tBINARY_SUBSCR(arg=None, lineno=1048)\n",
            "           8\tLOAD_FAST(arg=0, lineno=1048)\n",
            "          10\tLOAD_CONST(arg=2, lineno=1048)\n",
            "          12\tBINARY_SUBSCR(arg=None, lineno=1048)\n",
            "          14\tCOMPARE_OP(arg=0, lineno=1048)\n",
            "          16\tLOAD_FAST(arg=0, lineno=1048)\n",
            "          18\tLOAD_CONST(arg=1, lineno=1048)\n",
            "          20\tBINARY_SUBSCR(arg=None, lineno=1048)\n",
            "          22\tLOAD_FAST(arg=0, lineno=1048)\n",
            "          24\tLOAD_CONST(arg=3, lineno=1048)\n",
            "          26\tBINARY_SUBSCR(arg=None, lineno=1048)\n",
            "          28\tCOMPARE_OP(arg=1, lineno=1048)\n",
            "          30\tBINARY_AND(arg=None, lineno=1048)\n",
            "          32\tRETURN_VALUE(arg=None, lineno=1048)\n",
            "DEBUG:numba.core.byteflow:pending: deque([State(pc_initial=0 nstack_initial=0)])\n",
            "DEBUG:numba.core.byteflow:stack: []\n",
            "DEBUG:numba.core.byteflow:state.pc_initial: State(pc_initial=0 nstack_initial=0)\n",
            "DEBUG:numba.core.byteflow:dispatch pc=0, inst=NOP(arg=None, lineno=1045)\n",
            "DEBUG:numba.core.byteflow:stack []\n",
            "DEBUG:numba.core.byteflow:dispatch pc=2, inst=LOAD_FAST(arg=0, lineno=1048)\n",
            "DEBUG:numba.core.byteflow:stack []\n",
            "DEBUG:numba.core.byteflow:dispatch pc=4, inst=LOAD_CONST(arg=1, lineno=1048)\n",
            "DEBUG:numba.core.byteflow:stack ['$x2.0']\n",
            "DEBUG:numba.core.byteflow:dispatch pc=6, inst=BINARY_SUBSCR(arg=None, lineno=1048)\n",
            "DEBUG:numba.core.byteflow:stack ['$x2.0', '$const4.1']\n",
            "DEBUG:numba.core.byteflow:dispatch pc=8, inst=LOAD_FAST(arg=0, lineno=1048)\n",
            "DEBUG:numba.core.byteflow:stack ['$6binary_subscr.2']\n",
            "DEBUG:numba.core.byteflow:dispatch pc=10, inst=LOAD_CONST(arg=2, lineno=1048)\n",
            "DEBUG:numba.core.byteflow:stack ['$6binary_subscr.2', '$x8.3']\n",
            "DEBUG:numba.core.byteflow:dispatch pc=12, inst=BINARY_SUBSCR(arg=None, lineno=1048)\n",
            "DEBUG:numba.core.byteflow:stack ['$6binary_subscr.2', '$x8.3', '$const10.4']\n",
            "DEBUG:numba.core.byteflow:dispatch pc=14, inst=COMPARE_OP(arg=0, lineno=1048)\n",
            "DEBUG:numba.core.byteflow:stack ['$6binary_subscr.2', '$12binary_subscr.5']\n",
            "DEBUG:numba.core.byteflow:dispatch pc=16, inst=LOAD_FAST(arg=0, lineno=1048)\n",
            "DEBUG:numba.core.byteflow:stack ['$14compare_op.6']\n",
            "DEBUG:numba.core.byteflow:dispatch pc=18, inst=LOAD_CONST(arg=1, lineno=1048)\n",
            "DEBUG:numba.core.byteflow:stack ['$14compare_op.6', '$x16.7']\n",
            "DEBUG:numba.core.byteflow:dispatch pc=20, inst=BINARY_SUBSCR(arg=None, lineno=1048)\n",
            "DEBUG:numba.core.byteflow:stack ['$14compare_op.6', '$x16.7', '$const18.8']\n",
            "DEBUG:numba.core.byteflow:dispatch pc=22, inst=LOAD_FAST(arg=0, lineno=1048)\n",
            "DEBUG:numba.core.byteflow:stack ['$14compare_op.6', '$20binary_subscr.9']\n",
            "DEBUG:numba.core.byteflow:dispatch pc=24, inst=LOAD_CONST(arg=3, lineno=1048)\n",
            "DEBUG:numba.core.byteflow:stack ['$14compare_op.6', '$20binary_subscr.9', '$x22.10']\n",
            "DEBUG:numba.core.byteflow:dispatch pc=26, inst=BINARY_SUBSCR(arg=None, lineno=1048)\n",
            "DEBUG:numba.core.byteflow:stack ['$14compare_op.6', '$20binary_subscr.9', '$x22.10', '$const24.11']\n",
            "DEBUG:numba.core.byteflow:dispatch pc=28, inst=COMPARE_OP(arg=1, lineno=1048)\n",
            "DEBUG:numba.core.byteflow:stack ['$14compare_op.6', '$20binary_subscr.9', '$26binary_subscr.12']\n",
            "DEBUG:numba.core.byteflow:dispatch pc=30, inst=BINARY_AND(arg=None, lineno=1048)\n",
            "DEBUG:numba.core.byteflow:stack ['$14compare_op.6', '$28compare_op.13']\n",
            "DEBUG:numba.core.byteflow:dispatch pc=32, inst=RETURN_VALUE(arg=None, lineno=1048)\n",
            "DEBUG:numba.core.byteflow:stack ['$30binary_and.14']\n",
            "DEBUG:numba.core.byteflow:end state. edges=[]\n",
            "DEBUG:numba.core.byteflow:-------------------------Prune PHIs-------------------------\n",
            "DEBUG:numba.core.byteflow:Used_phis: defaultdict(<class 'set'>, {State(pc_initial=0 nstack_initial=0): set()})\n",
            "DEBUG:numba.core.byteflow:defmap: {}\n",
            "DEBUG:numba.core.byteflow:phismap: defaultdict(<class 'set'>, {})\n",
            "DEBUG:numba.core.byteflow:changing phismap: defaultdict(<class 'set'>, {})\n",
            "DEBUG:numba.core.byteflow:keep phismap: {}\n",
            "DEBUG:numba.core.byteflow:new_out: defaultdict(<class 'dict'>, {})\n",
            "DEBUG:numba.core.byteflow:----------------------DONE Prune PHIs-----------------------\n",
            "DEBUG:numba.core.byteflow:block_infos State(pc_initial=0 nstack_initial=0):\n",
            "AdaptBlockInfo(insts=((0, {}), (2, {'res': '$x2.0'}), (4, {'res': '$const4.1'}), (6, {'index': '$const4.1', 'target': '$x2.0', 'res': '$6binary_subscr.2'}), (8, {'res': '$x8.3'}), (10, {'res': '$const10.4'}), (12, {'index': '$const10.4', 'target': '$x8.3', 'res': '$12binary_subscr.5'}), (14, {'lhs': '$6binary_subscr.2', 'rhs': '$12binary_subscr.5', 'res': '$14compare_op.6'}), (16, {'res': '$x16.7'}), (18, {'res': '$const18.8'}), (20, {'index': '$const18.8', 'target': '$x16.7', 'res': '$20binary_subscr.9'}), (22, {'res': '$x22.10'}), (24, {'res': '$const24.11'}), (26, {'index': '$const24.11', 'target': '$x22.10', 'res': '$26binary_subscr.12'}), (28, {'lhs': '$20binary_subscr.9', 'rhs': '$26binary_subscr.12', 'res': '$28compare_op.13'}), (30, {'lhs': '$14compare_op.6', 'rhs': '$28compare_op.13', 'res': '$30binary_and.14'}), (32, {'retval': '$30binary_and.14', 'castval': '$32return_value.15'})), outgoing_phis={}, blockstack=(), active_try_block=None, outgoing_edgepushed={})\n",
            "DEBUG:numba.core.interpreter:label 0:\n",
            "    x = arg(0, name=x)                       ['x']\n",
            "    $const4.1 = const(int, 0)                ['$const4.1']\n",
            "    $6binary_subscr.2 = getitem(value=x, index=$const4.1, fn=<built-in function getitem>) ['$6binary_subscr.2', '$const4.1', 'x']\n",
            "    $const10.4 = const(int, -1)              ['$const10.4']\n",
            "    $12binary_subscr.5 = getitem(value=x, index=$const10.4, fn=<built-in function getitem>) ['$12binary_subscr.5', '$const10.4', 'x']\n",
            "    $14compare_op.6 = $6binary_subscr.2 < $12binary_subscr.5 ['$12binary_subscr.5', '$14compare_op.6', '$6binary_subscr.2']\n",
            "    $const18.8 = const(int, 0)               ['$const18.8']\n",
            "    $20binary_subscr.9 = getitem(value=x, index=$const18.8, fn=<built-in function getitem>) ['$20binary_subscr.9', '$const18.8', 'x']\n",
            "    $const24.11 = const(int, 1)              ['$const24.11']\n",
            "    $26binary_subscr.12 = getitem(value=x, index=$const24.11, fn=<built-in function getitem>) ['$26binary_subscr.12', '$const24.11', 'x']\n",
            "    $28compare_op.13 = $20binary_subscr.9 <= $26binary_subscr.12 ['$20binary_subscr.9', '$26binary_subscr.12', '$28compare_op.13']\n",
            "    $30binary_and.14 = $14compare_op.6 & $28compare_op.13 ['$14compare_op.6', '$28compare_op.13', '$30binary_and.14']\n",
            "    $32return_value.15 = cast(value=$30binary_and.14) ['$30binary_and.14', '$32return_value.15']\n",
            "    return $32return_value.15                ['$32return_value.15']\n",
            "\n",
            "Traceback (most recent call last):\n",
            "  File \"/content/vits/train.py\", line 23, in <module>\n",
            "    from models import (\n",
            "  File \"/content/vits/models.py\", line 10, in <module>\n",
            "    import monotonic_align\n",
            "  File \"/content/vits/monotonic_align/__init__.py\", line 3, in <module>\n",
            "    from .core import maximum_path_c\n",
            "ModuleNotFoundError: No module named 'monotonic_align.core'\n",
            "\u001b[0m"
          ]
        }
      ]
    },
    {
      "cell_type": "code",
      "source": [
        "!apt-get update\n",
        "!apt-get install python3.7"
      ],
      "metadata": {
        "colab": {
          "base_uri": "https://localhost:8080/"
        },
        "id": "Bvga0JrMDXl_",
        "outputId": "077864ed-c5c5-4075-9c2f-6648d6239bdc"
      },
      "execution_count": null,
      "outputs": [
        {
          "output_type": "stream",
          "name": "stdout",
          "text": [
            "Get:1 https://cloud.r-project.org/bin/linux/ubuntu jammy-cran40/ InRelease [3,626 B]\n",
            "Get:2 https://developer.download.nvidia.com/compute/cuda/repos/ubuntu2204/x86_64  InRelease [1,581 B]\n",
            "Get:3 https://cloud.r-project.org/bin/linux/ubuntu jammy-cran40/ Packages [59.5 kB]\n",
            "Get:4 http://security.ubuntu.com/ubuntu jammy-security InRelease [129 kB]\n",
            "Get:5 https://developer.download.nvidia.com/compute/cuda/repos/ubuntu2204/x86_64  Packages [1,107 kB]\n",
            "Hit:6 http://archive.ubuntu.com/ubuntu jammy InRelease\n",
            "Get:7 http://archive.ubuntu.com/ubuntu jammy-updates InRelease [128 kB]\n",
            "Get:8 https://r2u.stat.illinois.edu/ubuntu jammy InRelease [6,555 B]\n",
            "Get:9 https://ppa.launchpadcontent.net/deadsnakes/ppa/ubuntu jammy InRelease [18.1 kB]\n",
            "Get:10 https://r2u.stat.illinois.edu/ubuntu jammy/main all Packages [8,446 kB]\n",
            "Get:11 https://ppa.launchpadcontent.net/graphics-drivers/ppa/ubuntu jammy InRelease [24.3 kB]\n",
            "Get:12 http://security.ubuntu.com/ubuntu jammy-security/main amd64 Packages [2,391 kB]\n",
            "Hit:13 https://ppa.launchpadcontent.net/ubuntugis/ppa/ubuntu jammy InRelease\n",
            "Get:14 http://archive.ubuntu.com/ubuntu jammy-backports InRelease [127 kB]\n",
            "Get:15 https://ppa.launchpadcontent.net/deadsnakes/ppa/ubuntu jammy/main amd64 Packages [33.9 kB]\n",
            "Get:16 https://ppa.launchpadcontent.net/graphics-drivers/ppa/ubuntu jammy/main amd64 Packages [54.5 kB]\n",
            "Get:17 http://archive.ubuntu.com/ubuntu jammy-updates/multiverse amd64 Packages [51.8 kB]\n",
            "Get:18 http://archive.ubuntu.com/ubuntu jammy-updates/main amd64 Packages [2,672 kB]\n",
            "Get:19 http://security.ubuntu.com/ubuntu jammy-security/multiverse amd64 Packages [44.7 kB]\n",
            "Get:20 http://security.ubuntu.com/ubuntu jammy-security/restricted amd64 Packages [3,227 kB]\n",
            "Get:21 http://security.ubuntu.com/ubuntu jammy-security/universe amd64 Packages [1,163 kB]\n",
            "Get:22 http://archive.ubuntu.com/ubuntu jammy-updates/restricted amd64 Packages [3,319 kB]\n",
            "Get:23 http://archive.ubuntu.com/ubuntu jammy-updates/universe amd64 Packages [1,452 kB]\n",
            "Get:24 https://r2u.stat.illinois.edu/ubuntu jammy/main amd64 Packages [2,610 kB]\n",
            "Get:25 http://archive.ubuntu.com/ubuntu jammy-backports/universe amd64 Packages [33.7 kB]\n",
            "Get:26 http://archive.ubuntu.com/ubuntu jammy-backports/main amd64 Packages [81.4 kB]\n",
            "Fetched 27.2 MB in 5s (6,020 kB/s)\n",
            "Reading package lists... Done\n",
            "W: Skipping acquire of configured file 'main/source/Sources' as repository 'https://r2u.stat.illinois.edu/ubuntu jammy InRelease' does not seem to provide it (sources.list entry misspelt?)\n",
            "Reading package lists... Done\n",
            "Building dependency tree... Done\n",
            "Reading state information... Done\n",
            "The following additional packages will be installed:\n",
            "  libpython3.7-minimal libpython3.7-stdlib mailcap mime-support python3.7-minimal\n",
            "Suggested packages:\n",
            "  python3.7-venv binfmt-support\n",
            "The following NEW packages will be installed:\n",
            "  libpython3.7-minimal libpython3.7-stdlib mailcap mime-support python3.7 python3.7-minimal\n",
            "0 upgraded, 6 newly installed, 0 to remove and 94 not upgraded.\n",
            "Need to get 4,698 kB of archives.\n",
            "After this operation, 17.8 MB of additional disk space will be used.\n",
            "Get:1 http://archive.ubuntu.com/ubuntu jammy/main amd64 mailcap all 3.70+nmu1ubuntu1 [23.8 kB]\n",
            "Get:2 http://archive.ubuntu.com/ubuntu jammy/main amd64 mime-support all 3.66 [3,696 B]\n",
            "Get:3 https://ppa.launchpadcontent.net/deadsnakes/ppa/ubuntu jammy/main amd64 libpython3.7-minimal amd64 3.7.17-1+jammy1 [608 kB]\n",
            "Get:4 https://ppa.launchpadcontent.net/deadsnakes/ppa/ubuntu jammy/main amd64 python3.7-minimal amd64 3.7.17-1+jammy1 [1,837 kB]\n",
            "Get:5 https://ppa.launchpadcontent.net/deadsnakes/ppa/ubuntu jammy/main amd64 libpython3.7-stdlib amd64 3.7.17-1+jammy1 [1,864 kB]\n",
            "Get:6 https://ppa.launchpadcontent.net/deadsnakes/ppa/ubuntu jammy/main amd64 python3.7 amd64 3.7.17-1+jammy1 [362 kB]\n",
            "Fetched 4,698 kB in 3s (1,671 kB/s)\n",
            "Selecting previously unselected package libpython3.7-minimal:amd64.\n",
            "(Reading database ... 123929 files and directories currently installed.)\n",
            "Preparing to unpack .../0-libpython3.7-minimal_3.7.17-1+jammy1_amd64.deb ...\n",
            "Unpacking libpython3.7-minimal:amd64 (3.7.17-1+jammy1) ...\n",
            "Selecting previously unselected package python3.7-minimal.\n",
            "Preparing to unpack .../1-python3.7-minimal_3.7.17-1+jammy1_amd64.deb ...\n",
            "Unpacking python3.7-minimal (3.7.17-1+jammy1) ...\n",
            "Selecting previously unselected package mailcap.\n",
            "Preparing to unpack .../2-mailcap_3.70+nmu1ubuntu1_all.deb ...\n",
            "Unpacking mailcap (3.70+nmu1ubuntu1) ...\n",
            "Selecting previously unselected package mime-support.\n",
            "Preparing to unpack .../3-mime-support_3.66_all.deb ...\n",
            "Unpacking mime-support (3.66) ...\n",
            "Selecting previously unselected package libpython3.7-stdlib:amd64.\n",
            "Preparing to unpack .../4-libpython3.7-stdlib_3.7.17-1+jammy1_amd64.deb ...\n",
            "Unpacking libpython3.7-stdlib:amd64 (3.7.17-1+jammy1) ...\n",
            "Selecting previously unselected package python3.7.\n",
            "Preparing to unpack .../5-python3.7_3.7.17-1+jammy1_amd64.deb ...\n",
            "Unpacking python3.7 (3.7.17-1+jammy1) ...\n",
            "Setting up libpython3.7-minimal:amd64 (3.7.17-1+jammy1) ...\n",
            "Setting up python3.7-minimal (3.7.17-1+jammy1) ...\n",
            "Setting up mailcap (3.70+nmu1ubuntu1) ...\n",
            "Setting up mime-support (3.66) ...\n",
            "Setting up libpython3.7-stdlib:amd64 (3.7.17-1+jammy1) ...\n",
            "Setting up python3.7 (3.7.17-1+jammy1) ...\n",
            "Processing triggers for man-db (2.10.2-1) ...\n"
          ]
        }
      ]
    },
    {
      "cell_type": "code",
      "source": [
        "!apt-get install python3.7-dev\n",
        "!python3.7 -m venv /content/my_env"
      ],
      "metadata": {
        "colab": {
          "base_uri": "https://localhost:8080/"
        },
        "id": "8XpSjaAYDfwf",
        "outputId": "aa442499-93c9-435e-c7e9-a2152f3a2df2"
      },
      "execution_count": null,
      "outputs": [
        {
          "output_type": "stream",
          "name": "stdout",
          "text": [
            "Reading package lists... Done\n",
            "Building dependency tree... Done\n",
            "Reading state information... Done\n",
            "The following additional packages will be installed:\n",
            "  libpython3.7 libpython3.7-dev\n",
            "The following NEW packages will be installed:\n",
            "  libpython3.7 libpython3.7-dev python3.7-dev\n",
            "0 upgraded, 3 newly installed, 0 to remove and 94 not upgraded.\n",
            "Need to get 6,134 kB of archives.\n",
            "After this operation, 22.9 MB of additional disk space will be used.\n",
            "Get:1 https://ppa.launchpadcontent.net/deadsnakes/ppa/ubuntu jammy/main amd64 libpython3.7 amd64 3.7.17-1+jammy1 [1,653 kB]\n",
            "Get:2 https://ppa.launchpadcontent.net/deadsnakes/ppa/ubuntu jammy/main amd64 libpython3.7-dev amd64 3.7.17-1+jammy1 [3,981 kB]\n",
            "Get:3 https://ppa.launchpadcontent.net/deadsnakes/ppa/ubuntu jammy/main amd64 python3.7-dev amd64 3.7.17-1+jammy1 [500 kB]\n",
            "Fetched 6,134 kB in 3s (1,898 kB/s)\n",
            "Selecting previously unselected package libpython3.7:amd64.\n",
            "(Reading database ... 124574 files and directories currently installed.)\n",
            "Preparing to unpack .../libpython3.7_3.7.17-1+jammy1_amd64.deb ...\n",
            "Unpacking libpython3.7:amd64 (3.7.17-1+jammy1) ...\n",
            "Selecting previously unselected package libpython3.7-dev:amd64.\n",
            "Preparing to unpack .../libpython3.7-dev_3.7.17-1+jammy1_amd64.deb ...\n",
            "Unpacking libpython3.7-dev:amd64 (3.7.17-1+jammy1) ...\n",
            "Selecting previously unselected package python3.7-dev.\n",
            "Preparing to unpack .../python3.7-dev_3.7.17-1+jammy1_amd64.deb ...\n",
            "Unpacking python3.7-dev (3.7.17-1+jammy1) ...\n",
            "Setting up libpython3.7:amd64 (3.7.17-1+jammy1) ...\n",
            "Setting up libpython3.7-dev:amd64 (3.7.17-1+jammy1) ...\n",
            "Setting up python3.7-dev (3.7.17-1+jammy1) ...\n",
            "Processing triggers for man-db (2.10.2-1) ...\n",
            "Error: Command '['/content/my_env/bin/python3.7', '-Im', 'ensurepip', '--upgrade', '--default-pip']' returned non-zero exit status 1.\n"
          ]
        }
      ]
    },
    {
      "cell_type": "code",
      "source": [
        "!python3.7 -m venv /content/my_env --without-pip"
      ],
      "metadata": {
        "id": "iF56EmTQDjnP"
      },
      "execution_count": null,
      "outputs": []
    },
    {
      "cell_type": "code",
      "source": [
        "!python3.7 -m venv /content/my_env --without-pip"
      ],
      "metadata": {
        "id": "FABKT9uVEDud"
      },
      "execution_count": null,
      "outputs": []
    },
    {
      "cell_type": "code",
      "source": [
        "!source /content/my_env/bin/activate"
      ],
      "metadata": {
        "id": "BL1qGdNyEJWl"
      },
      "execution_count": null,
      "outputs": []
    },
    {
      "cell_type": "code",
      "source": [
        "!wget https://bootstrap.pypa.io/get-pip.py\n"
      ],
      "metadata": {
        "colab": {
          "base_uri": "https://localhost:8080/"
        },
        "id": "qvuKan2LELkN",
        "outputId": "3078b6df-7341-4208-be1e-1514b3954ccc"
      },
      "execution_count": null,
      "outputs": [
        {
          "output_type": "stream",
          "name": "stdout",
          "text": [
            "--2024-11-05 20:42:45--  https://bootstrap.pypa.io/get-pip.py\n",
            "Resolving bootstrap.pypa.io (bootstrap.pypa.io)... 151.101.0.175, 151.101.64.175, 151.101.128.175, ...\n",
            "Connecting to bootstrap.pypa.io (bootstrap.pypa.io)|151.101.0.175|:443... connected.\n",
            "HTTP request sent, awaiting response... 200 OK\n",
            "Length: 2275758 (2.2M) [text/x-python]\n",
            "Saving to: ‘get-pip.py’\n",
            "\n",
            "\rget-pip.py            0%[                    ]       0  --.-KB/s               \rget-pip.py          100%[===================>]   2.17M  --.-KB/s    in 0.08s   \n",
            "\n",
            "2024-11-05 20:42:45 (26.2 MB/s) - ‘get-pip.py’ saved [2275758/2275758]\n",
            "\n"
          ]
        }
      ]
    },
    {
      "cell_type": "code",
      "source": [
        "!python get-pip.py"
      ],
      "metadata": {
        "colab": {
          "base_uri": "https://localhost:8080/"
        },
        "id": "ulLWKScjELh-",
        "outputId": "5c5ef04a-8c5d-410f-d60e-f4dcc3c7eee6"
      },
      "execution_count": null,
      "outputs": [
        {
          "output_type": "stream",
          "name": "stdout",
          "text": [
            "Collecting pip\n",
            "  Downloading pip-24.3.1-py3-none-any.whl.metadata (3.7 kB)\n",
            "Downloading pip-24.3.1-py3-none-any.whl (1.8 MB)\n",
            "\u001b[2K   \u001b[90m━━━━━━━━━━━━━━━━━━━━━━━━━━━━━━━━━━━━━━━━\u001b[0m \u001b[32m1.8/1.8 MB\u001b[0m \u001b[31m7.7 MB/s\u001b[0m eta \u001b[36m0:00:00\u001b[0m\n",
            "\u001b[?25hInstalling collected packages: pip\n",
            "  Attempting uninstall: pip\n",
            "    Found existing installation: pip 24.1.2\n",
            "    Uninstalling pip-24.1.2:\n",
            "      Successfully uninstalled pip-24.1.2\n",
            "Successfully installed pip-24.3.1\n"
          ]
        }
      ]
    },
    {
      "cell_type": "code",
      "source": [
        "%%capture\n",
        "!pip install -r requirements.txt"
      ],
      "metadata": {
        "id": "crpDy9I2EXy4"
      },
      "execution_count": null,
      "outputs": []
    },
    {
      "cell_type": "code",
      "source": [
        "%cd /content/vits/monotonic_align\n"
      ],
      "metadata": {
        "colab": {
          "base_uri": "https://localhost:8080/"
        },
        "id": "UQTjSdmfEZq-",
        "outputId": "a670aee3-8cc2-43b1-f663-8cecfa019eca"
      },
      "execution_count": null,
      "outputs": [
        {
          "output_type": "stream",
          "name": "stdout",
          "text": [
            "/content/vits/monotonic_align\n"
          ]
        }
      ]
    },
    {
      "cell_type": "code",
      "source": [
        "!python setup.py build_ext --inplace"
      ],
      "metadata": {
        "colab": {
          "base_uri": "https://localhost:8080/"
        },
        "id": "InlvZ_fGEZnl",
        "outputId": "e20140b5-8539-4458-ad1a-d2d21da8b8c6"
      },
      "execution_count": null,
      "outputs": [
        {
          "output_type": "stream",
          "name": "stdout",
          "text": [
            "error: could not create 'monotonic_align/core.cpython-310-x86_64-linux-gnu.so': No such file or directory\n"
          ]
        }
      ]
    },
    {
      "cell_type": "code",
      "source": [],
      "metadata": {
        "id": "MjQu7MapEZk1"
      },
      "execution_count": null,
      "outputs": []
    },
    {
      "cell_type": "code",
      "source": [],
      "metadata": {
        "id": "bBnV2RxCEZiG"
      },
      "execution_count": null,
      "outputs": []
    },
    {
      "cell_type": "code",
      "source": [
        "!pip --version"
      ],
      "metadata": {
        "colab": {
          "base_uri": "https://localhost:8080/"
        },
        "id": "lZe4aS0pELfV",
        "outputId": "6368b05b-61cc-4add-a15d-e8153da0c367"
      },
      "execution_count": null,
      "outputs": [
        {
          "output_type": "stream",
          "name": "stdout",
          "text": [
            "pip 24.3.1 from /usr/local/lib/python3.10/dist-packages/pip (python 3.10)\n"
          ]
        }
      ]
    }
  ]
}