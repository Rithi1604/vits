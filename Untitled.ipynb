{
 "cells": [
  {
   "cell_type": "code",
   "execution_count": 3,
   "id": "0222dcad-ce12-43f1-b6c7-b7da9e6aaa57",
   "metadata": {},
   "outputs": [
    {
     "name": "stdout",
     "output_type": "stream",
     "text": [
      "C:\\Users\\rithe\\Downloads\\train-20241105T181919Z-001\\vits\n"
     ]
    },
    {
     "name": "stderr",
     "output_type": "stream",
     "text": [
      "Cloning into 'vits'...\n"
     ]
    }
   ],
   "source": [
    "!git clone https://github.com/jaywalnut310/vits.git\n",
    "%cd vits\n"
   ]
  },
  {
   "cell_type": "code",
   "execution_count": 9,
   "id": "19f3159c-a794-40f1-9d6f-ad68e08d01d3",
   "metadata": {},
   "outputs": [
    {
     "name": "stdout",
     "output_type": "stream",
     "text": [
      "Requirement already satisfied: pip in c:\\users\\rithe\\appdata\\local\\programs\\python\\python310\\lib\\site-packages (23.2.1)\n",
      "Collecting pip\n",
      "  Obtaining dependency information for pip from https://files.pythonhosted.org/packages/ef/7d/500c9ad20238fcfcb4cb9243eede163594d7020ce87bd9610c9e02771876/pip-24.3.1-py3-none-any.whl.metadata\n",
      "  Downloading pip-24.3.1-py3-none-any.whl.metadata (3.7 kB)\n",
      "Requirement already satisfied: setuptools in c:\\users\\rithe\\appdata\\local\\programs\\python\\python310\\lib\\site-packages (63.2.0)\n",
      "Collecting setuptools\n",
      "  Obtaining dependency information for setuptools from https://files.pythonhosted.org/packages/90/12/282ee9bce8b58130cb762fbc9beabd531549952cac11fc56add11dcb7ea0/setuptools-75.3.0-py3-none-any.whl.metadata\n",
      "  Downloading setuptools-75.3.0-py3-none-any.whl.metadata (6.9 kB)\n",
      "Downloading pip-24.3.1-py3-none-any.whl (1.8 MB)\n",
      "   ---------------------------------------- 1.8/1.8 MB 1.7 MB/s eta 0:00:00\n",
      "Downloading setuptools-75.3.0-py3-none-any.whl (1.3 MB)\n",
      "   ---------------------------------------- 1.3/1.3 MB 2.0 MB/s eta 0:00:00\n",
      "Installing collected packages: setuptools, pip\n",
      "  Attempting uninstall: setuptools\n",
      "    Found existing installation: setuptools 63.2.0\n",
      "    Uninstalling setuptools-63.2.0:\n",
      "      Successfully uninstalled setuptools-63.2.0\n",
      "  Attempting uninstall: pip\n",
      "    Found existing installation: pip 23.2.1\n",
      "    Uninstalling pip-23.2.1:\n",
      "      Successfully uninstalled pip-23.2.1\n",
      "Successfully installed pip-24.3.1 setuptools-75.3.0\n",
      "Note: you may need to restart the kernel to use updated packages.\n"
     ]
    },
    {
     "name": "stderr",
     "output_type": "stream",
     "text": [
      "WARNING: Ignoring invalid distribution - (c:\\users\\rithe\\appdata\\local\\programs\\python\\python310\\lib\\site-packages)\n",
      "WARNING: Ignoring invalid distribution -ip (c:\\users\\rithe\\appdata\\local\\programs\\python\\python310\\lib\\site-packages)\n",
      "WARNING: Ignoring invalid distribution - (c:\\users\\rithe\\appdata\\local\\programs\\python\\python310\\lib\\site-packages)\n",
      "WARNING: Ignoring invalid distribution -ip (c:\\users\\rithe\\appdata\\local\\programs\\python\\python310\\lib\\site-packages)\n"
     ]
    }
   ],
   "source": [
    "pip install --upgrade pip setuptools\n"
   ]
  },
  {
   "cell_type": "code",
   "execution_count": 30,
   "id": "ab42ea7c-8911-44df-8607-5cb0686ba5ea",
   "metadata": {},
   "outputs": [
    {
     "name": "stdout",
     "output_type": "stream",
     "text": [
      "Requirement already satisfied: Cython in c:\\users\\rithe\\anaconda3\\lib\\site-packages (from -r requirements.txt (line 1)) (0.29.21)\n",
      "Requirement already satisfied: librosa in c:\\users\\rithe\\anaconda3\\lib\\site-packages (from -r requirements.txt (line 2)) (0.8.0)\n",
      "Requirement already satisfied: matplotlib in c:\\users\\rithe\\anaconda3\\lib\\site-packages (from -r requirements.txt (line 3)) (3.8.4)\n",
      "Requirement already satisfied: numpy in c:\\users\\rithe\\anaconda3\\lib\\site-packages (from -r requirements.txt (line 4)) (1.26.4)\n",
      "Requirement already satisfied: phonemizer in c:\\users\\rithe\\anaconda3\\lib\\site-packages (from -r requirements.txt (line 5)) (2.2.1)\n",
      "Requirement already satisfied: scipy in c:\\users\\rithe\\anaconda3\\lib\\site-packages (from -r requirements.txt (line 6)) (1.13.1)\n",
      "Requirement already satisfied: tensorboard in c:\\users\\rithe\\anaconda3\\lib\\site-packages (from -r requirements.txt (line 7)) (2.3.0)\n",
      "Collecting torch (from -r requirements.txt (line 8))\n",
      "  Downloading torch-2.5.1-cp312-cp312-win_amd64.whl.metadata (28 kB)\n",
      "Collecting torchvision (from -r requirements.txt (line 9))\n",
      "  Downloading torchvision-0.20.1-cp312-cp312-win_amd64.whl.metadata (6.2 kB)\n",
      "Requirement already satisfied: Unidecode in c:\\users\\rithe\\anaconda3\\lib\\site-packages (from -r requirements.txt (line 10)) (1.1.1)\n",
      "Requirement already satisfied: audioread>=2.0.0 in c:\\users\\rithe\\anaconda3\\lib\\site-packages (from librosa->-r requirements.txt (line 2)) (3.0.1)\n",
      "Requirement already satisfied: scikit-learn!=0.19.0,>=0.14.0 in c:\\users\\rithe\\anaconda3\\lib\\site-packages (from librosa->-r requirements.txt (line 2)) (1.4.2)\n",
      "Requirement already satisfied: joblib>=0.14 in c:\\users\\rithe\\anaconda3\\lib\\site-packages (from librosa->-r requirements.txt (line 2)) (1.4.2)\n",
      "Requirement already satisfied: decorator>=3.0.0 in c:\\users\\rithe\\anaconda3\\lib\\site-packages (from librosa->-r requirements.txt (line 2)) (5.1.1)\n",
      "Requirement already satisfied: resampy>=0.2.2 in c:\\users\\rithe\\anaconda3\\lib\\site-packages (from librosa->-r requirements.txt (line 2)) (0.4.3)\n",
      "Requirement already satisfied: numba>=0.43.0 in c:\\users\\rithe\\anaconda3\\lib\\site-packages (from librosa->-r requirements.txt (line 2)) (0.59.1)\n",
      "Requirement already satisfied: soundfile>=0.9.0 in c:\\users\\rithe\\anaconda3\\lib\\site-packages (from librosa->-r requirements.txt (line 2)) (0.12.1)\n",
      "Requirement already satisfied: pooch>=1.0 in c:\\users\\rithe\\anaconda3\\lib\\site-packages (from librosa->-r requirements.txt (line 2)) (1.8.2)\n",
      "Requirement already satisfied: contourpy>=1.0.1 in c:\\users\\rithe\\anaconda3\\lib\\site-packages (from matplotlib->-r requirements.txt (line 3)) (1.2.0)\n",
      "Requirement already satisfied: cycler>=0.10 in c:\\users\\rithe\\anaconda3\\lib\\site-packages (from matplotlib->-r requirements.txt (line 3)) (0.11.0)\n",
      "Requirement already satisfied: fonttools>=4.22.0 in c:\\users\\rithe\\anaconda3\\lib\\site-packages (from matplotlib->-r requirements.txt (line 3)) (4.51.0)\n",
      "Requirement already satisfied: kiwisolver>=1.3.1 in c:\\users\\rithe\\anaconda3\\lib\\site-packages (from matplotlib->-r requirements.txt (line 3)) (1.4.4)\n",
      "Requirement already satisfied: packaging>=20.0 in c:\\users\\rithe\\anaconda3\\lib\\site-packages (from matplotlib->-r requirements.txt (line 3)) (23.2)\n",
      "Requirement already satisfied: pillow>=8 in c:\\users\\rithe\\anaconda3\\lib\\site-packages (from matplotlib->-r requirements.txt (line 3)) (10.3.0)\n",
      "Requirement already satisfied: pyparsing>=2.3.1 in c:\\users\\rithe\\anaconda3\\lib\\site-packages (from matplotlib->-r requirements.txt (line 3)) (3.0.9)\n",
      "Requirement already satisfied: python-dateutil>=2.7 in c:\\users\\rithe\\anaconda3\\lib\\site-packages (from matplotlib->-r requirements.txt (line 3)) (2.9.0.post0)\n",
      "Requirement already satisfied: segments in c:\\users\\rithe\\anaconda3\\lib\\site-packages (from phonemizer->-r requirements.txt (line 5)) (2.2.1)\n",
      "Requirement already satisfied: attrs>=18.1 in c:\\users\\rithe\\anaconda3\\lib\\site-packages (from phonemizer->-r requirements.txt (line 5)) (23.1.0)\n",
      "Requirement already satisfied: absl-py>=0.4 in c:\\users\\rithe\\anaconda3\\lib\\site-packages (from tensorboard->-r requirements.txt (line 7)) (2.1.0)\n",
      "Requirement already satisfied: grpcio>=1.24.3 in c:\\users\\rithe\\anaconda3\\lib\\site-packages (from tensorboard->-r requirements.txt (line 7)) (1.66.1)\n",
      "Requirement already satisfied: google-auth<2,>=1.6.3 in c:\\users\\rithe\\anaconda3\\lib\\site-packages (from tensorboard->-r requirements.txt (line 7)) (1.35.0)\n",
      "Requirement already satisfied: google-auth-oauthlib<0.5,>=0.4.1 in c:\\users\\rithe\\anaconda3\\lib\\site-packages (from tensorboard->-r requirements.txt (line 7)) (0.4.6)\n",
      "Requirement already satisfied: markdown>=2.6.8 in c:\\users\\rithe\\anaconda3\\lib\\site-packages (from tensorboard->-r requirements.txt (line 7)) (3.4.1)\n",
      "Requirement already satisfied: protobuf>=3.6.0 in c:\\users\\rithe\\anaconda3\\lib\\site-packages (from tensorboard->-r requirements.txt (line 7)) (4.25.5)\n",
      "Requirement already satisfied: requests<3,>=2.21.0 in c:\\users\\rithe\\anaconda3\\lib\\site-packages (from tensorboard->-r requirements.txt (line 7)) (2.32.2)\n",
      "Requirement already satisfied: setuptools>=41.0.0 in c:\\users\\rithe\\anaconda3\\lib\\site-packages (from tensorboard->-r requirements.txt (line 7)) (69.5.1)\n",
      "Requirement already satisfied: six>=1.10.0 in c:\\users\\rithe\\anaconda3\\lib\\site-packages (from tensorboard->-r requirements.txt (line 7)) (1.16.0)\n",
      "Requirement already satisfied: tensorboard-plugin-wit>=1.6.0 in c:\\users\\rithe\\anaconda3\\lib\\site-packages (from tensorboard->-r requirements.txt (line 7)) (1.8.1)\n",
      "Requirement already satisfied: werkzeug>=0.11.15 in c:\\users\\rithe\\anaconda3\\lib\\site-packages (from tensorboard->-r requirements.txt (line 7)) (2.2.3)\n",
      "Requirement already satisfied: wheel>=0.26 in c:\\users\\rithe\\anaconda3\\lib\\site-packages (from tensorboard->-r requirements.txt (line 7)) (0.43.0)\n",
      "Requirement already satisfied: filelock in c:\\users\\rithe\\anaconda3\\lib\\site-packages (from torch->-r requirements.txt (line 8)) (3.13.1)\n",
      "Requirement already satisfied: typing-extensions>=4.8.0 in c:\\users\\rithe\\anaconda3\\lib\\site-packages (from torch->-r requirements.txt (line 8)) (4.11.0)\n",
      "Requirement already satisfied: networkx in c:\\users\\rithe\\anaconda3\\lib\\site-packages (from torch->-r requirements.txt (line 8)) (3.2.1)\n",
      "Requirement already satisfied: jinja2 in c:\\users\\rithe\\anaconda3\\lib\\site-packages (from torch->-r requirements.txt (line 8)) (3.1.4)\n",
      "Requirement already satisfied: fsspec in c:\\users\\rithe\\anaconda3\\lib\\site-packages (from torch->-r requirements.txt (line 8)) (2024.9.0)\n",
      "Collecting sympy==1.13.1 (from torch->-r requirements.txt (line 8))\n",
      "  Downloading sympy-1.13.1-py3-none-any.whl.metadata (12 kB)\n",
      "Requirement already satisfied: mpmath<1.4,>=1.1.0 in c:\\users\\rithe\\anaconda3\\lib\\site-packages (from sympy==1.13.1->torch->-r requirements.txt (line 8)) (1.3.0)\n",
      "Requirement already satisfied: cachetools<5.0,>=2.0.0 in c:\\users\\rithe\\anaconda3\\lib\\site-packages (from google-auth<2,>=1.6.3->tensorboard->-r requirements.txt (line 7)) (4.2.4)\n",
      "Requirement already satisfied: pyasn1-modules>=0.2.1 in c:\\users\\rithe\\anaconda3\\lib\\site-packages (from google-auth<2,>=1.6.3->tensorboard->-r requirements.txt (line 7)) (0.2.8)\n",
      "Requirement already satisfied: rsa<5,>=3.1.4 in c:\\users\\rithe\\anaconda3\\lib\\site-packages (from google-auth<2,>=1.6.3->tensorboard->-r requirements.txt (line 7)) (4.9)\n",
      "Requirement already satisfied: requests-oauthlib>=0.7.0 in c:\\users\\rithe\\anaconda3\\lib\\site-packages (from google-auth-oauthlib<0.5,>=0.4.1->tensorboard->-r requirements.txt (line 7)) (2.0.0)\n",
      "Requirement already satisfied: llvmlite<0.43,>=0.42.0dev0 in c:\\users\\rithe\\anaconda3\\lib\\site-packages (from numba>=0.43.0->librosa->-r requirements.txt (line 2)) (0.42.0)\n",
      "Requirement already satisfied: platformdirs>=2.5.0 in c:\\users\\rithe\\anaconda3\\lib\\site-packages (from pooch>=1.0->librosa->-r requirements.txt (line 2)) (3.10.0)\n",
      "Requirement already satisfied: charset-normalizer<4,>=2 in c:\\users\\rithe\\anaconda3\\lib\\site-packages (from requests<3,>=2.21.0->tensorboard->-r requirements.txt (line 7)) (2.0.4)\n",
      "Requirement already satisfied: idna<4,>=2.5 in c:\\users\\rithe\\anaconda3\\lib\\site-packages (from requests<3,>=2.21.0->tensorboard->-r requirements.txt (line 7)) (3.7)\n",
      "Requirement already satisfied: urllib3<3,>=1.21.1 in c:\\users\\rithe\\anaconda3\\lib\\site-packages (from requests<3,>=2.21.0->tensorboard->-r requirements.txt (line 7)) (2.2.2)\n",
      "Requirement already satisfied: certifi>=2017.4.17 in c:\\users\\rithe\\anaconda3\\lib\\site-packages (from requests<3,>=2.21.0->tensorboard->-r requirements.txt (line 7)) (2024.8.30)\n",
      "Requirement already satisfied: threadpoolctl>=2.0.0 in c:\\users\\rithe\\anaconda3\\lib\\site-packages (from scikit-learn!=0.19.0,>=0.14.0->librosa->-r requirements.txt (line 2)) (2.2.0)\n",
      "Requirement already satisfied: cffi>=1.0 in c:\\users\\rithe\\anaconda3\\lib\\site-packages (from soundfile>=0.9.0->librosa->-r requirements.txt (line 2)) (1.16.0)\n",
      "Requirement already satisfied: MarkupSafe>=2.1.1 in c:\\users\\rithe\\anaconda3\\lib\\site-packages (from werkzeug>=0.11.15->tensorboard->-r requirements.txt (line 7)) (2.1.3)\n",
      "Requirement already satisfied: clldutils>=1.7.3 in c:\\users\\rithe\\anaconda3\\lib\\site-packages (from segments->phonemizer->-r requirements.txt (line 5)) (3.24.0)\n",
      "Requirement already satisfied: csvw>=1.5.6 in c:\\users\\rithe\\anaconda3\\lib\\site-packages (from segments->phonemizer->-r requirements.txt (line 5)) (3.5.1)\n",
      "Requirement already satisfied: regex in c:\\users\\rithe\\anaconda3\\lib\\site-packages (from segments->phonemizer->-r requirements.txt (line 5)) (2023.10.3)\n",
      "Requirement already satisfied: pycparser in c:\\users\\rithe\\anaconda3\\lib\\site-packages (from cffi>=1.0->soundfile>=0.9.0->librosa->-r requirements.txt (line 2)) (2.21)\n",
      "Requirement already satisfied: tabulate>=0.7.7 in c:\\users\\rithe\\anaconda3\\lib\\site-packages (from clldutils>=1.7.3->segments->phonemizer->-r requirements.txt (line 5)) (0.9.0)\n",
      "Requirement already satisfied: colorlog in c:\\users\\rithe\\anaconda3\\lib\\site-packages (from clldutils>=1.7.3->segments->phonemizer->-r requirements.txt (line 5)) (6.8.2)\n",
      "Requirement already satisfied: bibtexparser>=2.0.0b4 in c:\\users\\rithe\\anaconda3\\lib\\site-packages (from clldutils>=1.7.3->segments->phonemizer->-r requirements.txt (line 5)) (2.0.0b7)\n",
      "Requirement already satisfied: pylatexenc in c:\\users\\rithe\\anaconda3\\lib\\site-packages (from clldutils>=1.7.3->segments->phonemizer->-r requirements.txt (line 5)) (2.10)\n",
      "Requirement already satisfied: lxml in c:\\users\\rithe\\anaconda3\\lib\\site-packages (from clldutils>=1.7.3->segments->phonemizer->-r requirements.txt (line 5)) (5.2.1)\n",
      "Requirement already satisfied: isodate in c:\\users\\rithe\\anaconda3\\lib\\site-packages (from csvw>=1.5.6->segments->phonemizer->-r requirements.txt (line 5)) (0.6.1)\n",
      "Requirement already satisfied: rfc3986<2 in c:\\users\\rithe\\anaconda3\\lib\\site-packages (from csvw>=1.5.6->segments->phonemizer->-r requirements.txt (line 5)) (1.5.0)\n",
      "Requirement already satisfied: uritemplate>=3.0.0 in c:\\users\\rithe\\anaconda3\\lib\\site-packages (from csvw>=1.5.6->segments->phonemizer->-r requirements.txt (line 5)) (4.1.1)\n",
      "Requirement already satisfied: babel in c:\\users\\rithe\\anaconda3\\lib\\site-packages (from csvw>=1.5.6->segments->phonemizer->-r requirements.txt (line 5)) (2.11.0)\n",
      "Requirement already satisfied: language-tags in c:\\users\\rithe\\anaconda3\\lib\\site-packages (from csvw>=1.5.6->segments->phonemizer->-r requirements.txt (line 5)) (1.2.0)\n",
      "Requirement already satisfied: rdflib in c:\\users\\rithe\\anaconda3\\lib\\site-packages (from csvw>=1.5.6->segments->phonemizer->-r requirements.txt (line 5)) (7.1.1)\n",
      "Requirement already satisfied: colorama in c:\\users\\rithe\\anaconda3\\lib\\site-packages (from csvw>=1.5.6->segments->phonemizer->-r requirements.txt (line 5)) (0.4.6)\n",
      "Requirement already satisfied: jsonschema in c:\\users\\rithe\\anaconda3\\lib\\site-packages (from csvw>=1.5.6->segments->phonemizer->-r requirements.txt (line 5)) (4.19.2)\n",
      "Requirement already satisfied: pyasn1<0.5.0,>=0.4.6 in c:\\users\\rithe\\anaconda3\\lib\\site-packages (from pyasn1-modules>=0.2.1->google-auth<2,>=1.6.3->tensorboard->-r requirements.txt (line 7)) (0.4.8)\n",
      "Requirement already satisfied: oauthlib>=3.0.0 in c:\\users\\rithe\\anaconda3\\lib\\site-packages (from requests-oauthlib>=0.7.0->google-auth-oauthlib<0.5,>=0.4.1->tensorboard->-r requirements.txt (line 7)) (3.2.2)\n",
      "Requirement already satisfied: pytz>=2015.7 in c:\\users\\rithe\\anaconda3\\lib\\site-packages (from babel->csvw>=1.5.6->segments->phonemizer->-r requirements.txt (line 5)) (2024.1)\n",
      "Requirement already satisfied: jsonschema-specifications>=2023.03.6 in c:\\users\\rithe\\anaconda3\\lib\\site-packages (from jsonschema->csvw>=1.5.6->segments->phonemizer->-r requirements.txt (line 5)) (2023.7.1)\n",
      "Requirement already satisfied: referencing>=0.28.4 in c:\\users\\rithe\\anaconda3\\lib\\site-packages (from jsonschema->csvw>=1.5.6->segments->phonemizer->-r requirements.txt (line 5)) (0.30.2)\n",
      "Requirement already satisfied: rpds-py>=0.7.1 in c:\\users\\rithe\\anaconda3\\lib\\site-packages (from jsonschema->csvw>=1.5.6->segments->phonemizer->-r requirements.txt (line 5)) (0.10.6)\n",
      "Downloading torch-2.5.1-cp312-cp312-win_amd64.whl (203.0 MB)\n",
      "   ---------------------------------------- 203.0/203.0 MB 4.1 MB/s eta 0:00:00\n",
      "Downloading sympy-1.13.1-py3-none-any.whl (6.2 MB)\n",
      "   ---------------------------------------- 6.2/6.2 MB 5.1 MB/s eta 0:00:00\n",
      "Downloading torchvision-0.20.1-cp312-cp312-win_amd64.whl (1.6 MB)\n",
      "   ---------------------------------------- 1.6/1.6 MB 5.9 MB/s eta 0:00:00\n",
      "Installing collected packages: sympy, torch, torchvision\n",
      "  Attempting uninstall: sympy\n",
      "    Found existing installation: sympy 1.12\n",
      "    Uninstalling sympy-1.12:\n",
      "      Successfully uninstalled sympy-1.12\n",
      "Successfully installed sympy-1.13.1 torch-2.5.1 torchvision-0.20.1\n"
     ]
    }
   ],
   "source": [
    "!pip install -r requirements.txt"
   ]
  },
  {
   "cell_type": "code",
   "execution_count": 47,
   "id": "b6982ee2-ae79-4a6c-a46c-645286b70382",
   "metadata": {},
   "outputs": [
    {
     "ename": "SyntaxError",
     "evalue": "invalid syntax (2401311573.py, line 1)",
     "output_type": "error",
     "traceback": [
      "\u001b[1;36m  Input \u001b[1;32mIn [47]\u001b[1;36m\u001b[0m\n\u001b[1;33m    apt-get install y espeak\u001b[0m\n\u001b[1;37m            ^\u001b[0m\n\u001b[1;31mSyntaxError\u001b[0m\u001b[1;31m:\u001b[0m invalid syntax\n"
     ]
    }
   ],
   "source": [
    "apt-get install y espeak"
   ]
  },
  {
   "cell_type": "code",
   "execution_count": null,
   "id": "c0eaaf32-2598-426f-a308-f4c547f54c8f",
   "metadata": {},
   "outputs": [],
   "source": []
  },
  {
   "cell_type": "code",
   "execution_count": null,
   "id": "969eba18-8fcc-4c95-b840-102a92adc476",
   "metadata": {},
   "outputs": [],
   "source": []
  },
  {
   "cell_type": "code",
   "execution_count": null,
   "id": "bb3fa66d-9a0d-477c-bbde-76d1ebcc2311",
   "metadata": {},
   "outputs": [],
   "source": []
  }
 ],
 "metadata": {
  "kernelspec": {
   "display_name": "venv",
   "language": "python",
   "name": "venv"
  },
  "language_info": {
   "codemirror_mode": {
    "name": "ipython",
    "version": 3
   },
   "file_extension": ".py",
   "mimetype": "text/x-python",
   "name": "python",
   "nbconvert_exporter": "python",
   "pygments_lexer": "ipython3",
   "version": "3.10.6"
  }
 },
 "nbformat": 4,
 "nbformat_minor": 5
}
